{
 "cells": [
  {
   "cell_type": "code",
   "execution_count": 1,
   "id": "59fbea37-3196-4b7b-a550-92601b101ffe",
   "metadata": {},
   "outputs": [
    {
     "name": "stdout",
     "output_type": "stream",
     "text": [
      "Hello world\n"
     ]
    }
   ],
   "source": [
    "print(\"Hello world\")"
   ]
  },
  {
   "cell_type": "code",
   "execution_count": 2,
   "id": "d64c7a74-4873-42da-a12b-86430254e6e7",
   "metadata": {},
   "outputs": [
    {
     "name": "stdout",
     "output_type": "stream",
     "text": [
      "Hello world1\n",
      "Hello world2\n",
      "Hello world3\n",
      "Hello world4\n"
     ]
    }
   ],
   "source": [
    "print(\"Hello world1\")\n",
    "print(\"Hello world2\")\n",
    "print(\"Hello world3\")\n",
    "print(\"Hello world4\")"
   ]
  },
  {
   "cell_type": "code",
   "execution_count": 3,
   "id": "e4bcb4a5-7003-44d0-925a-ba8c1fc76320",
   "metadata": {},
   "outputs": [
    {
     "name": "stdout",
     "output_type": "stream",
     "text": [
      "Hello Namrata\n"
     ]
    }
   ],
   "source": [
    "print(\"Hello Namrata\")"
   ]
  },
  {
   "cell_type": "code",
   "execution_count": 4,
   "id": "c3774ac3-ec3c-4a32-822c-6589d4f070b8",
   "metadata": {},
   "outputs": [
    {
     "name": "stdout",
     "output_type": "stream",
     "text": [
      "123456789\n"
     ]
    }
   ],
   "source": [
    "print(\"123456789\")"
   ]
  },
  {
   "cell_type": "code",
   "execution_count": 5,
   "id": "e29ac719-c8bc-4841-a385-98c902789b9d",
   "metadata": {},
   "outputs": [
    {
     "name": "stdout",
     "output_type": "stream",
     "text": [
      "hellow world\n"
     ]
    }
   ],
   "source": [
    "print(\"hellow world\")"
   ]
  },
  {
   "cell_type": "code",
   "execution_count": 6,
   "id": "0b057a2a-c876-42c8-bedd-484071399feb",
   "metadata": {},
   "outputs": [
    {
     "name": "stdout",
     "output_type": "stream",
     "text": [
      "num1\n",
      "num2\n",
      "num3\n",
      "num3\n",
      "num4\n",
      "num4\n"
     ]
    }
   ],
   "source": [
    "print(\"num1\")\n",
    "print(\"num2\")\n",
    "print(\"num3\")\n",
    "print(\"num3\")\n",
    "print(\"num4\")\n",
    "print(\"num4\")"
   ]
  },
  {
   "cell_type": "code",
   "execution_count": 7,
   "id": "eba4b3ca-22ba-423a-81a6-fafd1cedc4ef",
   "metadata": {},
   "outputs": [
    {
     "name": "stdout",
     "output_type": "stream",
     "text": [
      "num1+num2\n"
     ]
    }
   ],
   "source": [
    "print(\"num1+num2\")"
   ]
  },
  {
   "cell_type": "code",
   "execution_count": 8,
   "id": "90c81d48-34ea-43d9-89b0-8162586ebbe0",
   "metadata": {},
   "outputs": [
    {
     "name": "stdout",
     "output_type": "stream",
     "text": [
      "1+2\n"
     ]
    }
   ],
   "source": [
    "print(\"1+2\")"
   ]
  },
  {
   "cell_type": "code",
   "execution_count": 9,
   "id": "24d3c411-8f68-4343-beb3-d7fb13c76b94",
   "metadata": {},
   "outputs": [
    {
     "name": "stdout",
     "output_type": "stream",
     "text": [
      "num=1+num2=5\n"
     ]
    }
   ],
   "source": [
    "print(\"num=1+num2=5\")"
   ]
  },
  {
   "cell_type": "code",
   "execution_count": 10,
   "id": "01e53f9e-07c2-4b0f-b203-19182f113296",
   "metadata": {},
   "outputs": [
    {
     "name": "stdout",
     "output_type": "stream",
     "text": [
      "1*6\n"
     ]
    }
   ],
   "source": [
    "print(\"1*6\")"
   ]
  },
  {
   "cell_type": "code",
   "execution_count": 11,
   "id": "4ba9d318-5d3a-462b-b8c4-9af47f6dafb3",
   "metadata": {},
   "outputs": [
    {
     "name": "stdout",
     "output_type": "stream",
     "text": [
      "mumbai\n"
     ]
    }
   ],
   "source": [
    "print(\"mumbai\")"
   ]
  },
  {
   "cell_type": "code",
   "execution_count": 12,
   "id": "6275786a-f452-4051-a316-876479d4db6f",
   "metadata": {},
   "outputs": [
    {
     "name": "stdout",
     "output_type": "stream",
     "text": [
      "hello India\n"
     ]
    }
   ],
   "source": [
    "print(\"hello India\")"
   ]
  },
  {
   "cell_type": "code",
   "execution_count": 13,
   "id": "dd929cc6-2c2a-45d3-801e-d0d980992924",
   "metadata": {},
   "outputs": [
    {
     "name": "stdout",
     "output_type": "stream",
     "text": [
      "124095\n"
     ]
    }
   ],
   "source": [
    "print(\"124095\")"
   ]
  },
  {
   "cell_type": "code",
   "execution_count": 14,
   "id": "64a1f7bb-58c0-43ae-a195-26d5a13ddcb9",
   "metadata": {},
   "outputs": [
    {
     "name": "stdout",
     "output_type": "stream",
     "text": [
      "13\n"
     ]
    }
   ],
   "source": [
    "a=5\n",
    "b=8\n",
    "print(a+b)"
   ]
  },
  {
   "cell_type": "code",
   "execution_count": 15,
   "id": "ce86889d-612d-400c-b72e-1c159a883ad5",
   "metadata": {},
   "outputs": [
    {
     "name": "stdout",
     "output_type": "stream",
     "text": [
      "58\n"
     ]
    }
   ],
   "source": [
    "a=\"5\"\n",
    "b=\"8\"\n",
    "print(a+b)"
   ]
  },
  {
   "cell_type": "code",
   "execution_count": 2,
   "id": "d40fb37e-d257-4d39-80e4-262a27027e48",
   "metadata": {},
   "outputs": [
    {
     "name": "stdout",
     "output_type": "stream",
     "text": [
      "namrata\n"
     ]
    }
   ],
   "source": [
    "Fname=\"namrata\"\n",
    "print(Fname)\n"
   ]
  },
  {
   "cell_type": "code",
   "execution_count": 1,
   "id": "bec360a4-fc02-4971-b0bd-7e92298856ca",
   "metadata": {},
   "outputs": [
    {
     "ename": "SyntaxError",
     "evalue": "invalid decimal literal (2933092071.py, line 1)",
     "output_type": "error",
     "traceback": [
      "\u001b[1;36m  Cell \u001b[1;32mIn[1], line 1\u001b[1;36m\u001b[0m\n\u001b[1;33m    1name=\"namrata\"\u001b[0m\n\u001b[1;37m    ^\u001b[0m\n\u001b[1;31mSyntaxError\u001b[0m\u001b[1;31m:\u001b[0m invalid decimal literal\n"
     ]
    }
   ],
   "source": [
    "1name=\"namrata\"\n",
    "print(1name)"
   ]
  },
  {
   "cell_type": "code",
   "execution_count": 2,
   "id": "e4bc402d-3cba-45b3-8d57-c6bd0372756e",
   "metadata": {},
   "outputs": [
    {
     "ename": "NameError",
     "evalue": "name 'namrata' is not defined",
     "output_type": "error",
     "traceback": [
      "\u001b[1;31m---------------------------------------------------------------------------\u001b[0m",
      "\u001b[1;31mNameError\u001b[0m                                 Traceback (most recent call last)",
      "Cell \u001b[1;32mIn[2], line 1\u001b[0m\n\u001b[1;32m----> 1\u001b[0m Fname\u001b[38;5;241m=\u001b[39m\u001b[43mnamrata\u001b[49m\n\u001b[0;32m      2\u001b[0m \u001b[38;5;28mprint\u001b[39m(Fname)\n",
      "\u001b[1;31mNameError\u001b[0m: name 'namrata' is not defined"
     ]
    }
   ],
   "source": [
    "Fname=namrata\n",
    "print(Fname)"
   ]
  },
  {
   "cell_type": "code",
   "execution_count": 3,
   "id": "5a4f766a-bceb-429f-9e16-a5a3acdb9054",
   "metadata": {},
   "outputs": [
    {
     "ename": "SyntaxError",
     "evalue": "invalid syntax (3329683919.py, line 1)",
     "output_type": "error",
     "traceback": [
      "\u001b[1;36m  Cell \u001b[1;32mIn[3], line 1\u001b[1;36m\u001b[0m\n\u001b[1;33m    fname name=namrata\u001b[0m\n\u001b[1;37m          ^\u001b[0m\n\u001b[1;31mSyntaxError\u001b[0m\u001b[1;31m:\u001b[0m invalid syntax\n"
     ]
    }
   ],
   "source": [
    "fname name=namrata\n",
    "print(fname name)"
   ]
  },
  {
   "cell_type": "code",
   "execution_count": 4,
   "id": "0672e9c9-233a-4508-b067-751b61f68ace",
   "metadata": {},
   "outputs": [
    {
     "name": "stdout",
     "output_type": "stream",
     "text": [
      "namrata\n"
     ]
    }
   ],
   "source": [
    "fname_name=\"namrata\"\n",
    "print(fname_name)"
   ]
  },
  {
   "cell_type": "code",
   "execution_count": 5,
   "id": "1b952d5f-c204-4721-8b1b-b9ced3a7e7c5",
   "metadata": {},
   "outputs": [
    {
     "name": "stdout",
     "output_type": "stream",
     "text": [
      "22\n"
     ]
    }
   ],
   "source": [
    "x=7\n",
    "y=6\n",
    "z=9\n",
    "print(x+y+z)"
   ]
  },
  {
   "cell_type": "code",
   "execution_count": 6,
   "id": "dd0879bc-82aa-41cc-8380-ef182b8d2af0",
   "metadata": {},
   "outputs": [
    {
     "name": "stdout",
     "output_type": "stream",
     "text": [
      "24\n"
     ]
    }
   ],
   "source": [
    "x,y,z=7,8,9\n",
    "print(x+y+z)"
   ]
  },
  {
   "cell_type": "code",
   "execution_count": 7,
   "id": "2b4b3a12-7c31-455a-9e64-100920a5c678",
   "metadata": {},
   "outputs": [
    {
     "name": "stdout",
     "output_type": "stream",
     "text": [
      "3\n"
     ]
    }
   ],
   "source": [
    "a,b,c,d,e=1,2,3,4,5\n",
    "print(c)"
   ]
  },
  {
   "cell_type": "code",
   "execution_count": 8,
   "id": "c80cbd63-0c6f-472b-9802-29032f6a72ca",
   "metadata": {},
   "outputs": [
    {
     "ename": "ValueError",
     "evalue": "not enough values to unpack (expected 5, got 4)",
     "output_type": "error",
     "traceback": [
      "\u001b[1;31m---------------------------------------------------------------------------\u001b[0m",
      "\u001b[1;31mValueError\u001b[0m                                Traceback (most recent call last)",
      "Cell \u001b[1;32mIn[8], line 1\u001b[0m\n\u001b[1;32m----> 1\u001b[0m a,b,c,d,e\u001b[38;5;241m=\u001b[39m\u001b[38;5;241m1\u001b[39m,\u001b[38;5;241m2\u001b[39m,\u001b[38;5;241m3\u001b[39m,\u001b[38;5;241m4\u001b[39m\n\u001b[0;32m      2\u001b[0m \u001b[38;5;28mprint\u001b[39m(c)\n",
      "\u001b[1;31mValueError\u001b[0m: not enough values to unpack (expected 5, got 4)"
     ]
    }
   ],
   "source": [
    "a,b,c,d,e=1,2,3,4\n",
    "print(c)"
   ]
  },
  {
   "cell_type": "code",
   "execution_count": 9,
   "id": "b00f804d-021b-430f-b453-74227c52f419",
   "metadata": {},
   "outputs": [
    {
     "ename": "SyntaxError",
     "evalue": "invalid syntax (1767134315.py, line 2)",
     "output_type": "error",
     "traceback": [
      "\u001b[1;36m  Cell \u001b[1;32mIn[9], line 2\u001b[1;36m\u001b[0m\n\u001b[1;33m    second=\u001b[0m\n\u001b[1;37m           ^\u001b[0m\n\u001b[1;31mSyntaxError\u001b[0m\u001b[1;31m:\u001b[0m invalid syntax\n"
     ]
    }
   ],
   "source": [
    "first=89\n",
    "second=\n",
    "print(first+second)"
   ]
  },
  {
   "cell_type": "code",
   "execution_count": 10,
   "id": "4ee50e5b-b2bf-4efa-848c-fd38e81f6ae4",
   "metadata": {},
   "outputs": [
    {
     "name": "stdout",
     "output_type": "stream",
     "text": [
      "8\n"
     ]
    }
   ],
   "source": [
    "q=8\n",
    "w=8\n",
    "e=8\n",
    "r=8\n",
    "print(e)"
   ]
  },
  {
   "cell_type": "code",
   "execution_count": 11,
   "id": "fe8291a0-fa51-43ec-af79-f6833f73467b",
   "metadata": {},
   "outputs": [
    {
     "name": "stdout",
     "output_type": "stream",
     "text": [
      "8\n"
     ]
    }
   ],
   "source": [
    "q=w=e=r=8\n",
    "print(w)"
   ]
  },
  {
   "cell_type": "code",
   "execution_count": 12,
   "id": "e3d61333-6431-4fcb-986c-45664f73e129",
   "metadata": {},
   "outputs": [
    {
     "name": "stdout",
     "output_type": "stream",
     "text": [
      "0\n"
     ]
    }
   ],
   "source": [
    "a=s=9\n",
    "print(a-s)"
   ]
  },
  {
   "cell_type": "code",
   "execution_count": 13,
   "id": "92ec5d89-240e-4b5d-9a0d-37dd2ca6d723",
   "metadata": {},
   "outputs": [
    {
     "name": "stdout",
     "output_type": "stream",
     "text": [
      "15\n",
      "5\n",
      "50\n",
      "2.0\n"
     ]
    }
   ],
   "source": [
    "# This is calculater programme\n",
    "print(10+5)\n",
    "print(10-5)\n",
    "print(10*5)\n",
    "print(10/5)"
   ]
  },
  {
   "cell_type": "code",
   "execution_count": 14,
   "id": "0eba2900-2a01-41ae-b5e2-c4fb11b668d0",
   "metadata": {},
   "outputs": [
    {
     "name": "stdout",
     "output_type": "stream",
     "text": [
      "This is infobyte institute\n",
      "sector 20\n",
      "nerul,navi mumbai\n",
      "data analytics\n"
     ]
    }
   ],
   "source": [
    "print(\"This is infobyte institute\")\n",
    "#print(\"Above Union bank\")\n",
    "print(\"sector 20\")\n",
    "print(\"nerul,navi mumbai\")\n",
    "print(\"data analytics\")"
   ]
  },
  {
   "cell_type": "code",
   "execution_count": 15,
   "id": "44872ff5-8293-43c5-a51a-d53aa002e373",
   "metadata": {},
   "outputs": [
    {
     "name": "stdout",
     "output_type": "stream",
     "text": [
      "This is infobyte institute\n"
     ]
    },
    {
     "data": {
      "text/plain": [
       "'print(\"Above Union bank\")\\nprint(\"sector 20\")\\nprint(\"nerul,navi mumbai\")\\nprint(\"data analytics\")'"
      ]
     },
     "execution_count": 15,
     "metadata": {},
     "output_type": "execute_result"
    }
   ],
   "source": [
    "print(\"This is infobyte institute\")\n",
    "\"\"\"print(\"Above Union bank\")\n",
    "print(\"sector 20\")\n",
    "print(\"nerul,navi mumbai\")\n",
    "print(\"data analytics\")\"\"\""
   ]
  },
  {
   "cell_type": "code",
   "execution_count": 16,
   "id": "c034fe8f-2e5f-48d4-a680-ffcc0833f0b1",
   "metadata": {},
   "outputs": [
    {
     "name": "stdout",
     "output_type": "stream",
     "text": [
      "This is infobyte institute\n"
     ]
    },
    {
     "data": {
      "text/plain": [
       "'print(\"Above Union bank\")\\nprint(\"sector 20\")\\nprint(\"nerul,navi mumbai\")\\nprint(\"data analytics\")'"
      ]
     },
     "execution_count": 16,
     "metadata": {},
     "output_type": "execute_result"
    }
   ],
   "source": [
    "print(\"This is infobyte institute\")\n",
    "'''print(\"Above Union bank\")\n",
    "print(\"sector 20\")\n",
    "print(\"nerul,navi mumbai\")\n",
    "print(\"data analytics\")'''"
   ]
  },
  {
   "cell_type": "code",
   "execution_count": 17,
   "id": "96fc6b13-813b-4da3-9b85-213ff221b931",
   "metadata": {},
   "outputs": [
    {
     "ename": "SyntaxError",
     "evalue": "incomplete input (2916767506.py, line 2)",
     "output_type": "error",
     "traceback": [
      "\u001b[1;36m  Cell \u001b[1;32mIn[17], line 2\u001b[1;36m\u001b[0m\n\u001b[1;33m    \"\"\"print(\"Above Union bank\")\u001b[0m\n\u001b[1;37m    ^\u001b[0m\n\u001b[1;31mSyntaxError\u001b[0m\u001b[1;31m:\u001b[0m incomplete input\n"
     ]
    }
   ],
   "source": [
    "print(\"This is infobyte institute\")\n",
    "\"\"\"print(\"Above Union bank\")\n",
    "print(\"sector 20\")\n",
    "print(\"nerul,navi mumbai\")\n",
    "print(\"data analytics\")'''"
   ]
  },
  {
   "cell_type": "code",
   "execution_count": 18,
   "id": "8e21450e-b05d-4de5-8f28-ccc98c108fc4",
   "metadata": {},
   "outputs": [
    {
     "name": "stdout",
     "output_type": "stream",
     "text": [
      "6\n"
     ]
    }
   ],
   "source": [
    "a=s=d=f=6\n",
    "print(s)"
   ]
  },
  {
   "cell_type": "code",
   "execution_count": 19,
   "id": "8947372a-1424-406c-9650-5e4336ea76e7",
   "metadata": {},
   "outputs": [
    {
     "name": "stdout",
     "output_type": "stream",
     "text": [
      "2\n"
     ]
    }
   ],
   "source": [
    "\n",
    "a,s,d,f,g=1,2,3,3,4\n",
    "print(s)"
   ]
  },
  {
   "cell_type": "code",
   "execution_count": 20,
   "id": "50ef98d3-94f0-408b-aca9-25fad31ce560",
   "metadata": {},
   "outputs": [
    {
     "ename": "NameError",
     "evalue": "name 'S' is not defined",
     "output_type": "error",
     "traceback": [
      "\u001b[1;31m---------------------------------------------------------------------------\u001b[0m",
      "\u001b[1;31mNameError\u001b[0m                                 Traceback (most recent call last)",
      "Cell \u001b[1;32mIn[20], line 2\u001b[0m\n\u001b[0;32m      1\u001b[0m a,s,d,f,g\u001b[38;5;241m=\u001b[39m\u001b[38;5;241m1\u001b[39m,\u001b[38;5;241m2\u001b[39m,\u001b[38;5;241m3\u001b[39m,\u001b[38;5;241m3\u001b[39m,\u001b[38;5;241m4\u001b[39m\n\u001b[1;32m----> 2\u001b[0m \u001b[38;5;28mprint\u001b[39m(a\u001b[38;5;241m+\u001b[39m\u001b[43mS\u001b[49m)\n",
      "\u001b[1;31mNameError\u001b[0m: name 'S' is not defined"
     ]
    }
   ],
   "source": [
    "a,s,d,f,g=1,2,3,3,4\n",
    "print(a+S)"
   ]
  },
  {
   "cell_type": "code",
   "execution_count": 21,
   "id": "d069485f-1553-4c36-ad83-528f35f053c9",
   "metadata": {},
   "outputs": [
    {
     "name": "stdout",
     "output_type": "stream",
     "text": [
      "3\n"
     ]
    }
   ],
   "source": [
    "a,s,d,f,g=1,2,3,3,4\n",
    "print(a+s)"
   ]
  },
  {
   "cell_type": "code",
   "execution_count": 22,
   "id": "f23871b8-1bcd-456f-be58-a47db2d812e1",
   "metadata": {},
   "outputs": [
    {
     "name": "stdout",
     "output_type": "stream",
     "text": [
      "13\n"
     ]
    }
   ],
   "source": [
    "a,s,d,f,g=1,2,3,3,4\n",
    "print(a+s+d+f+g)"
   ]
  },
  {
   "cell_type": "code",
   "execution_count": 23,
   "id": "571ae346-7f21-42cc-a77a-4d47e421eb2d",
   "metadata": {},
   "outputs": [
    {
     "name": "stdout",
     "output_type": "stream",
     "text": [
      "12334\n"
     ]
    }
   ],
   "source": [
    "a,s,d,f,g=\"1\",\"2\",\"3\",\"3\",\"4\"\n",
    "print(a+s+d+f+g)"
   ]
  },
  {
   "cell_type": "code",
   "execution_count": 27,
   "id": "20b97014-6ef9-4c9f-ac55-3f84f90b3d63",
   "metadata": {},
   "outputs": [
    {
     "name": "stdout",
     "output_type": "stream",
     "text": [
      "183\n"
     ]
    }
   ],
   "source": [
    "#This is comment\n",
    "name=\"183\"\n",
    "print(name)"
   ]
  },
  {
   "cell_type": "code",
   "execution_count": 25,
   "id": "1c1bca9e-18df-4a49-9de6-adb69e553302",
   "metadata": {},
   "outputs": [
    {
     "name": "stdout",
     "output_type": "stream",
     "text": [
      "mango\n"
     ]
    }
   ],
   "source": [
    "var=\"mango\"\n",
    "print(var)"
   ]
  },
  {
   "cell_type": "code",
   "execution_count": 26,
   "id": "6497d7cd-5ca5-4fd9-b349-4015e1e9ab45",
   "metadata": {},
   "outputs": [
    {
     "name": "stdout",
     "output_type": "stream",
     "text": [
      "apple\n"
     ]
    }
   ],
   "source": [
    "var=\"apple\"\n",
    "print(var)"
   ]
  },
  {
   "cell_type": "code",
   "execution_count": 27,
   "id": "fa14b5bd-28ed-4f8a-b998-00bb4f005085",
   "metadata": {},
   "outputs": [
    {
     "name": "stdout",
     "output_type": "stream",
     "text": [
      "2334\n"
     ]
    }
   ],
   "source": [
    "fname=\"2334\"\n",
    "print(fname)"
   ]
  },
  {
   "cell_type": "code",
   "execution_count": 28,
   "id": "a7ca53c7-ec12-4995-ba4f-ba5b257aba43",
   "metadata": {},
   "outputs": [
    {
     "name": "stdout",
     "output_type": "stream",
     "text": [
      "235\n",
      "236\n"
     ]
    }
   ],
   "source": [
    "\n",
    "#print(\"234\")\n",
    "print(\"235\")\n",
    "print(\"236\")\n"
   ]
  },
  {
   "cell_type": "code",
   "execution_count": 29,
   "id": "709b6aeb-1e1a-4370-ab4d-5ba44389fc72",
   "metadata": {},
   "outputs": [
    {
     "data": {
      "text/plain": [
       "'print(\"234\")\\nprint(\"235\")\\nprint(\"236\")'"
      ]
     },
     "execution_count": 29,
     "metadata": {},
     "output_type": "execute_result"
    }
   ],
   "source": [
    "\"\"\"print(\"234\")\n",
    "print(\"235\")\n",
    "print(\"236\")\"\"\"\n"
   ]
  },
  {
   "cell_type": "code",
   "execution_count": 30,
   "id": "3e2dd487-87df-4785-8e74-3f1aa07bd7e3",
   "metadata": {},
   "outputs": [
    {
     "name": "stdout",
     "output_type": "stream",
     "text": [
      "236\n"
     ]
    }
   ],
   "source": [
    "\"\"\"print(\"234\")\n",
    "print(\"235\")\"\"\"\n",
    "print(\"236\")\n"
   ]
  },
  {
   "cell_type": "code",
   "execution_count": 31,
   "id": "b47548b1-665d-455f-8fdc-d424b2b7ca2b",
   "metadata": {},
   "outputs": [
    {
     "name": "stdout",
     "output_type": "stream",
     "text": [
      "236\n"
     ]
    }
   ],
   "source": [
    "'''print(\"234\")\n",
    "print(\"235\")'''\n",
    "print(\"236\")"
   ]
  },
  {
   "cell_type": "code",
   "execution_count": 32,
   "id": "61d4bd3d-22e4-4dd9-8725-842669a1ed8e",
   "metadata": {},
   "outputs": [
    {
     "ename": "SyntaxError",
     "evalue": "incomplete input (1749179645.py, line 1)",
     "output_type": "error",
     "traceback": [
      "\u001b[1;36m  Cell \u001b[1;32mIn[32], line 1\u001b[1;36m\u001b[0m\n\u001b[1;33m    '''print(\"234\")\u001b[0m\n\u001b[1;37m    ^\u001b[0m\n\u001b[1;31mSyntaxError\u001b[0m\u001b[1;31m:\u001b[0m incomplete input\n"
     ]
    }
   ],
   "source": [
    "'''print(\"234\")\n",
    "print(\"235\")\n",
    "print(\"236\")\"\"\""
   ]
  },
  {
   "cell_type": "code",
   "execution_count": 33,
   "id": "ca718986-45e6-4153-89e3-d97368745c06",
   "metadata": {},
   "outputs": [
    {
     "name": "stdout",
     "output_type": "stream",
     "text": [
      "234\n",
      "236\n"
     ]
    }
   ],
   "source": [
    "print(\"234\")\n",
    "#print(\"235\")\n",
    "print(\"236\")"
   ]
  },
  {
   "cell_type": "code",
   "execution_count": 34,
   "id": "6a986f57-1e14-42c4-ac68-d59f1fb604e4",
   "metadata": {},
   "outputs": [
    {
     "name": "stdout",
     "output_type": "stream",
     "text": [
      "8\n"
     ]
    }
   ],
   "source": [
    "a,d,f,g=2,3,4,5\n",
    "print(a*f)"
   ]
  },
  {
   "cell_type": "code",
   "execution_count": 35,
   "id": "ea330bf2-bddd-42db-81e9-efa07cb50168",
   "metadata": {},
   "outputs": [
    {
     "ename": "TypeError",
     "evalue": "can't multiply sequence by non-int of type 'str'",
     "output_type": "error",
     "traceback": [
      "\u001b[1;31m---------------------------------------------------------------------------\u001b[0m",
      "\u001b[1;31mTypeError\u001b[0m                                 Traceback (most recent call last)",
      "Cell \u001b[1;32mIn[35], line 2\u001b[0m\n\u001b[0;32m      1\u001b[0m a,d,f,g\u001b[38;5;241m=\u001b[39m\u001b[38;5;124m\"\u001b[39m\u001b[38;5;124m2\u001b[39m\u001b[38;5;124m\"\u001b[39m,\u001b[38;5;124m\"\u001b[39m\u001b[38;5;124m3\u001b[39m\u001b[38;5;124m\"\u001b[39m,\u001b[38;5;124m\"\u001b[39m\u001b[38;5;124m4\u001b[39m\u001b[38;5;124m\"\u001b[39m,\u001b[38;5;124m\"\u001b[39m\u001b[38;5;124m5\u001b[39m\u001b[38;5;124m\"\u001b[39m\n\u001b[1;32m----> 2\u001b[0m \u001b[38;5;28mprint\u001b[39m(\u001b[43ma\u001b[49m\u001b[38;5;241;43m*\u001b[39;49m\u001b[43mf\u001b[49m)\n",
      "\u001b[1;31mTypeError\u001b[0m: can't multiply sequence by non-int of type 'str'"
     ]
    }
   ],
   "source": [
    "a,d,f,g=\"2\",\"3\",\"4\",\"5\"\n",
    "print(a*f)"
   ]
  },
  {
   "cell_type": "code",
   "execution_count": 36,
   "id": "74ae2700-7d41-4f9c-bab2-17a41b6d542d",
   "metadata": {},
   "outputs": [
    {
     "ename": "TypeError",
     "evalue": "unsupported operand type(s) for -: 'str' and 'str'",
     "output_type": "error",
     "traceback": [
      "\u001b[1;31m---------------------------------------------------------------------------\u001b[0m",
      "\u001b[1;31mTypeError\u001b[0m                                 Traceback (most recent call last)",
      "Cell \u001b[1;32mIn[36], line 2\u001b[0m\n\u001b[0;32m      1\u001b[0m a,d,f,g\u001b[38;5;241m=\u001b[39m\u001b[38;5;124m\"\u001b[39m\u001b[38;5;124m2\u001b[39m\u001b[38;5;124m\"\u001b[39m,\u001b[38;5;124m\"\u001b[39m\u001b[38;5;124m3\u001b[39m\u001b[38;5;124m\"\u001b[39m,\u001b[38;5;124m\"\u001b[39m\u001b[38;5;124m4\u001b[39m\u001b[38;5;124m\"\u001b[39m,\u001b[38;5;124m\"\u001b[39m\u001b[38;5;124m5\u001b[39m\u001b[38;5;124m\"\u001b[39m\n\u001b[1;32m----> 2\u001b[0m \u001b[38;5;28mprint\u001b[39m(\u001b[43ma\u001b[49m\u001b[38;5;241;43m-\u001b[39;49m\u001b[43mf\u001b[49m)\n",
      "\u001b[1;31mTypeError\u001b[0m: unsupported operand type(s) for -: 'str' and 'str'"
     ]
    }
   ],
   "source": [
    "a,d,f,g=\"2\",\"3\",\"4\",\"5\"\n",
    "print(a-f)"
   ]
  },
  {
   "cell_type": "code",
   "execution_count": 37,
   "id": "767f8143-9e8b-439c-ac10-0696a2435625",
   "metadata": {},
   "outputs": [
    {
     "ename": "TypeError",
     "evalue": "unsupported operand type(s) for -: 'str' and 'str'",
     "output_type": "error",
     "traceback": [
      "\u001b[1;31m---------------------------------------------------------------------------\u001b[0m",
      "\u001b[1;31mTypeError\u001b[0m                                 Traceback (most recent call last)",
      "Cell \u001b[1;32mIn[37], line 2\u001b[0m\n\u001b[0;32m      1\u001b[0m a,d,f,g\u001b[38;5;241m=\u001b[39m\u001b[38;5;124m\"\u001b[39m\u001b[38;5;124m2\u001b[39m\u001b[38;5;124m\"\u001b[39m,\u001b[38;5;124m\"\u001b[39m\u001b[38;5;124m3\u001b[39m\u001b[38;5;124m\"\u001b[39m,\u001b[38;5;124m\"\u001b[39m\u001b[38;5;124m4\u001b[39m\u001b[38;5;124m\"\u001b[39m,\u001b[38;5;124m\"\u001b[39m\u001b[38;5;124m5\u001b[39m\u001b[38;5;124m\"\u001b[39m\n\u001b[1;32m----> 2\u001b[0m \u001b[38;5;28mprint\u001b[39m(\u001b[43ma\u001b[49m\u001b[38;5;241;43m-\u001b[39;49m\u001b[43md\u001b[49m\u001b[38;5;241m-\u001b[39mf\u001b[38;5;241m-\u001b[39mg)\n",
      "\u001b[1;31mTypeError\u001b[0m: unsupported operand type(s) for -: 'str' and 'str'"
     ]
    }
   ],
   "source": [
    "a,d,f,g=\"2\",\"3\",\"4\",\"5\"\n",
    "print(a-d-f-g)"
   ]
  },
  {
   "cell_type": "code",
   "execution_count": 38,
   "id": "d6832ac4-4c41-4dd1-b9d0-6855077fbf4b",
   "metadata": {},
   "outputs": [
    {
     "name": "stdout",
     "output_type": "stream",
     "text": [
      "2345\n"
     ]
    }
   ],
   "source": [
    "a,d,f,g=\"2\",\"3\",\"4\",\"5\"\n",
    "print(a+d+f+g)"
   ]
  },
  {
   "cell_type": "code",
   "execution_count": 39,
   "id": "36d66e6a-abdb-42c2-8050-bb8720101041",
   "metadata": {},
   "outputs": [
    {
     "name": "stdout",
     "output_type": "stream",
     "text": [
      "15\n"
     ]
    }
   ],
   "source": [
    "#This is comment\n",
    "print(10+5)"
   ]
  },
  {
   "cell_type": "code",
   "execution_count": 40,
   "id": "660aeefe-8261-4cb3-8b4e-f4128a9585c2",
   "metadata": {},
   "outputs": [
    {
     "ename": "TypeError",
     "evalue": "can only concatenate str (not \"int\") to str",
     "output_type": "error",
     "traceback": [
      "\u001b[1;31m---------------------------------------------------------------------------\u001b[0m",
      "\u001b[1;31mTypeError\u001b[0m                                 Traceback (most recent call last)",
      "Cell \u001b[1;32mIn[40], line 2\u001b[0m\n\u001b[0;32m      1\u001b[0m \u001b[38;5;66;03m#This is comment\u001b[39;00m\n\u001b[1;32m----> 2\u001b[0m \u001b[38;5;28mprint\u001b[39m(\u001b[43ma\u001b[49m\u001b[38;5;241;43m+\u001b[39;49m\u001b[43mb\u001b[49m)\n",
      "\u001b[1;31mTypeError\u001b[0m: can only concatenate str (not \"int\") to str"
     ]
    }
   ],
   "source": [
    "#This is comment\n",
    "print(a+b)"
   ]
  },
  {
   "cell_type": "code",
   "execution_count": 41,
   "id": "7d702340-91ed-4427-8d8a-487ebcbfa974",
   "metadata": {},
   "outputs": [
    {
     "name": "stdout",
     "output_type": "stream",
     "text": [
      "4\n"
     ]
    }
   ],
   "source": [
    "#This is comment\n",
    "print(2+b)"
   ]
  },
  {
   "cell_type": "code",
   "execution_count": 42,
   "id": "af9ee558-9002-4914-88f7-643b799d0d98",
   "metadata": {},
   "outputs": [
    {
     "ename": "TypeError",
     "evalue": "can only concatenate str (not \"int\") to str",
     "output_type": "error",
     "traceback": [
      "\u001b[1;31m---------------------------------------------------------------------------\u001b[0m",
      "\u001b[1;31mTypeError\u001b[0m                                 Traceback (most recent call last)",
      "Cell \u001b[1;32mIn[42], line 2\u001b[0m\n\u001b[0;32m      1\u001b[0m \u001b[38;5;66;03m#This is comment\u001b[39;00m\n\u001b[1;32m----> 2\u001b[0m \u001b[38;5;28mprint\u001b[39m(\u001b[43ma\u001b[49m\u001b[38;5;241;43m+\u001b[39;49m\u001b[38;5;241;43m5\u001b[39;49m)\n",
      "\u001b[1;31mTypeError\u001b[0m: can only concatenate str (not \"int\") to str"
     ]
    }
   ],
   "source": [
    "#This is comment\n",
    "print(a+5)"
   ]
  },
  {
   "cell_type": "code",
   "execution_count": 43,
   "id": "58fc05b2-f501-41e3-ab9c-6f4228850e10",
   "metadata": {},
   "outputs": [
    {
     "name": "stdout",
     "output_type": "stream",
     "text": [
      "123\n",
      "4546\n"
     ]
    }
   ],
   "source": [
    "#This is comment\n",
    "print(\"123\")\n",
    "print(\"4546\")"
   ]
  },
  {
   "cell_type": "code",
   "execution_count": 44,
   "id": "b99d72d1-34ca-4ea8-8bff-00ee781556a8",
   "metadata": {},
   "outputs": [
    {
     "data": {
      "text/plain": [
       "'This is comment\\nprint(\"123\")\\nprint(\"4546\")'"
      ]
     },
     "execution_count": 44,
     "metadata": {},
     "output_type": "execute_result"
    }
   ],
   "source": [
    "\"\"\"This is comment\n",
    "print(\"123\")\n",
    "print(\"4546\")\"\"\""
   ]
  },
  {
   "cell_type": "code",
   "execution_count": 45,
   "id": "b13fb4e8-f1a9-4e46-b98e-d66a11f959a8",
   "metadata": {},
   "outputs": [
    {
     "name": "stdout",
     "output_type": "stream",
     "text": [
      "5\n"
     ]
    }
   ],
   "source": [
    "#int\n",
    "var=5\n",
    "print(var)"
   ]
  },
  {
   "cell_type": "code",
   "execution_count": 46,
   "id": "43876ff9-c64d-4c08-a819-921b9b271b41",
   "metadata": {},
   "outputs": [
    {
     "name": "stdout",
     "output_type": "stream",
     "text": [
      "-45\n"
     ]
    }
   ],
   "source": [
    "var=-45\n",
    "print(var)"
   ]
  },
  {
   "cell_type": "code",
   "execution_count": 47,
   "id": "9aea3097-bc45-4475-a987-ef0809b6f110",
   "metadata": {},
   "outputs": [
    {
     "name": "stdout",
     "output_type": "stream",
     "text": [
      "45.78\n"
     ]
    }
   ],
   "source": [
    "#float\n",
    "var=45.78\n",
    "print(var)"
   ]
  },
  {
   "cell_type": "code",
   "execution_count": 48,
   "id": "38a63d28-05c6-4aed-9bf6-1fb897676eed",
   "metadata": {},
   "outputs": [
    {
     "name": "stdout",
     "output_type": "stream",
     "text": [
      "1j\n"
     ]
    }
   ],
   "source": [
    "#complex\n",
    "var2=1j\n",
    "print(var2)"
   ]
  },
  {
   "cell_type": "code",
   "execution_count": 49,
   "id": "fb9fb003-52ff-4f91-8be2-a4312376fc06",
   "metadata": {},
   "outputs": [
    {
     "name": "stdout",
     "output_type": "stream",
     "text": [
      "5j\n"
     ]
    }
   ],
   "source": [
    "var5=5j\n",
    "print(var5)"
   ]
  },
  {
   "cell_type": "code",
   "execution_count": 50,
   "id": "87736dc5-06f1-4418-9e49-bd12a0ae5720",
   "metadata": {},
   "outputs": [
    {
     "name": "stdout",
     "output_type": "stream",
     "text": [
      "True\n"
     ]
    }
   ],
   "source": [
    "#bool\n",
    "var6=True\n",
    "print(var6)"
   ]
  },
  {
   "cell_type": "code",
   "execution_count": 51,
   "id": "d456ffdf-aa44-41cd-b731-5b2f7243f1dd",
   "metadata": {},
   "outputs": [
    {
     "name": "stdout",
     "output_type": "stream",
     "text": [
      "False\n"
     ]
    }
   ],
   "source": [
    "var6=False\n",
    "print(var6)"
   ]
  },
  {
   "cell_type": "code",
   "execution_count": 52,
   "id": "953e5312-8fd3-498d-b9ab-1aa2a7421b39",
   "metadata": {},
   "outputs": [
    {
     "name": "stdout",
     "output_type": "stream",
     "text": [
      "whu74\n"
     ]
    }
   ],
   "source": [
    "str1=\"whu74\"\n",
    "print(str1)"
   ]
  },
  {
   "cell_type": "code",
   "execution_count": 53,
   "id": "c61134dc-e470-4cf2-bc01-a706513c7e9a",
   "metadata": {},
   "outputs": [
    {
     "name": "stdout",
     "output_type": "stream",
     "text": [
      "yygdey7\n"
     ]
    }
   ],
   "source": [
    "str=\"yygdey7\"\n",
    "print(str)"
   ]
  },
  {
   "cell_type": "code",
   "execution_count": 54,
   "id": "6cadff02-51de-4d6b-8419-a94c59144418",
   "metadata": {},
   "outputs": [
    {
     "name": "stdout",
     "output_type": "stream",
     "text": [
      "['Namrata', 'Shinde', 5, 7, 7, 1j, True]\n"
     ]
    }
   ],
   "source": [
    "\n",
    "li=[\"Namrata\",\"Shinde\",5,7,7,1j,True]\n",
    "print(li)"
   ]
  },
  {
   "cell_type": "code",
   "execution_count": 55,
   "id": "24ab6881-e5d1-40a0-aac2-e3ce0dea17f0",
   "metadata": {},
   "outputs": [
    {
     "name": "stdout",
     "output_type": "stream",
     "text": [
      "7\n"
     ]
    }
   ],
   "source": [
    "#len\n",
    "print(len(li))"
   ]
  },
  {
   "cell_type": "code",
   "execution_count": 56,
   "id": "35abd8e5-a5ef-4a3c-865a-db04368e84e8",
   "metadata": {},
   "outputs": [
    {
     "name": "stdout",
     "output_type": "stream",
     "text": [
      "1\n"
     ]
    }
   ],
   "source": [
    "#index\n",
    "print(li.index(\"Shinde\"))"
   ]
  },
  {
   "cell_type": "code",
   "execution_count": 57,
   "id": "8465b9d5-dffc-42ad-ae4e-dcffe2e661c4",
   "metadata": {},
   "outputs": [
    {
     "name": "stdout",
     "output_type": "stream",
     "text": [
      "None\n"
     ]
    }
   ],
   "source": [
    "#append\n",
    "print(li.append(\"False\"))"
   ]
  },
  {
   "cell_type": "code",
   "execution_count": 58,
   "id": "f7f1f46c-2dec-42b9-9024-c9d8738dc702",
   "metadata": {},
   "outputs": [
    {
     "name": "stdout",
     "output_type": "stream",
     "text": [
      "['Namrata', 'Shinde', 5, 7, 7, 1j, True, 'False']\n"
     ]
    }
   ],
   "source": [
    "print(li)"
   ]
  },
  {
   "cell_type": "code",
   "execution_count": 59,
   "id": "55f989c2-f77f-43e3-a760-f0adafa674b8",
   "metadata": {},
   "outputs": [
    {
     "name": "stdout",
     "output_type": "stream",
     "text": [
      "None\n"
     ]
    }
   ],
   "source": [
    "#insert\n",
    "print(li.insert(2,\"City\"))"
   ]
  },
  {
   "cell_type": "code",
   "execution_count": 60,
   "id": "541d3b34-fb42-4708-af8f-74eb12369cc1",
   "metadata": {},
   "outputs": [
    {
     "name": "stdout",
     "output_type": "stream",
     "text": [
      "['Namrata', 'Shinde', 'City', 5, 7, 7, 1j, True, 'False']\n"
     ]
    }
   ],
   "source": [
    "print(li)"
   ]
  },
  {
   "cell_type": "code",
   "execution_count": 61,
   "id": "17de4d90-7377-4118-a838-f76606f47c2b",
   "metadata": {},
   "outputs": [
    {
     "name": "stdout",
     "output_type": "stream",
     "text": [
      "Shinde\n"
     ]
    }
   ],
   "source": [
    "print(li[1])"
   ]
  },
  {
   "cell_type": "code",
   "execution_count": 62,
   "id": "f270f992-ca8d-4d5c-a81f-b31eb3894008",
   "metadata": {},
   "outputs": [
    {
     "name": "stdout",
     "output_type": "stream",
     "text": [
      "2\n"
     ]
    }
   ],
   "source": [
    "#Count\n",
    "print(li.count(7))"
   ]
  },
  {
   "cell_type": "code",
   "execution_count": 63,
   "id": "9be14591-1223-40ec-9cbc-b13b361621ba",
   "metadata": {},
   "outputs": [
    {
     "name": "stdout",
     "output_type": "stream",
     "text": [
      "False\n"
     ]
    }
   ],
   "source": [
    "#pop\n",
    "print(li.pop())"
   ]
  },
  {
   "cell_type": "code",
   "execution_count": 64,
   "id": "663554a5-44c1-4bb1-a944-24457618a975",
   "metadata": {},
   "outputs": [
    {
     "name": "stdout",
     "output_type": "stream",
     "text": [
      "City\n"
     ]
    }
   ],
   "source": [
    "print(li.pop(2))"
   ]
  },
  {
   "cell_type": "code",
   "execution_count": 65,
   "id": "e9077b16-19e0-4d5a-881d-3903e371ed2b",
   "metadata": {},
   "outputs": [
    {
     "name": "stdout",
     "output_type": "stream",
     "text": [
      "None\n"
     ]
    }
   ],
   "source": [
    "#remove\n",
    "print(li.remove(\"Shinde\"))"
   ]
  },
  {
   "cell_type": "code",
   "execution_count": 66,
   "id": "1fe75862-7df7-48a9-9c39-14e3ff01d4d2",
   "metadata": {},
   "outputs": [
    {
     "name": "stdout",
     "output_type": "stream",
     "text": [
      "['Namrata', 5, 7, 7, 1j, True]\n"
     ]
    }
   ],
   "source": [
    "print(li)"
   ]
  },
  {
   "cell_type": "code",
   "execution_count": 67,
   "id": "be873cef-5d88-41f2-b9c5-131300e87907",
   "metadata": {},
   "outputs": [
    {
     "name": "stdout",
     "output_type": "stream",
     "text": [
      "None\n"
     ]
    }
   ],
   "source": [
    "#Reverse\n",
    "print(li.reverse())"
   ]
  },
  {
   "cell_type": "code",
   "execution_count": 68,
   "id": "cdb43e95-fd24-4849-b77b-83ebaa1a0a37",
   "metadata": {},
   "outputs": [
    {
     "name": "stdout",
     "output_type": "stream",
     "text": [
      "[True, 1j, 7, 7, 5, 'Namrata']\n"
     ]
    }
   ],
   "source": [
    "print(li)"
   ]
  },
  {
   "cell_type": "code",
   "execution_count": 69,
   "id": "9c8334be-dae5-468c-842e-7e36ec8420ce",
   "metadata": {},
   "outputs": [
    {
     "name": "stdout",
     "output_type": "stream",
     "text": [
      "[1, 2, 3, 4]\n"
     ]
    }
   ],
   "source": [
    "#extend\n",
    "li1=[1,2,3,4]\n",
    "print(li1)"
   ]
  },
  {
   "cell_type": "code",
   "execution_count": 70,
   "id": "aca77243-822c-48a1-894e-8a404defdeb3",
   "metadata": {},
   "outputs": [
    {
     "name": "stdout",
     "output_type": "stream",
     "text": [
      "None\n"
     ]
    }
   ],
   "source": [
    "print(li.extend(\"li1\"))"
   ]
  },
  {
   "cell_type": "code",
   "execution_count": 71,
   "id": "46928303-487f-4929-b7b1-9c9f66db6881",
   "metadata": {},
   "outputs": [
    {
     "name": "stdout",
     "output_type": "stream",
     "text": [
      "[True, 1j, 7, 7, 5, 'Namrata', 'l', 'i', '1']\n"
     ]
    }
   ],
   "source": [
    "print(li)"
   ]
  },
  {
   "cell_type": "code",
   "execution_count": 72,
   "id": "70da41eb-6ed8-495d-b8f2-c68f76f2d844",
   "metadata": {},
   "outputs": [
    {
     "name": "stdout",
     "output_type": "stream",
     "text": [
      "[True, 1j, 7, 7, 5, 'Namrata', 'l', 'i', '1']\n"
     ]
    }
   ],
   "source": [
    "#copy\n",
    "li2=li.copy()\n",
    "print(li2)"
   ]
  },
  {
   "cell_type": "code",
   "execution_count": 73,
   "id": "7cc68797-447b-4a24-a023-3e80401a9f24",
   "metadata": {},
   "outputs": [
    {
     "name": "stdout",
     "output_type": "stream",
     "text": [
      "None\n"
     ]
    }
   ],
   "source": [
    "#clear\n",
    "print(li.clear())"
   ]
  },
  {
   "cell_type": "code",
   "execution_count": 74,
   "id": "cd60aab3-e67b-4ba2-a444-2b6e3034ecb1",
   "metadata": {},
   "outputs": [
    {
     "name": "stdout",
     "output_type": "stream",
     "text": [
      "[]\n"
     ]
    }
   ],
   "source": [
    "print(li)"
   ]
  },
  {
   "cell_type": "code",
   "execution_count": 75,
   "id": "8a69123d-cc01-40f8-af97-d4f3eb2bfa4e",
   "metadata": {},
   "outputs": [],
   "source": [
    "#del\n",
    "del(li)"
   ]
  },
  {
   "cell_type": "code",
   "execution_count": 76,
   "id": "05906a10-7617-48c6-bfbc-d8a2e2ff4f72",
   "metadata": {},
   "outputs": [
    {
     "ename": "NameError",
     "evalue": "name 'li' is not defined",
     "output_type": "error",
     "traceback": [
      "\u001b[1;31m---------------------------------------------------------------------------\u001b[0m",
      "\u001b[1;31mNameError\u001b[0m                                 Traceback (most recent call last)",
      "Cell \u001b[1;32mIn[76], line 1\u001b[0m\n\u001b[1;32m----> 1\u001b[0m \u001b[38;5;28mprint\u001b[39m(\u001b[43mli\u001b[49m)\n",
      "\u001b[1;31mNameError\u001b[0m: name 'li' is not defined"
     ]
    }
   ],
   "source": [
    "print(li)"
   ]
  },
  {
   "cell_type": "code",
   "execution_count": 77,
   "id": "ae59eb11-0cd7-4ee5-92a5-6d0088cc363d",
   "metadata": {},
   "outputs": [
    {
     "name": "stdout",
     "output_type": "stream",
     "text": [
      "('mumbai', 'Vashi', 'Nerul', 'Sanpada')\n"
     ]
    }
   ],
   "source": [
    "#Tuple\n",
    "print\n",
    "t1=(\"mumbai\",\"Vashi\",\"Nerul\",\"Sanpada\")\n",
    "print(t1)"
   ]
  },
  {
   "cell_type": "code",
   "execution_count": 78,
   "id": "13e8dc13-ee4a-40c6-8f2a-40ed4805cdc7",
   "metadata": {},
   "outputs": [
    {
     "name": "stdout",
     "output_type": "stream",
     "text": [
      "2\n"
     ]
    }
   ],
   "source": [
    "#index\n",
    "print(t1.index(\"Nerul\"))"
   ]
  },
  {
   "cell_type": "code",
   "execution_count": 79,
   "id": "f6c09568-de05-4be3-b3c0-8db274d8dd7c",
   "metadata": {},
   "outputs": [
    {
     "name": "stdout",
     "output_type": "stream",
     "text": [
      "1\n"
     ]
    }
   ],
   "source": [
    "#count\n",
    "print(t1.count(\"Nerul\"))"
   ]
  },
  {
   "cell_type": "code",
   "execution_count": 80,
   "id": "87144de0-4a44-4078-9051-21db4493929b",
   "metadata": {},
   "outputs": [
    {
     "name": "stdout",
     "output_type": "stream",
     "text": [
      "4\n"
     ]
    }
   ],
   "source": [
    "#len\n",
    "print(len(t1))"
   ]
  },
  {
   "cell_type": "code",
   "execution_count": 81,
   "id": "2c7f0ee8-2801-4b56-ba3d-fe89d2e450e2",
   "metadata": {},
   "outputs": [
    {
     "ename": "NameError",
     "evalue": "name 't1' is not defined",
     "output_type": "error",
     "traceback": [
      "\u001b[1;31m---------------------------------------------------------------------------\u001b[0m",
      "\u001b[1;31mNameError\u001b[0m                                 Traceback (most recent call last)",
      "Cell \u001b[1;32mIn[81], line 3\u001b[0m\n\u001b[0;32m      1\u001b[0m \u001b[38;5;66;03m#del\u001b[39;00m\n\u001b[0;32m      2\u001b[0m \u001b[38;5;28;01mdel\u001b[39;00m(t1)\n\u001b[1;32m----> 3\u001b[0m \u001b[38;5;28mprint\u001b[39m(\u001b[43mt1\u001b[49m)\n",
      "\u001b[1;31mNameError\u001b[0m: name 't1' is not defined"
     ]
    }
   ],
   "source": [
    "#del\n",
    "del(t1)\n",
    "print(t1)"
   ]
  },
  {
   "cell_type": "code",
   "execution_count": 82,
   "id": "653a8445-e017-4cdb-8be7-fe1839579024",
   "metadata": {},
   "outputs": [
    {
     "name": "stdout",
     "output_type": "stream",
     "text": [
      "{'Mumbai', 'Vashi', 'Panvel', 'Nerul'}\n"
     ]
    }
   ],
   "source": [
    "#set\n",
    "set1={\"Vashi\",\"Nerul\",\"Mumbai\",\"Panvel\"}\n",
    "print(set1)"
   ]
  },
  {
   "cell_type": "code",
   "execution_count": 83,
   "id": "8fec087d-b987-454e-b7fd-abee8dd7885c",
   "metadata": {},
   "outputs": [
    {
     "name": "stdout",
     "output_type": "stream",
     "text": [
      "None\n"
     ]
    }
   ],
   "source": [
    "print(set1.add(\"Thane\"))"
   ]
  },
  {
   "cell_type": "code",
   "execution_count": 84,
   "id": "d1034598-4069-40ad-924f-66f9ed1f16c6",
   "metadata": {},
   "outputs": [
    {
     "name": "stdout",
     "output_type": "stream",
     "text": [
      "{'Mumbai', 'Vashi', 'Nerul', 'Thane', 'Panvel'}\n"
     ]
    }
   ],
   "source": [
    "print(set1)"
   ]
  },
  {
   "cell_type": "code",
   "execution_count": 85,
   "id": "6627e23a-f55a-4ccc-a00b-c96418d2ee36",
   "metadata": {},
   "outputs": [
    {
     "name": "stdout",
     "output_type": "stream",
     "text": [
      "Mumbai\n"
     ]
    }
   ],
   "source": [
    "print(set1.pop())"
   ]
  },
  {
   "cell_type": "code",
   "execution_count": 86,
   "id": "b3d9852b-72b8-49f0-b9b2-4ec1d8423f4f",
   "metadata": {},
   "outputs": [
    {
     "ename": "TypeError",
     "evalue": "set.pop() takes no arguments (1 given)",
     "output_type": "error",
     "traceback": [
      "\u001b[1;31m---------------------------------------------------------------------------\u001b[0m",
      "\u001b[1;31mTypeError\u001b[0m                                 Traceback (most recent call last)",
      "Cell \u001b[1;32mIn[86], line 1\u001b[0m\n\u001b[1;32m----> 1\u001b[0m \u001b[38;5;28mprint\u001b[39m(\u001b[43mset1\u001b[49m\u001b[38;5;241;43m.\u001b[39;49m\u001b[43mpop\u001b[49m\u001b[43m(\u001b[49m\u001b[38;5;124;43m\"\u001b[39;49m\u001b[38;5;124;43mThane\u001b[39;49m\u001b[38;5;124;43m\"\u001b[39;49m\u001b[43m)\u001b[49m)\n",
      "\u001b[1;31mTypeError\u001b[0m: set.pop() takes no arguments (1 given)"
     ]
    }
   ],
   "source": [
    "print(set1.pop(\"Thane\"))"
   ]
  },
  {
   "cell_type": "code",
   "execution_count": 87,
   "id": "3edfeafc-1b82-48cd-8ca2-ffcb2c6cfae4",
   "metadata": {},
   "outputs": [
    {
     "name": "stdout",
     "output_type": "stream",
     "text": [
      "4\n"
     ]
    }
   ],
   "source": [
    "print(len(set1))"
   ]
  },
  {
   "cell_type": "code",
   "execution_count": 88,
   "id": "e8786f06-9d66-47e6-95ab-bc8f647d1a69",
   "metadata": {},
   "outputs": [
    {
     "name": "stdout",
     "output_type": "stream",
     "text": [
      "{'Name': 'Namrata', 'Surname': 'Shinde', 'City': 'Nerul'}\n"
     ]
    }
   ],
   "source": [
    "#Dict\n",
    "d1={\"Name\":\"Namrata\",\"Surname\":\"Shinde\",\"City\":\"Nerul\"}\n",
    "print(d1)"
   ]
  },
  {
   "cell_type": "code",
   "execution_count": 89,
   "id": "fcb041d3-7165-4c19-a597-13747d6c2943",
   "metadata": {},
   "outputs": [
    {
     "name": "stdout",
     "output_type": "stream",
     "text": [
      "dict_keys(['Name', 'Surname', 'City'])\n"
     ]
    }
   ],
   "source": [
    "#Keys\n",
    "print(d1.keys())"
   ]
  },
  {
   "cell_type": "code",
   "execution_count": 90,
   "id": "57f0a94b-e72b-4168-b38c-278a04a39c39",
   "metadata": {},
   "outputs": [
    {
     "name": "stdout",
     "output_type": "stream",
     "text": [
      "dict_values(['Namrata', 'Shinde', 'Nerul'])\n"
     ]
    }
   ],
   "source": [
    "#values\n",
    "print(d1.values())"
   ]
  },
  {
   "cell_type": "code",
   "execution_count": 91,
   "id": "32aa5d43-822e-41b5-a3fa-c476e3ec5436",
   "metadata": {},
   "outputs": [
    {
     "name": "stdout",
     "output_type": "stream",
     "text": [
      "dict_items([('Name', 'Namrata'), ('Surname', 'Shinde'), ('City', 'Nerul')])\n"
     ]
    }
   ],
   "source": [
    "#itmes\n",
    "print(d1.items())"
   ]
  },
  {
   "cell_type": "code",
   "execution_count": 92,
   "id": "509ce9ec-130a-48f0-a62b-0db332f66426",
   "metadata": {},
   "outputs": [
    {
     "name": "stdout",
     "output_type": "stream",
     "text": [
      "Namrata\n"
     ]
    }
   ],
   "source": [
    "#get\n",
    "print(d1.get(\"Name\"))"
   ]
  },
  {
   "cell_type": "code",
   "execution_count": 93,
   "id": "1fdd7a33-d545-4eb7-9106-89eba2885819",
   "metadata": {},
   "outputs": [
    {
     "name": "stdout",
     "output_type": "stream",
     "text": [
      "Nerul\n"
     ]
    }
   ],
   "source": [
    "print(d1.get(\"City\"))"
   ]
  },
  {
   "cell_type": "code",
   "execution_count": 94,
   "id": "40b3a0e0-a639-4dc8-91db-43ebef65ba81",
   "metadata": {},
   "outputs": [
    {
     "name": "stdout",
     "output_type": "stream",
     "text": [
      "None\n"
     ]
    }
   ],
   "source": [
    "#Update\n",
    "print(d1.update({\"Location\":\"Mumbai\"}))"
   ]
  },
  {
   "cell_type": "code",
   "execution_count": 95,
   "id": "ea3bb8dc-8c3d-4102-9a6a-4c4df32b9b07",
   "metadata": {},
   "outputs": [
    {
     "name": "stdout",
     "output_type": "stream",
     "text": [
      "{'Name': 'Namrata', 'Surname': 'Shinde', 'City': 'Nerul', 'Location': 'Mumbai'}\n"
     ]
    }
   ],
   "source": [
    "print(d1)"
   ]
  },
  {
   "cell_type": "code",
   "execution_count": 96,
   "id": "4739eb68-a24d-40e0-99dc-85e3012f53c4",
   "metadata": {},
   "outputs": [
    {
     "name": "stdout",
     "output_type": "stream",
     "text": [
      "Nerul\n"
     ]
    }
   ],
   "source": [
    "#pop\n",
    "print(d1.pop(\"City\"))"
   ]
  },
  {
   "cell_type": "code",
   "execution_count": 97,
   "id": "4118b62c-b39a-417e-b262-2e8458d51944",
   "metadata": {},
   "outputs": [
    {
     "name": "stdout",
     "output_type": "stream",
     "text": [
      "('Location', 'Mumbai')\n"
     ]
    }
   ],
   "source": [
    "#popitem\n",
    "print(d1.popitem())"
   ]
  },
  {
   "cell_type": "code",
   "execution_count": 98,
   "id": "201312cf-0524-4786-bb75-31bd99d850ce",
   "metadata": {},
   "outputs": [
    {
     "name": "stdout",
     "output_type": "stream",
     "text": [
      "{'Name': 'Namrata', 'Surname': 'Shinde'}\n"
     ]
    }
   ],
   "source": [
    "#copy\n",
    "d3=d1.copy()\n",
    "print(d3)"
   ]
  },
  {
   "cell_type": "code",
   "execution_count": 99,
   "id": "0401e9ac-1890-49b5-b82f-a1a11bf14f5a",
   "metadata": {},
   "outputs": [
    {
     "name": "stdout",
     "output_type": "stream",
     "text": [
      "None\n"
     ]
    }
   ],
   "source": [
    "#clear\n",
    "print(d1.clear())"
   ]
  },
  {
   "cell_type": "code",
   "execution_count": 100,
   "id": "2f8f90b9-0c07-428f-b475-652b8c8cbd75",
   "metadata": {},
   "outputs": [
    {
     "name": "stdout",
     "output_type": "stream",
     "text": [
      "{}\n"
     ]
    }
   ],
   "source": [
    "print(d1)"
   ]
  },
  {
   "cell_type": "code",
   "execution_count": 101,
   "id": "fd7d4830-2436-418e-99ea-6f0aab0c9778",
   "metadata": {},
   "outputs": [],
   "source": [
    "#del\n",
    "del d1"
   ]
  },
  {
   "cell_type": "code",
   "execution_count": 102,
   "id": "46f94622-bba6-4983-97ef-577236f3f40e",
   "metadata": {},
   "outputs": [
    {
     "name": "stdout",
     "output_type": "stream",
     "text": [
      "20\n"
     ]
    }
   ],
   "source": [
    "d1={\"name\":\"Namrata\",\"Surname\":\"Shinde\",\"sector\":20}\n",
    "print(d1[\"sector\"])"
   ]
  },
  {
   "cell_type": "code",
   "execution_count": 103,
   "id": "5dc62193-8223-48e8-af03-0a5c3b53d8fa",
   "metadata": {},
   "outputs": [
    {
     "name": "stdout",
     "output_type": "stream",
     "text": [
      "Infobyte\n"
     ]
    }
   ],
   "source": [
    "#String\n",
    "str=\"Infobyte\"\n",
    "print(str)"
   ]
  },
  {
   "cell_type": "code",
   "execution_count": 104,
   "id": "f76b97cf-d50f-49af-aad4-047ff963f41c",
   "metadata": {},
   "outputs": [
    {
     "name": "stdout",
     "output_type": "stream",
     "text": [
      "Institute\n"
     ]
    }
   ],
   "source": [
    "str1=\"Institute\"\n",
    "print(str1)"
   ]
  },
  {
   "cell_type": "code",
   "execution_count": 105,
   "id": "eabf8e01-32bc-4ea8-b814-0a16acb2f329",
   "metadata": {},
   "outputs": [
    {
     "name": "stdout",
     "output_type": "stream",
     "text": [
      "9\n"
     ]
    }
   ],
   "source": [
    "#len\n",
    "print(len(str1))"
   ]
  },
  {
   "cell_type": "code",
   "execution_count": 106,
   "id": "a874648e-1760-4410-8b17-1a00c0c1f4dd",
   "metadata": {},
   "outputs": [
    {
     "name": "stdout",
     "output_type": "stream",
     "text": [
      "this is NERUL station.\n"
     ]
    }
   ],
   "source": [
    "#Capitalize\n",
    "nstr=\"this is NERUL station.\"\n",
    "nstr.capitalize()\n",
    "print(nstr)"
   ]
  },
  {
   "cell_type": "code",
   "execution_count": 107,
   "id": "bae93a30-c586-447a-9825-27eadf58e596",
   "metadata": {},
   "outputs": [
    {
     "name": "stdout",
     "output_type": "stream",
     "text": [
      "This is nerul station.\n"
     ]
    }
   ],
   "source": [
    "#varible\n",
    "v=nstr.capitalize()\n",
    "print(v)"
   ]
  },
  {
   "cell_type": "code",
   "execution_count": 108,
   "id": "126dc8ee-3883-4748-84ae-f753b42be632",
   "metadata": {},
   "outputs": [
    {
     "name": "stdout",
     "output_type": "stream",
     "text": [
      "False\n"
     ]
    }
   ],
   "source": [
    "#islower\n",
    "v1=nstr.islower()\n",
    "print(v1)"
   ]
  },
  {
   "cell_type": "code",
   "execution_count": 109,
   "id": "7ed17863-8d3a-4a39-8706-e8bee4156717",
   "metadata": {},
   "outputs": [
    {
     "name": "stdout",
     "output_type": "stream",
     "text": [
      "False\n"
     ]
    }
   ],
   "source": [
    "#isupper\n",
    "v2=nstr.isupper()\n",
    "print(v2)"
   ]
  },
  {
   "cell_type": "code",
   "execution_count": 110,
   "id": "b0c1ea88-efdc-4a31-8c24-b9d97278c2a5",
   "metadata": {},
   "outputs": [
    {
     "name": "stdout",
     "output_type": "stream",
     "text": [
      "THIS IS NERUL STATION.\n"
     ]
    }
   ],
   "source": [
    "#upper\n",
    "v3=nstr.upper()\n",
    "print(v3)"
   ]
  },
  {
   "cell_type": "code",
   "execution_count": 111,
   "id": "ffc2cec3-a90d-4ca2-9bc0-6d77ec443774",
   "metadata": {},
   "outputs": [
    {
     "name": "stdout",
     "output_type": "stream",
     "text": [
      "this is nerul station.\n"
     ]
    }
   ],
   "source": [
    "#lower\n",
    "v4=nstr.lower()\n",
    "print(v4)"
   ]
  },
  {
   "cell_type": "code",
   "execution_count": 112,
   "id": "f073814b-8fce-46ce-95bf-d3ace07b0952",
   "metadata": {},
   "outputs": [
    {
     "name": "stdout",
     "output_type": "stream",
     "text": [
      "True\n"
     ]
    }
   ],
   "source": [
    "#endswith\n",
    "v5=nstr.endswith(\".\")\n",
    "print(v5)"
   ]
  },
  {
   "cell_type": "code",
   "execution_count": 113,
   "id": "07749173-ad81-491c-9b7f-518a1221a838",
   "metadata": {},
   "outputs": [
    {
     "name": "stdout",
     "output_type": "stream",
     "text": [
      "True\n"
     ]
    }
   ],
   "source": [
    "v7=nstr.endswith(\"station.\")\n",
    "print(v7)"
   ]
  },
  {
   "cell_type": "code",
   "execution_count": 114,
   "id": "dc5a150e-bf90-4fdc-a59e-db698314448c",
   "metadata": {},
   "outputs": [
    {
     "name": "stdout",
     "output_type": "stream",
     "text": [
      "              this is NERUL station.              \n"
     ]
    }
   ],
   "source": [
    "#center\n",
    "v6=nstr.center(50)\n",
    "print(v6)"
   ]
  },
  {
   "cell_type": "code",
   "execution_count": 115,
   "id": "89ce02c1-b4e8-44c8-85dc-166043176d60",
   "metadata": {},
   "outputs": [
    {
     "name": "stdout",
     "output_type": "stream",
     "text": [
      "this is NERUL station.\n"
     ]
    }
   ],
   "source": [
    "print(nstr)"
   ]
  },
  {
   "cell_type": "code",
   "execution_count": 116,
   "id": "ee0bcb67-e3e0-4dde-bc5f-eaa9bb068e69",
   "metadata": {},
   "outputs": [
    {
     "name": "stdout",
     "output_type": "stream",
     "text": [
      "14\n"
     ]
    }
   ],
   "source": [
    "#find\n",
    "v8=nstr.find(\"station\")\n",
    "print(v8)"
   ]
  },
  {
   "cell_type": "code",
   "execution_count": 117,
   "id": "f19ad6b3-4d18-4496-a3a9-8a518049e290",
   "metadata": {},
   "outputs": [
    {
     "name": "stdout",
     "output_type": "stream",
     "text": [
      "this is nerul station\n"
     ]
    }
   ],
   "source": [
    "v2=\"this is nerul station\"\n",
    "print(v2)"
   ]
  },
  {
   "cell_type": "code",
   "execution_count": 118,
   "id": "ca7a099f-7712-464f-ac41-bffd0570f6b2",
   "metadata": {},
   "outputs": [
    {
     "name": "stdout",
     "output_type": "stream",
     "text": [
      "21\n"
     ]
    }
   ],
   "source": [
    "print(len(v2))"
   ]
  },
  {
   "cell_type": "code",
   "execution_count": 119,
   "id": "88a3c1cd-4f5d-4b1b-badc-e62beefc7a56",
   "metadata": {},
   "outputs": [
    {
     "name": "stdout",
     "output_type": "stream",
     "text": [
      "19\n"
     ]
    }
   ],
   "source": [
    "#index\n",
    "v9=nstr.index(\"on\")\n",
    "print(v9)"
   ]
  },
  {
   "cell_type": "code",
   "execution_count": 120,
   "id": "cc4a0ae6-8d73-4670-aed1-26f57a7bf5e3",
   "metadata": {},
   "outputs": [
    {
     "name": "stdout",
     "output_type": "stream",
     "text": [
      "0\n"
     ]
    }
   ],
   "source": [
    "v9=nstr.index(\"this\")\n",
    "print(v9)"
   ]
  },
  {
   "cell_type": "code",
   "execution_count": 121,
   "id": "9bd12be0-2845-4e57-b590-478daf31af70",
   "metadata": {},
   "outputs": [
    {
     "name": "stdout",
     "output_type": "stream",
     "text": [
      "This is NERUL station.\n"
     ]
    }
   ],
   "source": [
    "#replace\n",
    "v10=nstr.replace(\"this\",\"This\")\n",
    "print(v10)"
   ]
  },
  {
   "cell_type": "code",
   "execution_count": 122,
   "id": "c812e397-ada8-4ced-a4ba-4757e8a6a8d3",
   "metadata": {},
   "outputs": [
    {
     "name": "stdout",
     "output_type": "stream",
     "text": [
      "this is NERUL station.\n"
     ]
    }
   ],
   "source": [
    "print(nstr)"
   ]
  },
  {
   "cell_type": "code",
   "execution_count": 123,
   "id": "b7c0b262-e4c5-451a-9163-b4e8bd1e2c20",
   "metadata": {},
   "outputs": [
    {
     "name": "stdout",
     "output_type": "stream",
     "text": [
      "This Is Nerul Station.\n"
     ]
    }
   ],
   "source": [
    "#title\n",
    "v11=nstr.title()\n",
    "print(v11)"
   ]
  },
  {
   "cell_type": "code",
   "execution_count": 124,
   "id": "89cfba83-d775-4620-a6cf-41a77d28bdcf",
   "metadata": {},
   "outputs": [
    {
     "name": "stdout",
     "output_type": "stream",
     "text": [
      "['this', 'is', 'NERUL', 'station.']\n"
     ]
    }
   ],
   "source": [
    "#split\n",
    "v11=nstr.split()\n",
    "print(v11)"
   ]
  },
  {
   "cell_type": "code",
   "execution_count": 125,
   "id": "2babf24d-74f7-401b-a59b-fcc098b9eb15",
   "metadata": {},
   "outputs": [],
   "source": [
    "#Input from user\n",
    "a=6\n",
    "b=6.7\n",
    "c=True\n",
    "d=10j\n",
    "e=\"Institute\"\n",
    "f=[\"hello\",\"world\"]\n",
    "g=(\"hello\",\"world\")\n",
    "h={\"hello\",1,2,4}\n",
    "i={\"class\":\"student\",\"sub\":\"java\"}"
   ]
  },
  {
   "cell_type": "code",
   "execution_count": 126,
   "id": "dfdf04cf-b9cb-42b5-96b3-43445bdc30bf",
   "metadata": {},
   "outputs": [
    {
     "name": "stdout",
     "output_type": "stream",
     "text": [
      "<class 'set'>\n"
     ]
    }
   ],
   "source": [
    "print(type(h))"
   ]
  },
  {
   "cell_type": "code",
   "execution_count": 127,
   "id": "2aad8291-a907-43a4-bf0a-69da92d1a654",
   "metadata": {},
   "outputs": [
    {
     "name": "stdout",
     "output_type": "stream",
     "text": [
      "<class 'tuple'>\n"
     ]
    }
   ],
   "source": [
    "print(type(g))"
   ]
  },
  {
   "cell_type": "code",
   "execution_count": 128,
   "id": "8f4c850c-b430-46f8-bbec-ef6abd7edf79",
   "metadata": {},
   "outputs": [
    {
     "name": "stdout",
     "output_type": "stream",
     "text": [
      "<class 'int'>\n"
     ]
    }
   ],
   "source": [
    "print(type(a))"
   ]
  },
  {
   "cell_type": "code",
   "execution_count": 129,
   "id": "130916c9-76f8-402c-8bbb-c4e77900e6cd",
   "metadata": {},
   "outputs": [
    {
     "name": "stdout",
     "output_type": "stream",
     "text": [
      "<class 'float'>\n"
     ]
    }
   ],
   "source": [
    "print(type(b))"
   ]
  },
  {
   "cell_type": "code",
   "execution_count": 130,
   "id": "0ad621d9-f0c8-47fe-a002-e33d2cc82953",
   "metadata": {},
   "outputs": [
    {
     "name": "stdout",
     "output_type": "stream",
     "text": [
      "<class 'bool'>\n"
     ]
    }
   ],
   "source": [
    "print(type(c))"
   ]
  },
  {
   "cell_type": "code",
   "execution_count": 131,
   "id": "ec667953-3296-415e-b542-dab76000825e",
   "metadata": {},
   "outputs": [
    {
     "name": "stdout",
     "output_type": "stream",
     "text": [
      "<class 'complex'>\n"
     ]
    }
   ],
   "source": [
    "print(type(d))"
   ]
  },
  {
   "cell_type": "code",
   "execution_count": 132,
   "id": "16a4a608-9eb0-40a5-a296-886bf6eeb631",
   "metadata": {},
   "outputs": [
    {
     "name": "stdout",
     "output_type": "stream",
     "text": [
      "<class 'str'>\n"
     ]
    }
   ],
   "source": [
    "print(type(e))"
   ]
  },
  {
   "cell_type": "code",
   "execution_count": 133,
   "id": "a554dc0e-8eb0-4a1a-bc79-c2ad47f85be3",
   "metadata": {},
   "outputs": [
    {
     "name": "stdout",
     "output_type": "stream",
     "text": [
      "<class 'dict'>\n"
     ]
    }
   ],
   "source": [
    "print(type(i))"
   ]
  },
  {
   "cell_type": "code",
   "execution_count": 134,
   "id": "119d4bcc-8f1d-49a4-8711-f3b0ffad4371",
   "metadata": {},
   "outputs": [
    {
     "name": "stdout",
     "output_type": "stream",
     "text": [
      "[1, 2, 3, 4, 5]\n"
     ]
    }
   ],
   "source": [
    "li=[1,2,3,4,5]\n",
    "t=type(li)\n",
    "print(li)"
   ]
  },
  {
   "cell_type": "code",
   "execution_count": 135,
   "id": "d7fdbd9e-bf9e-4fbf-b7c0-0b207eed3b81",
   "metadata": {},
   "outputs": [
    {
     "name": "stdout",
     "output_type": "stream",
     "text": [
      "<class 'list'>\n"
     ]
    }
   ],
   "source": [
    "li=[6,7,8,9]\n",
    "t=type(li)\n",
    "print(t)"
   ]
  },
  {
   "cell_type": "code",
   "execution_count": 143,
   "id": "e6ff46bf-c283-4ec2-90dc-55583697a4c1",
   "metadata": {},
   "outputs": [
    {
     "name": "stdin",
     "output_type": "stream",
     "text": [
      "enter your name: abc\n"
     ]
    },
    {
     "name": "stdout",
     "output_type": "stream",
     "text": [
      "abc\n"
     ]
    }
   ],
   "source": [
    "user=input(\"enter your name:\")\n",
    "print(user)"
   ]
  },
  {
   "cell_type": "code",
   "execution_count": 144,
   "id": "eab5a723-a3cd-4495-adfe-8e69afa22daa",
   "metadata": {},
   "outputs": [
    {
     "name": "stdin",
     "output_type": "stream",
     "text": [
      "Enter Name: abc\n"
     ]
    },
    {
     "name": "stdout",
     "output_type": "stream",
     "text": [
      "abc\n",
      "<class 'str'>\n"
     ]
    }
   ],
   "source": [
    "user=input(\"Enter Name:\")\n",
    "t=type(user)\n",
    "print(user)\n",
    "print(t)"
   ]
  },
  {
   "cell_type": "code",
   "execution_count": 146,
   "id": "1c2c77b8-9afb-4ce8-869d-a00566e8d26b",
   "metadata": {},
   "outputs": [
    {
     "name": "stdin",
     "output_type": "stream",
     "text": [
      "enter 1 no: 7\n",
      "enter 2 no: 8\n"
     ]
    },
    {
     "name": "stdout",
     "output_type": "stream",
     "text": [
      "78\n"
     ]
    }
   ],
   "source": [
    "a=input(\"enter 1 no:\")\n",
    "b=input(\"enter 2 no:\")\n",
    "c=a+b\n",
    "print(c)"
   ]
  },
  {
   "cell_type": "code",
   "execution_count": 147,
   "id": "bd6af8b8-c839-4e08-b90e-850a2b9f479b",
   "metadata": {},
   "outputs": [
    {
     "name": "stdin",
     "output_type": "stream",
     "text": [
      "enter 1 no: 8\n",
      "enter 2 no: 0\n"
     ]
    },
    {
     "name": "stdout",
     "output_type": "stream",
     "text": [
      "8\n"
     ]
    }
   ],
   "source": [
    "a=int(input(\"enter 1 no:\"))\n",
    "b=int(input(\"enter 2 no:\"))\n",
    "c=a+b\n",
    "print(c)"
   ]
  },
  {
   "cell_type": "code",
   "execution_count": 148,
   "id": "3b3d30ba-e18b-4454-aebf-52bf85886183",
   "metadata": {},
   "outputs": [
    {
     "name": "stdin",
     "output_type": "stream",
     "text": [
      "Enter user name: hnb\n",
      "Enter user name: kbg\n",
      "Enter Email: njjk\n",
      "Enter password: ljhg\n"
     ]
    },
    {
     "name": "stdout",
     "output_type": "stream",
     "text": [
      "kbg\n",
      "njjk\n",
      "ljhg\n"
     ]
    }
   ],
   "source": [
    "user1=input(\"Enter user name:\")\n",
    "user1=input(\"Enter user name:\")\n",
    "user2=input(\"Enter Email:\")\n",
    "user3=input(\"Enter password:\")\n",
    "print(user1)\n",
    "print(user2)\n",
    "print(user3)\n"
   ]
  },
  {
   "cell_type": "code",
   "execution_count": 149,
   "id": "7e44901d-ad07-45e5-bb17-45d26ec80a02",
   "metadata": {},
   "outputs": [
    {
     "name": "stdin",
     "output_type": "stream",
     "text": [
      "Enter your age: 22\n"
     ]
    },
    {
     "name": "stdout",
     "output_type": "stream",
     "text": [
      "<class 'str'>\n"
     ]
    }
   ],
   "source": [
    "user1=input(\"Enter your age:\")\n",
    "t=type(user1)\n",
    "print(t)"
   ]
  },
  {
   "cell_type": "code",
   "execution_count": 150,
   "id": "0aced9d5-9acb-401a-ae04-43576ddcabdb",
   "metadata": {},
   "outputs": [
    {
     "name": "stdin",
     "output_type": "stream",
     "text": [
      "Enter your age: 22\n"
     ]
    },
    {
     "name": "stdout",
     "output_type": "stream",
     "text": [
      "your age after 1 year 23\n",
      "22\n"
     ]
    }
   ],
   "source": [
    "user1=int(input(\"Enter your age:\"))\n",
    "print(\"your age after 1 year\",user1 +1)\n",
    "print(user1)"
   ]
  },
  {
   "cell_type": "code",
   "execution_count": 151,
   "id": "df0a3865-0b5f-4645-ac9d-6c4e4f15ce0a",
   "metadata": {},
   "outputs": [
    {
     "name": "stdout",
     "output_type": "stream",
     "text": [
      "1\n",
      "2\n",
      "3\n",
      "4\n",
      "5\n"
     ]
    }
   ],
   "source": [
    "# dict\n",
    "d={\"java\":1,\"Python\":2,\"c\":3,\"c++\":4,\"HTML\":5}\n",
    "print(d [\"java\"])\n",
    "print(d [\"Python\"])\n",
    "print(d [\"c\"])\n",
    "print(d [\"c++\"])\n",
    "print(d [\"HTML\"])"
   ]
  },
  {
   "cell_type": "code",
   "execution_count": 152,
   "id": "1b237a58-e326-4026-89a8-3415a118e903",
   "metadata": {},
   "outputs": [
    {
     "name": "stdout",
     "output_type": "stream",
     "text": [
      "1\n"
     ]
    }
   ],
   "source": [
    "d={\"java\":1,\"Python\":2,\"c\":3,\"c++\":4,\"HTML\":5}\n",
    "print(d.get(\"java\"))"
   ]
  },
  {
   "cell_type": "code",
   "execution_count": 153,
   "id": "c1ea2f4d-290a-4d6e-ab01-6fed46273a02",
   "metadata": {},
   "outputs": [
    {
     "name": "stdin",
     "output_type": "stream",
     "text": [
      "Enter the key: java\n"
     ]
    },
    {
     "name": "stdout",
     "output_type": "stream",
     "text": [
      "1\n"
     ]
    }
   ],
   "source": [
    "user=input(\"Enter the key:\")\n",
    "v=d.get(user)\n",
    "print(v)"
   ]
  },
  {
   "cell_type": "code",
   "execution_count": 154,
   "id": "2089e3a4-a8d3-4742-b97d-567021929b62",
   "metadata": {},
   "outputs": [
    {
     "name": "stdin",
     "output_type": "stream",
     "text": [
      "enter valuse: 30\n"
     ]
    }
   ],
   "source": [
    "dict={\"Name\":\"abc\",\"class\":30}\n",
    "user=input(\"enter valuse:\")"
   ]
  },
  {
   "cell_type": "code",
   "execution_count": 155,
   "id": "5f52b507-3000-47e6-a813-ce3efe4040fe",
   "metadata": {},
   "outputs": [
    {
     "ename": "SyntaxError",
     "evalue": "unterminated string literal (detected at line 2) (3344386537.py, line 2)",
     "output_type": "error",
     "traceback": [
      "\u001b[1;36m  Cell \u001b[1;32mIn[155], line 2\u001b[1;36m\u001b[0m\n\u001b[1;33m    s=\"The \"mango\" is \"fruit.\"\u001b[0m\n\u001b[1;37m                             ^\u001b[0m\n\u001b[1;31mSyntaxError\u001b[0m\u001b[1;31m:\u001b[0m unterminated string literal (detected at line 2)\n"
     ]
    }
   ],
   "source": [
    "#Escape Sequence\n",
    "s=\"The \"mango\" is \"fruit.\"\n",
    "print(s)"
   ]
  },
  {
   "cell_type": "code",
   "execution_count": 157,
   "id": "765881c2-97a9-4ff9-8cce-5eec5ef86708",
   "metadata": {},
   "outputs": [
    {
     "name": "stdout",
     "output_type": "stream",
     "text": [
      "The \"mango\" is fruit.\n",
      "The \"mango\" is fruite.\n",
      "hello\\world\n",
      "The mango is fruite.\n",
      "Tomato is vegitable\n",
      "world\n",
      "hellworld\n",
      "The 'mango' is fruite.\n",
      "hello  world\n",
      "world   \n"
     ]
    }
   ],
   "source": [
    "s=\"The \\\"mango\\\" is fruit.\"\n",
    "print(s)\n",
    "s='The \"mango\" is fruite.'\n",
    "print(s)\n",
    "s=\"hello\\\\world\"\n",
    "print(s)\n",
    "# \\n\n",
    "s=\"The mango is fruite.\\nTomato is vegitable\"\n",
    "print(s)\n",
    "# \\r\n",
    "s1=\"hello\\rworld\"\n",
    "print(s1)\n",
    "# \\b\n",
    "s2=\"hello\\bworld\"\n",
    "print(s2)\n",
    "s=\"The 'mango' is fruite.\"\n",
    "print(s)\n",
    "s=\"hello   \\bworld\"\n",
    "print(s)\n",
    "s=\"hello   \\rworld\"\n",
    "print(s)"
   ]
  },
  {
   "cell_type": "code",
   "execution_count": 156,
   "id": "b43bb1ff-e984-4453-abfa-ec19e0590dfe",
   "metadata": {},
   "outputs": [
    {
     "name": "stdout",
     "output_type": "stream",
     "text": [
      "['apple', 'banana', 'mango', 'orange']\n"
     ]
    }
   ],
   "source": [
    "#slicing\n",
    "lis1=[\"apple\",\"banana\",\"mango\",\"orange\"]\n",
    "print(lis1)"
   ]
  },
  {
   "cell_type": "code",
   "execution_count": 158,
   "id": "cde35e29-7fd9-482c-9f04-e87f952c3c23",
   "metadata": {},
   "outputs": [
    {
     "name": "stdout",
     "output_type": "stream",
     "text": [
      "mango\n"
     ]
    }
   ],
   "source": [
    "print(lis1[2])"
   ]
  },
  {
   "cell_type": "code",
   "execution_count": 159,
   "id": "160714e4-ccc8-4edd-91e2-64e5ccf4e334",
   "metadata": {},
   "outputs": [
    {
     "name": "stdout",
     "output_type": "stream",
     "text": [
      "apple\n"
     ]
    }
   ],
   "source": [
    "print(lis1[0])"
   ]
  },
  {
   "cell_type": "code",
   "execution_count": 160,
   "id": "1fbbf572-ddd7-461f-a79f-fddc63ab47d1",
   "metadata": {},
   "outputs": [
    {
     "name": "stdout",
     "output_type": "stream",
     "text": [
      "['apple', 'banana', 'mango', 'orange']\n"
     ]
    }
   ],
   "source": [
    "# slicing [start:stop:step]\n",
    "lis1=[\"apple\",\"banana\",\"mango\",\"orange\"]\n",
    "print(lis1)"
   ]
  },
  {
   "cell_type": "code",
   "execution_count": 161,
   "id": "03d983c0-54b4-46af-b8e3-85700ae90475",
   "metadata": {},
   "outputs": [
    {
     "name": "stdout",
     "output_type": "stream",
     "text": [
      "banana\n"
     ]
    }
   ],
   "source": [
    "print(lis1[1])"
   ]
  },
  {
   "cell_type": "code",
   "execution_count": 162,
   "id": "5d839e8a-2759-4a19-bbdd-09385655a0b2",
   "metadata": {},
   "outputs": [
    {
     "name": "stdout",
     "output_type": "stream",
     "text": [
      "['apple', 'banana', 'mango', 'orange']\n"
     ]
    }
   ],
   "source": [
    "# stop[+1]\n",
    "lis1=[\"apple\",\"banana\",\"mango\",\"orange\"]\n",
    "print(lis1)"
   ]
  },
  {
   "cell_type": "code",
   "execution_count": 163,
   "id": "cd9b2447-77aa-4b00-bff8-664f0e3cd67e",
   "metadata": {},
   "outputs": [
    {
     "name": "stdout",
     "output_type": "stream",
     "text": [
      "['banana', 'mango']\n"
     ]
    }
   ],
   "source": [
    "print(lis1[1:3])"
   ]
  },
  {
   "cell_type": "code",
   "execution_count": 164,
   "id": "ba180832-5c3d-4564-b68c-f51ad57eed00",
   "metadata": {},
   "outputs": [
    {
     "name": "stdout",
     "output_type": "stream",
     "text": [
      "None\n",
      "['apple', 'banana', 'mango', 'orange', 'pineapple']\n"
     ]
    }
   ],
   "source": [
    "print(lis1.append(\"pineapple\"))\n",
    "print(lis1)"
   ]
  },
  {
   "cell_type": "code",
   "execution_count": 165,
   "id": "4b476d34-cfe6-4d4d-ac84-416f36857aa3",
   "metadata": {},
   "outputs": [
    {
     "name": "stdout",
     "output_type": "stream",
     "text": [
      "['apple', 'banana', 'mango']\n"
     ]
    }
   ],
   "source": [
    "print(lis1[0:3])"
   ]
  },
  {
   "cell_type": "code",
   "execution_count": 166,
   "id": "8fbd101e-6d02-4bf3-80b2-5407d605f04c",
   "metadata": {},
   "outputs": [
    {
     "name": "stdout",
     "output_type": "stream",
     "text": [
      "['apple', 'banana', 'mango', 'orange']\n"
     ]
    }
   ],
   "source": [
    "\n",
    "print(lis1[0:4])"
   ]
  },
  {
   "cell_type": "code",
   "execution_count": 167,
   "id": "45495240-affb-41c0-ab13-d1a4b6764835",
   "metadata": {},
   "outputs": [
    {
     "name": "stdout",
     "output_type": "stream",
     "text": [
      "['mango', 'orange']\n"
     ]
    }
   ],
   "source": [
    "print(lis1[2:4])"
   ]
  },
  {
   "cell_type": "code",
   "execution_count": 168,
   "id": "ba26e67d-97a4-4556-a53e-cd387842e015",
   "metadata": {},
   "outputs": [
    {
     "name": "stdout",
     "output_type": "stream",
     "text": [
      "['apple', 'mango', 'pineapple']\n"
     ]
    }
   ],
   "source": [
    "print(lis1[0:5:2])"
   ]
  },
  {
   "cell_type": "code",
   "execution_count": 169,
   "id": "4ab92a55-5873-472f-a3cd-507a668a042a",
   "metadata": {},
   "outputs": [
    {
     "name": "stdout",
     "output_type": "stream",
     "text": [
      "['orange']\n"
     ]
    }
   ],
   "source": [
    "print(lis1[3:4:1])"
   ]
  },
  {
   "cell_type": "code",
   "execution_count": 170,
   "id": "5c18d97f-d238-4c76-a903-63d68b851905",
   "metadata": {},
   "outputs": [
    {
     "name": "stdout",
     "output_type": "stream",
     "text": [
      "['orange', 'pineapple']\n"
     ]
    }
   ],
   "source": [
    "print(lis1[3:])"
   ]
  },
  {
   "cell_type": "code",
   "execution_count": 171,
   "id": "21d92cfc-70aa-4ed0-ac65-7905a934e671",
   "metadata": {},
   "outputs": [
    {
     "name": "stdout",
     "output_type": "stream",
     "text": [
      "['mango', 'orange', 'pineapple']\n"
     ]
    }
   ],
   "source": [
    "print(lis1[2:])"
   ]
  },
  {
   "cell_type": "code",
   "execution_count": 172,
   "id": "1b10e22b-3feb-45d9-a785-f02cf2294b09",
   "metadata": {},
   "outputs": [
    {
     "name": "stdout",
     "output_type": "stream",
     "text": [
      "['apple', 'banana']\n"
     ]
    }
   ],
   "source": [
    "print(lis1[:2])"
   ]
  },
  {
   "cell_type": "code",
   "execution_count": 173,
   "id": "a3a5df4e-7749-4400-aac7-b31684af2d7c",
   "metadata": {},
   "outputs": [
    {
     "name": "stdout",
     "output_type": "stream",
     "text": [
      "['apple', 'banana', 'mango', 'orange']\n"
     ]
    }
   ],
   "source": [
    "print(lis1[:4])"
   ]
  },
  {
   "cell_type": "code",
   "execution_count": 174,
   "id": "acf32abe-7941-4da4-9ab6-6a26d59a5011",
   "metadata": {},
   "outputs": [
    {
     "name": "stdout",
     "output_type": "stream",
     "text": [
      "['apple', 'banana', 'mango', 'orange', 'pineapple']\n"
     ]
    }
   ],
   "source": [
    "print(lis1[:])"
   ]
  },
  {
   "cell_type": "code",
   "execution_count": 175,
   "id": "4341a245-bf57-4b54-9c40-f6e3bb2c3ae6",
   "metadata": {},
   "outputs": [
    {
     "name": "stdout",
     "output_type": "stream",
     "text": [
      "['apple', 'mango', 'pineapple']\n"
     ]
    }
   ],
   "source": [
    "print(lis1[::2])"
   ]
  },
  {
   "cell_type": "code",
   "execution_count": 176,
   "id": "056c09da-cf55-40de-a158-89ed61005ec0",
   "metadata": {},
   "outputs": [
    {
     "name": "stdout",
     "output_type": "stream",
     "text": [
      "['apple', 'orange']\n"
     ]
    }
   ],
   "source": [
    "print(lis1[::3])"
   ]
  },
  {
   "cell_type": "code",
   "execution_count": 177,
   "id": "998ddf67-5423-4e5b-bd6b-79639f70cf9d",
   "metadata": {},
   "outputs": [
    {
     "name": "stdout",
     "output_type": "stream",
     "text": [
      "['apple', 'pineapple']\n"
     ]
    }
   ],
   "source": [
    "print(lis1[::4])"
   ]
  },
  {
   "cell_type": "code",
   "execution_count": 178,
   "id": "6971b59b-9fa0-40ac-9eea-76c6983b7377",
   "metadata": {},
   "outputs": [
    {
     "name": "stdout",
     "output_type": "stream",
     "text": [
      "['pineapple', 'orange', 'mango', 'banana', 'apple']\n"
     ]
    }
   ],
   "source": [
    "print(lis1[::-1])"
   ]
  },
  {
   "cell_type": "code",
   "execution_count": 179,
   "id": "a894850f-8fac-49aa-8b6b-337f3781d26c",
   "metadata": {},
   "outputs": [
    {
     "name": "stdout",
     "output_type": "stream",
     "text": [
      "['pineapple', 'mango', 'apple']\n"
     ]
    }
   ],
   "source": [
    "print(lis1[::-2])"
   ]
  },
  {
   "cell_type": "code",
   "execution_count": 180,
   "id": "df2f1d70-11ca-4a61-a56b-ad2830c19f30",
   "metadata": {},
   "outputs": [
    {
     "name": "stdout",
     "output_type": "stream",
     "text": [
      "I\n"
     ]
    }
   ],
   "source": [
    "s=\"Infobyte\"\n",
    "print(s[0])"
   ]
  },
  {
   "cell_type": "code",
   "execution_count": 181,
   "id": "5a8a9a46-c531-4066-83f9-a385bee56e23",
   "metadata": {},
   "outputs": [
    {
     "name": "stdout",
     "output_type": "stream",
     "text": [
      "t\n"
     ]
    }
   ],
   "source": [
    "print(s[6])"
   ]
  },
  {
   "cell_type": "code",
   "execution_count": 182,
   "id": "d5226831-ff97-42fb-91a8-f094d4f238c6",
   "metadata": {},
   "outputs": [
    {
     "name": "stdout",
     "output_type": "stream",
     "text": [
      "8\n"
     ]
    }
   ],
   "source": [
    "print(len(s))"
   ]
  },
  {
   "cell_type": "code",
   "execution_count": 183,
   "id": "67fbb340-54a3-416c-93ac-6106aad70e77",
   "metadata": {},
   "outputs": [
    {
     "name": "stdout",
     "output_type": "stream",
     "text": [
      "foby\n"
     ]
    }
   ],
   "source": [
    "print(s[2:6])"
   ]
  },
  {
   "cell_type": "code",
   "execution_count": 184,
   "id": "7c99225c-558f-4508-9ef7-90acc9d5660f",
   "metadata": {},
   "outputs": [
    {
     "name": "stdout",
     "output_type": "stream",
     "text": [
      "nfo\n"
     ]
    }
   ],
   "source": [
    "print(s[1:4])"
   ]
  },
  {
   "cell_type": "code",
   "execution_count": 185,
   "id": "f0c03d87-e4dc-4ec6-8f74-b0a8754efff4",
   "metadata": {},
   "outputs": [
    {
     "name": "stdout",
     "output_type": "stream",
     "text": [
      "no\n"
     ]
    }
   ],
   "source": [
    "print(s[1:4:2])"
   ]
  },
  {
   "cell_type": "code",
   "execution_count": 186,
   "id": "a18c9765-f2e6-47d3-9b4a-de09c8bf82c8",
   "metadata": {},
   "outputs": [
    {
     "name": "stdout",
     "output_type": "stream",
     "text": [
      "I\n"
     ]
    }
   ],
   "source": [
    "print(s[0:4:6])"
   ]
  },
  {
   "cell_type": "code",
   "execution_count": 187,
   "id": "f9b85fe9-3ec9-4a74-8aa1-4141f5a871f7",
   "metadata": {},
   "outputs": [
    {
     "name": "stdout",
     "output_type": "stream",
     "text": [
      "Ifbt\n"
     ]
    }
   ],
   "source": [
    "print(s[0:8:2])"
   ]
  },
  {
   "cell_type": "code",
   "execution_count": 188,
   "id": "6caadbf4-dc37-4a13-a3cf-65f86e857442",
   "metadata": {},
   "outputs": [
    {
     "name": "stdout",
     "output_type": "stream",
     "text": [
      "In\n"
     ]
    }
   ],
   "source": [
    "print(s[:2])"
   ]
  },
  {
   "cell_type": "code",
   "execution_count": 189,
   "id": "0a6becda-121e-45b5-a614-c75a06e9425b",
   "metadata": {},
   "outputs": [
    {
     "name": "stdout",
     "output_type": "stream",
     "text": [
      "etybofnI\n"
     ]
    }
   ],
   "source": [
    "s=\"Infobyte\"\n",
    "print(s[::-1])"
   ]
  },
  {
   "cell_type": "code",
   "execution_count": 190,
   "id": "befb6fad-f382-4667-bd16-d54a5f08c5a3",
   "metadata": {},
   "outputs": [
    {
     "name": "stdout",
     "output_type": "stream",
     "text": [
      "1\n"
     ]
    }
   ],
   "source": [
    "t=(1,2,3,4)\n",
    "print(t[0])"
   ]
  },
  {
   "cell_type": "code",
   "execution_count": 191,
   "id": "c3979cb3-8256-4042-9852-1c93d2687dea",
   "metadata": {},
   "outputs": [
    {
     "name": "stdout",
     "output_type": "stream",
     "text": [
      "4\n"
     ]
    }
   ],
   "source": [
    "print(t[3])"
   ]
  },
  {
   "cell_type": "code",
   "execution_count": 192,
   "id": "0312d72a-0773-4add-a406-be7255102a1b",
   "metadata": {},
   "outputs": [
    {
     "name": "stdout",
     "output_type": "stream",
     "text": [
      "(4,)\n"
     ]
    }
   ],
   "source": [
    "print(t[3::])"
   ]
  },
  {
   "cell_type": "code",
   "execution_count": 193,
   "id": "dd45160b-1be6-4aec-8f6f-296dbfcd42ed",
   "metadata": {},
   "outputs": [
    {
     "name": "stdout",
     "output_type": "stream",
     "text": [
      "(4, 3, 2, 1)\n"
     ]
    }
   ],
   "source": [
    "print(t[::-1])"
   ]
  },
  {
   "cell_type": "code",
   "execution_count": 194,
   "id": "340db147-5cda-4cae-a1c0-45d0322fcbe5",
   "metadata": {},
   "outputs": [
    {
     "name": "stdout",
     "output_type": "stream",
     "text": [
      "(1, 2)\n"
     ]
    }
   ],
   "source": [
    "print(t[:2])"
   ]
  },
  {
   "cell_type": "code",
   "execution_count": 195,
   "id": "bc62b7a2-9a97-48d4-b20a-4140746068be",
   "metadata": {},
   "outputs": [
    {
     "name": "stdout",
     "output_type": "stream",
     "text": [
      "(3, 4)\n"
     ]
    }
   ],
   "source": [
    "print(t[2:4:1])"
   ]
  },
  {
   "cell_type": "code",
   "execution_count": 196,
   "id": "68892d29-4812-46a4-9cdb-b9a591d9b96e",
   "metadata": {},
   "outputs": [
    {
     "name": "stdout",
     "output_type": "stream",
     "text": [
      "5 10\n"
     ]
    }
   ],
   "source": [
    "a=10\n",
    "b=5\n",
    "v=b\n",
    "b=a\n",
    "a=v\n",
    "print(a,b)\n"
   ]
  },
  {
   "cell_type": "code",
   "execution_count": 197,
   "id": "9b5e4f45-0c68-4004-963e-093cc7883ab2",
   "metadata": {},
   "outputs": [
    {
     "name": "stdout",
     "output_type": "stream",
     "text": [
      "None\n",
      "[1, 2, 4, 8, 9]\n",
      "9\n"
     ]
    }
   ],
   "source": [
    "li=[9,4,2,8,1]\n",
    "print(li.sort())\n",
    "print(li)\n",
    "l=(len(li))\n",
    "print(li[l-1])"
   ]
  },
  {
   "cell_type": "code",
   "execution_count": 198,
   "id": "105a7ecb-fd98-4501-acd4-28bf020fd956",
   "metadata": {},
   "outputs": [
    {
     "name": "stdout",
     "output_type": "stream",
     "text": [
      "{'class': 'student', 'sub': 'python', 'class no': 20}\n"
     ]
    }
   ],
   "source": [
    "dict={\"class\":\"student\",\"sub\":\"python\",\"class no\":20}\n",
    "print(dict)"
   ]
  },
  {
   "cell_type": "code",
   "execution_count": 199,
   "id": "8169ecfa-94a1-49a2-9a1c-5f4459c0f39e",
   "metadata": {},
   "outputs": [
    {
     "name": "stdout",
     "output_type": "stream",
     "text": [
      "Inf\n"
     ]
    }
   ],
   "source": [
    "s=\"Infobyte\"\n",
    "print(s[0:3])"
   ]
  },
  {
   "cell_type": "code",
   "execution_count": 200,
   "id": "3f1f6f0a-8ece-441b-9fff-0d9d5fa86d52",
   "metadata": {},
   "outputs": [
    {
     "name": "stdout",
     "output_type": "stream",
     "text": [
      "Namratashinde\n"
     ]
    }
   ],
   "source": [
    "s=\"Namrata\"\n",
    "s1=\"shinde\"\n",
    "print(s+s1)"
   ]
  },
  {
   "cell_type": "code",
   "execution_count": 201,
   "id": "334ce872-2bbb-4d22-b201-097650aa729d",
   "metadata": {},
   "outputs": [
    {
     "name": "stdout",
     "output_type": "stream",
     "text": [
      "None\n",
      "{'class': 'student', 'sub': 'python', 'class no': 20, 'city': 'mumbai'}\n"
     ]
    }
   ],
   "source": [
    "dict={\"class\":\"student\",\"sub\":\"python\",\"class no\":20}\n",
    "print(dict.update({\"city\":\"mumbai\"}))\n",
    "print(dict)"
   ]
  },
  {
   "cell_type": "code",
   "execution_count": 202,
   "id": "39bb9c12-be0d-4591-8f54-b76e713264eb",
   "metadata": {},
   "outputs": [
    {
     "name": "stdout",
     "output_type": "stream",
     "text": [
      "5\n"
     ]
    }
   ],
   "source": [
    "t=(5,3,7,8,1)\n",
    "print(len(t))"
   ]
  },
  {
   "cell_type": "code",
   "execution_count": 203,
   "id": "02502901-d58d-4834-815d-2b3f3eeab75a",
   "metadata": {},
   "outputs": [
    {
     "name": "stdout",
     "output_type": "stream",
     "text": [
      "None\n",
      "[1, 3, 5, 7, 8]\n",
      "1\n"
     ]
    }
   ],
   "source": [
    "li=[5,3,7,8,1]\n",
    "print(li.sort())\n",
    "print(li)\n",
    "print(li[0])"
   ]
  },
  {
   "cell_type": "code",
   "execution_count": 204,
   "id": "5ab0d68b-d659-4081-9d04-247ed32c068c",
   "metadata": {},
   "outputs": [
    {
     "name": "stdout",
     "output_type": "stream",
     "text": [
      "5 10\n"
     ]
    }
   ],
   "source": [
    "a=10\n",
    "b=5\n",
    "a=a+b\n",
    "b=a-b\n",
    "a=a-b\n",
    "print(a,b)"
   ]
  },
  {
   "cell_type": "code",
   "execution_count": 205,
   "id": "f1477902-8e8d-4589-afdc-be7b9fdbf9a9",
   "metadata": {},
   "outputs": [
    {
     "name": "stdout",
     "output_type": "stream",
     "text": [
      "5 10\n"
     ]
    }
   ],
   "source": [
    "a=10\n",
    "b=5\n",
    "v=b\n",
    "b=a\n",
    "a=v\n",
    "print(a,b)"
   ]
  },
  {
   "cell_type": "code",
   "execution_count": 206,
   "id": "e47b82fc-f4f4-4d77-9e09-e8ce8ac1922a",
   "metadata": {},
   "outputs": [
    {
     "name": "stdout",
     "output_type": "stream",
     "text": [
      "hello world\n"
     ]
    }
   ],
   "source": [
    "print(\"hello world\")"
   ]
  },
  {
   "cell_type": "code",
   "execution_count": 207,
   "id": "9cc394bb-1398-4d8e-8e92-eda2c2b8c110",
   "metadata": {},
   "outputs": [
    {
     "name": "stdout",
     "output_type": "stream",
     "text": [
      "None\n",
      "[3, 5, 7, 8, 9]\n",
      "9\n"
     ]
    }
   ],
   "source": [
    "# highest no\n",
    "list1=[9,5,7,3,8]\n",
    "print(list1.sort())\n",
    "print(list1)\n",
    "l=(len(list1))\n",
    "print(list1[l-1])"
   ]
  },
  {
   "cell_type": "code",
   "execution_count": 208,
   "id": "8157110b-6215-4c32-b955-e1f679ff3727",
   "metadata": {},
   "outputs": [
    {
     "name": "stdout",
     "output_type": "stream",
     "text": [
      "{'class': 'python', 'sub': 'java', 'city': 'mumbai'}\n"
     ]
    }
   ],
   "source": [
    "dict={\"class\":\"python\",\"sub\":\"java\",\"city\":\"mumbai\"}\n",
    "print(dict)"
   ]
  },
  {
   "cell_type": "code",
   "execution_count": 209,
   "id": "a01d9196-4c00-44cc-8617-1d185e34d8ff",
   "metadata": {},
   "outputs": [
    {
     "name": "stdout",
     "output_type": "stream",
     "text": [
      "Inf\n"
     ]
    }
   ],
   "source": [
    "s=\"Infobyte\"\n",
    "#(0:2+1)(stop+1)\n",
    "print(s[0:3])"
   ]
  },
  {
   "cell_type": "code",
   "execution_count": 210,
   "id": "936dfd84-c8ae-4560-a1d5-e56f87cddabf",
   "metadata": {},
   "outputs": [
    {
     "name": "stdout",
     "output_type": "stream",
     "text": [
      "InfobyteInstitute\n"
     ]
    }
   ],
   "source": [
    "s1=\"Infobyte\"\n",
    "s2=\"Institute\"\n",
    "print(s1+s2)"
   ]
  },
  {
   "cell_type": "code",
   "execution_count": 211,
   "id": "595be79a-997d-4e45-a38d-8953ae3d64ef",
   "metadata": {},
   "outputs": [
    {
     "name": "stdout",
     "output_type": "stream",
     "text": [
      "None\n",
      "{'class': 'python', 'sub': 'java', 'city': 'mumbai', 'location': 'Nerul'}\n"
     ]
    }
   ],
   "source": [
    "dict={\"class\":\"python\",\"sub\":\"java\",\"city\":\"mumbai\"}\n",
    "print(dict.update({\"location\":\"Nerul\"}))\n",
    "print(dict)"
   ]
  },
  {
   "cell_type": "code",
   "execution_count": 212,
   "id": "75087284-b83d-4d76-8522-54ec6af2680e",
   "metadata": {},
   "outputs": [
    {
     "name": "stdout",
     "output_type": "stream",
     "text": [
      "None\n",
      "[3, 5, 7, 8, 9]\n",
      "3\n"
     ]
    }
   ],
   "source": [
    "li=[5,7,8,9,3]\n",
    "print(li.sort())\n",
    "print(li)\n",
    "print(li[0])"
   ]
  },
  {
   "cell_type": "code",
   "execution_count": 213,
   "id": "278c5945-ae04-498b-b19d-300d23d91407",
   "metadata": {},
   "outputs": [
    {
     "name": "stdout",
     "output_type": "stream",
     "text": [
      "8\n"
     ]
    }
   ],
   "source": [
    "t=(9,4,6,9,6,7,8,3)\n",
    "print(len(t))"
   ]
  },
  {
   "cell_type": "code",
   "execution_count": 214,
   "id": "05d83b03-74fc-4471-9b38-6bda421f38e4",
   "metadata": {},
   "outputs": [
    {
     "name": "stdout",
     "output_type": "stream",
     "text": [
      "4 8\n"
     ]
    }
   ],
   "source": [
    "a=8\n",
    "b=4\n",
    "a=a+b\n",
    "b=a-b\n",
    "a=a-b\n",
    "print(a,b)\n"
   ]
  },
  {
   "cell_type": "code",
   "execution_count": 217,
   "id": "69d0b977-b328-424f-9848-78f06fa2bfd5",
   "metadata": {},
   "outputs": [
    {
     "name": "stdin",
     "output_type": "stream",
     "text": [
      "Enter the key: rahul\n"
     ]
    },
    {
     "name": "stdout",
     "output_type": "stream",
     "text": [
      "your marks is 75\n"
     ]
    }
   ],
   "source": [
    "d={\"rahul\":75,\"geeta\":80,\"siya\":86,\"ram\":90,\"avi\":60,\"sakshi\":65}\n",
    "user=input(\"Enter the key:\")\n",
    "v=d.get(user)\n",
    "print(\"your marks is\",v)"
   ]
  },
  {
   "cell_type": "code",
   "execution_count": 218,
   "id": "98d51af6-afbc-44a1-9109-2722b2ff0b49",
   "metadata": {},
   "outputs": [
    {
     "name": "stdin",
     "output_type": "stream",
     "text": [
      "enter the values: 89\n"
     ]
    },
    {
     "name": "stdout",
     "output_type": "stream",
     "text": [
      "name None\n"
     ]
    }
   ],
   "source": [
    "d={\"teena\":56,\"geeta\":89,\"om\":54,\"anjali\":78,\"rahul\":88,\"gauri\":78,\"shiv\":90}\n",
    "user=input(\"enter the values:\")\n",
    "v=d.get(user)\n",
    "print(\"name\",v)"
   ]
  },
  {
   "cell_type": "code",
   "execution_count": 219,
   "id": "855da100-51f6-43e3-814a-f952b97100bc",
   "metadata": {},
   "outputs": [
    {
     "name": "stdout",
     "output_type": "stream",
     "text": [
      "15\n",
      "-5\n",
      "50\n",
      "5\n",
      "0.5\n",
      "9765625\n",
      "0\n"
     ]
    }
   ],
   "source": [
    "# Arithmatic operator:+,-,*,/,%,**,//\n",
    "a=5\n",
    "b=10\n",
    "c=a+b\n",
    "print(c)\n",
    "c=a-b\n",
    "print(c)\n",
    "c=a*b\n",
    "print(c)\n",
    "c=a%b\n",
    "print(c)\n",
    "c=a/b\n",
    "print(c)\n",
    "c=a**b\n",
    "print(c)\n",
    "c=a//b\n",
    "print(c)"
   ]
  },
  {
   "cell_type": "code",
   "execution_count": 220,
   "id": "a6d90d66-ca0c-4e5d-b3e9-fe51474c4fbd",
   "metadata": {},
   "outputs": [
    {
     "name": "stdout",
     "output_type": "stream",
     "text": [
      "8\n"
     ]
    }
   ],
   "source": [
    "# Exponent\n",
    "z=2**3\n",
    "print(z)"
   ]
  },
  {
   "cell_type": "code",
   "execution_count": 221,
   "id": "c18d48b1-bf7d-4897-af79-4c178e1da0cb",
   "metadata": {},
   "outputs": [
    {
     "name": "stdout",
     "output_type": "stream",
     "text": [
      "0\n"
     ]
    }
   ],
   "source": [
    "z=5//10\n",
    "print(z)"
   ]
  },
  {
   "cell_type": "code",
   "execution_count": 222,
   "id": "176b2cc9-100f-4402-b294-643141552240",
   "metadata": {},
   "outputs": [
    {
     "name": "stdout",
     "output_type": "stream",
     "text": [
      "-2.1538461538461537\n",
      "2.0\n",
      "17.0\n",
      "2.0\n",
      "0.5\n"
     ]
    }
   ],
   "source": [
    "z=-56/26\n",
    "print(z)\n",
    "z=36/18\n",
    "print(z)\n",
    "z=34/2\n",
    "print(z)\n",
    "z=10/5\n",
    "print(z)\n",
    "z=5/10\n",
    "print(z)"
   ]
  },
  {
   "cell_type": "code",
   "execution_count": 223,
   "id": "a45340b7-eb5b-4b5c-b01d-b7876c01ec05",
   "metadata": {},
   "outputs": [
    {
     "name": "stdout",
     "output_type": "stream",
     "text": [
      "0\n"
     ]
    }
   ],
   "source": [
    "# Modulus(Remainder)\n",
    "z=10%5\n",
    "print(z)"
   ]
  },
  {
   "cell_type": "code",
   "execution_count": 224,
   "id": "90f25426-62e6-4123-8a17-f570eefacf35",
   "metadata": {},
   "outputs": [
    {
     "name": "stdout",
     "output_type": "stream",
     "text": [
      "1\n",
      "0\n"
     ]
    }
   ],
   "source": [
    "z=99%2\n",
    "print(z)\n",
    "z=34%2\n",
    "print(z)"
   ]
  },
  {
   "cell_type": "code",
   "execution_count": 225,
   "id": "a2a35f7d-3b1a-4217-8c28-8885a7c4c7df",
   "metadata": {},
   "outputs": [
    {
     "name": "stdout",
     "output_type": "stream",
     "text": [
      "1\n"
     ]
    }
   ],
   "source": [
    "z=35%2\n",
    "print(z)"
   ]
  },
  {
   "cell_type": "code",
   "execution_count": 226,
   "id": "a0d96b9a-3db9-48a2-83e2-9d716dcec190",
   "metadata": {},
   "outputs": [
    {
     "name": "stdout",
     "output_type": "stream",
     "text": [
      "2\n",
      "2\n",
      "3\n"
     ]
    }
   ],
   "source": [
    "# Floor division\n",
    "z=10//5\n",
    "print(z)\n",
    "z=11//5\n",
    "print(z)\n",
    "z=54//18\n",
    "print(z)"
   ]
  },
  {
   "cell_type": "code",
   "execution_count": 227,
   "id": "de040dc9-5bae-40aa-952b-f4a905c59989",
   "metadata": {},
   "outputs": [
    {
     "name": "stdout",
     "output_type": "stream",
     "text": [
      "15\n",
      "12\n"
     ]
    }
   ],
   "source": [
    "# Assignment:=,+=,-=,*=,/=.....\n",
    "a=10\n",
    "b=5\n",
    "a=a+b\n",
    "print(a)\n",
    "a=6\n",
    "b=6\n",
    "b=a+b\n",
    "print(b)\n",
    "\n"
   ]
  },
  {
   "cell_type": "code",
   "execution_count": 228,
   "id": "b8404a3f-4b10-48e3-9b9b-319e842ef1d2",
   "metadata": {},
   "outputs": [
    {
     "name": "stdout",
     "output_type": "stream",
     "text": [
      "7\n",
      "8\n",
      "7\n"
     ]
    }
   ],
   "source": [
    "a=a+1\n",
    "print(a)\n",
    "a+=1\n",
    "print(a)\n",
    "a-=1\n",
    "print(a)\n"
   ]
  },
  {
   "cell_type": "code",
   "execution_count": 229,
   "id": "4ab4e098-272b-4daa-b706-ac21c1ffe43a",
   "metadata": {},
   "outputs": [
    {
     "name": "stdout",
     "output_type": "stream",
     "text": [
      "8\n",
      "7\n"
     ]
    }
   ],
   "source": [
    "a+=1\n",
    "print(a)\n",
    "a-=1\n",
    "print(a)"
   ]
  },
  {
   "cell_type": "code",
   "execution_count": 230,
   "id": "16ca608e-8d31-4272-8ef8-1dbe5b302f3c",
   "metadata": {},
   "outputs": [
    {
     "name": "stdout",
     "output_type": "stream",
     "text": [
      "6\n"
     ]
    }
   ],
   "source": [
    "a-=1\n",
    "print(a)"
   ]
  },
  {
   "cell_type": "code",
   "execution_count": 231,
   "id": "96a9f906-bd13-45b1-bcde-460db5ab53b2",
   "metadata": {},
   "outputs": [
    {
     "name": "stdout",
     "output_type": "stream",
     "text": [
      "6\n"
     ]
    }
   ],
   "source": [
    "a*=1\n",
    "print(a)"
   ]
  },
  {
   "cell_type": "code",
   "execution_count": 232,
   "id": "a51df7dc-bc8c-4e8c-9f64-5ea3aa66a503",
   "metadata": {},
   "outputs": [
    {
     "name": "stdout",
     "output_type": "stream",
     "text": [
      "6.0\n"
     ]
    }
   ],
   "source": [
    "a/=1\n",
    "print(a)"
   ]
  },
  {
   "cell_type": "code",
   "execution_count": 233,
   "id": "fbc3cbb0-51f4-49df-8b26-5f970610e8a7",
   "metadata": {},
   "outputs": [
    {
     "name": "stdout",
     "output_type": "stream",
     "text": [
      "1.5\n"
     ]
    }
   ],
   "source": [
    "a/=4\n",
    "print(a)"
   ]
  },
  {
   "cell_type": "code",
   "execution_count": 234,
   "id": "f4c337a4-437d-46b2-b95e-47450c68e071",
   "metadata": {},
   "outputs": [
    {
     "name": "stdout",
     "output_type": "stream",
     "text": [
      "True\n"
     ]
    }
   ],
   "source": [
    "#comparision operator:==,!=,<,>,<=,>=\n",
    "v=5\n",
    "v1=6\n",
    "v3=5\n",
    "v4=\"6\"\n",
    "print(v==v3)"
   ]
  },
  {
   "cell_type": "code",
   "execution_count": 235,
   "id": "e55c8eb6-2523-4602-8462-cf2cc92c0170",
   "metadata": {},
   "outputs": [
    {
     "name": "stdout",
     "output_type": "stream",
     "text": [
      "False\n"
     ]
    }
   ],
   "source": [
    "print(v1==v4)"
   ]
  },
  {
   "cell_type": "code",
   "execution_count": 236,
   "id": "b4666540-2bf7-4798-950b-c51495e01273",
   "metadata": {},
   "outputs": [
    {
     "name": "stdout",
     "output_type": "stream",
     "text": [
      "True\n"
     ]
    }
   ],
   "source": [
    "print(v!=v4)"
   ]
  },
  {
   "cell_type": "code",
   "execution_count": 237,
   "id": "61b07530-9be4-47eb-b92b-7225f851c596",
   "metadata": {},
   "outputs": [
    {
     "name": "stdout",
     "output_type": "stream",
     "text": [
      "False\n"
     ]
    }
   ],
   "source": [
    "print(v!=v3)"
   ]
  },
  {
   "cell_type": "code",
   "execution_count": 238,
   "id": "d74c5aaa-63b6-48fb-b8f8-ca7f4eac08ac",
   "metadata": {},
   "outputs": [
    {
     "name": "stdout",
     "output_type": "stream",
     "text": [
      "True\n"
     ]
    }
   ],
   "source": [
    "print(7<10)"
   ]
  },
  {
   "cell_type": "code",
   "execution_count": 239,
   "id": "82bd50de-2f65-43c1-98eb-93b252900b97",
   "metadata": {},
   "outputs": [
    {
     "name": "stdout",
     "output_type": "stream",
     "text": [
      "False\n"
     ]
    }
   ],
   "source": [
    "print(7>10)"
   ]
  },
  {
   "cell_type": "code",
   "execution_count": 240,
   "id": "0756e064-516e-4b34-ac2c-0d5b686f7869",
   "metadata": {},
   "outputs": [
    {
     "name": "stdout",
     "output_type": "stream",
     "text": [
      "True\n"
     ]
    }
   ],
   "source": [
    "print(10>7)"
   ]
  },
  {
   "cell_type": "code",
   "execution_count": 241,
   "id": "d5ebaa63-40fe-4b23-b078-3f514b86b4c1",
   "metadata": {},
   "outputs": [
    {
     "name": "stdout",
     "output_type": "stream",
     "text": [
      "False\n"
     ]
    }
   ],
   "source": [
    "print(10<7)"
   ]
  },
  {
   "cell_type": "code",
   "execution_count": 242,
   "id": "46f49920-58ff-45e9-ad2c-9bf318f5f4af",
   "metadata": {},
   "outputs": [
    {
     "name": "stdout",
     "output_type": "stream",
     "text": [
      "True\n"
     ]
    }
   ],
   "source": [
    "print(7<=10)"
   ]
  },
  {
   "cell_type": "code",
   "execution_count": 243,
   "id": "819a0261-aa32-4820-ad27-08b542608a1b",
   "metadata": {},
   "outputs": [
    {
     "name": "stdout",
     "output_type": "stream",
     "text": [
      "False\n"
     ]
    }
   ],
   "source": [
    "print(7>=10)"
   ]
  },
  {
   "cell_type": "code",
   "execution_count": 244,
   "id": "8de261f2-1e8f-47c2-8854-d7e462c56ecd",
   "metadata": {},
   "outputs": [
    {
     "name": "stdout",
     "output_type": "stream",
     "text": [
      "True\n"
     ]
    }
   ],
   "source": [
    "print(10<=10)"
   ]
  },
  {
   "cell_type": "code",
   "execution_count": 245,
   "id": "ba8b8b11-f250-40b7-a412-c27e34cb46eb",
   "metadata": {},
   "outputs": [
    {
     "name": "stdout",
     "output_type": "stream",
     "text": [
      "False\n"
     ]
    }
   ],
   "source": [
    "print(10<=7)"
   ]
  },
  {
   "cell_type": "code",
   "execution_count": 246,
   "id": "907d2d00-70d3-43ad-90cf-6d96a614486a",
   "metadata": {},
   "outputs": [
    {
     "name": "stdout",
     "output_type": "stream",
     "text": [
      "True\n"
     ]
    }
   ],
   "source": [
    "print(10>=7)"
   ]
  },
  {
   "cell_type": "code",
   "execution_count": 247,
   "id": "05bc1be6-c124-43d3-b681-7b3c576a6ff2",
   "metadata": {},
   "outputs": [
    {
     "name": "stdout",
     "output_type": "stream",
     "text": [
      "False\n"
     ]
    }
   ],
   "source": [
    "print(9<=5)"
   ]
  },
  {
   "cell_type": "code",
   "execution_count": 248,
   "id": "79ff4d9d-06db-49bc-b8c7-499b9bddd407",
   "metadata": {},
   "outputs": [
    {
     "name": "stdout",
     "output_type": "stream",
     "text": [
      "True\n"
     ]
    }
   ],
   "source": [
    "print(12>=10)"
   ]
  },
  {
   "cell_type": "code",
   "execution_count": 249,
   "id": "4f660066-bb3f-4fa1-9e27-2a020d5a72eb",
   "metadata": {},
   "outputs": [
    {
     "name": "stdout",
     "output_type": "stream",
     "text": [
      "True\n"
     ]
    }
   ],
   "source": [
    "# Logical Operator:and, or , not\n",
    "print(5<7)"
   ]
  },
  {
   "cell_type": "code",
   "execution_count": 250,
   "id": "1e275236-153f-462d-b8be-ce9cb03dc2ed",
   "metadata": {},
   "outputs": [
    {
     "name": "stdout",
     "output_type": "stream",
     "text": [
      "True\n"
     ]
    }
   ],
   "source": [
    "print(8>4)"
   ]
  },
  {
   "cell_type": "code",
   "execution_count": 251,
   "id": "f9a16708-0e24-4e70-bbc1-0b2b6a668ddb",
   "metadata": {},
   "outputs": [
    {
     "name": "stdout",
     "output_type": "stream",
     "text": [
      "True\n",
      "True\n",
      "True\n"
     ]
    }
   ],
   "source": [
    "a=5\n",
    "b=10\n",
    "c=8\n",
    "print(a<b)\n",
    "print(b>c)\n",
    "print(a<b and b>c)\n"
   ]
  },
  {
   "cell_type": "code",
   "execution_count": 252,
   "id": "1388262d-3dd3-4adf-b7a6-9ec463a42144",
   "metadata": {},
   "outputs": [
    {
     "name": "stdout",
     "output_type": "stream",
     "text": [
      "False\n"
     ]
    }
   ],
   "source": [
    "print(a<b and b<c)"
   ]
  },
  {
   "cell_type": "code",
   "execution_count": 253,
   "id": "12d2c911-5b28-41f4-9fe2-5240e6aea269",
   "metadata": {},
   "outputs": [
    {
     "name": "stdout",
     "output_type": "stream",
     "text": [
      "False\n"
     ]
    }
   ],
   "source": [
    "print(a>b and b>c)"
   ]
  },
  {
   "cell_type": "code",
   "execution_count": 254,
   "id": "c37771df-f40e-42f1-99ac-0e01e2cfdb5d",
   "metadata": {},
   "outputs": [
    {
     "name": "stdout",
     "output_type": "stream",
     "text": [
      "False\n"
     ]
    }
   ],
   "source": [
    "print(a>b and b<c)"
   ]
  },
  {
   "cell_type": "code",
   "execution_count": 255,
   "id": "008cc4a1-e7d9-4d4d-aa47-a8ef3bf172b8",
   "metadata": {},
   "outputs": [
    {
     "name": "stdout",
     "output_type": "stream",
     "text": [
      "True\n"
     ]
    }
   ],
   "source": [
    "print(a<b or b>c)"
   ]
  },
  {
   "cell_type": "code",
   "execution_count": 256,
   "id": "173198ad-e7ba-4a89-8000-1bc88f9352b9",
   "metadata": {},
   "outputs": [
    {
     "name": "stdout",
     "output_type": "stream",
     "text": [
      "True\n"
     ]
    }
   ],
   "source": [
    "print(a<b or b<c)"
   ]
  },
  {
   "cell_type": "code",
   "execution_count": 257,
   "id": "68523359-9d26-40da-9927-76ccf6033b06",
   "metadata": {},
   "outputs": [
    {
     "name": "stdout",
     "output_type": "stream",
     "text": [
      "False\n"
     ]
    }
   ],
   "source": [
    "print(a>b or b<c)"
   ]
  },
  {
   "cell_type": "code",
   "execution_count": 258,
   "id": "6a0f9a1c-164a-4b2c-b4b1-4b1c338d4726",
   "metadata": {},
   "outputs": [
    {
     "name": "stdout",
     "output_type": "stream",
     "text": [
      "True\n"
     ]
    }
   ],
   "source": [
    "print(a>b or b>c)"
   ]
  },
  {
   "cell_type": "code",
   "execution_count": 259,
   "id": "4399cda7-f856-4df0-a3cf-762b53a07afe",
   "metadata": {},
   "outputs": [
    {
     "name": "stdout",
     "output_type": "stream",
     "text": [
      "False\n"
     ]
    }
   ],
   "source": [
    "print(not(a<b))"
   ]
  },
  {
   "cell_type": "code",
   "execution_count": 260,
   "id": "7fd28b1c-da41-457b-854b-9bead8f6c1c5",
   "metadata": {},
   "outputs": [
    {
     "name": "stdout",
     "output_type": "stream",
     "text": [
      "True\n"
     ]
    }
   ],
   "source": [
    "print(not(b<c))"
   ]
  },
  {
   "cell_type": "code",
   "execution_count": 261,
   "id": "07301a9e-9d60-40b7-a24e-7c17390a1c40",
   "metadata": {},
   "outputs": [
    {
     "name": "stdout",
     "output_type": "stream",
     "text": [
      "True\n"
     ]
    }
   ],
   "source": [
    "print(not(5>10))"
   ]
  },
  {
   "cell_type": "code",
   "execution_count": 262,
   "id": "5b802744-0589-4a10-9b5e-17bab70547f6",
   "metadata": {},
   "outputs": [
    {
     "name": "stdout",
     "output_type": "stream",
     "text": [
      "False\n"
     ]
    }
   ],
   "source": [
    "print(not(5<10))"
   ]
  },
  {
   "cell_type": "code",
   "execution_count": 263,
   "id": "0c5ec006-5e02-4dcb-9d38-81343d7901a7",
   "metadata": {},
   "outputs": [
    {
     "name": "stdout",
     "output_type": "stream",
     "text": [
      "False\n"
     ]
    }
   ],
   "source": [
    "# identity opretor:is , is not\n",
    "var=50\n",
    "var1=52\n",
    "var2=50\n",
    "print(var is var1)"
   ]
  },
  {
   "cell_type": "code",
   "execution_count": 264,
   "id": "db09352e-1e25-47fd-9780-f8023c377ae8",
   "metadata": {},
   "outputs": [
    {
     "name": "stdout",
     "output_type": "stream",
     "text": [
      "True\n"
     ]
    }
   ],
   "source": [
    "print(var is var2)"
   ]
  },
  {
   "cell_type": "code",
   "execution_count": 265,
   "id": "c0562c30-9fc1-4dea-ad78-afcf50191d5b",
   "metadata": {},
   "outputs": [
    {
     "name": "stdout",
     "output_type": "stream",
     "text": [
      "True\n"
     ]
    }
   ],
   "source": [
    "print(var is not var1)"
   ]
  },
  {
   "cell_type": "code",
   "execution_count": 266,
   "id": "33a0720d-43ef-4ae2-b84c-f706c1dcb215",
   "metadata": {},
   "outputs": [
    {
     "name": "stdout",
     "output_type": "stream",
     "text": [
      "False\n"
     ]
    }
   ],
   "source": [
    "print(var is not var2)"
   ]
  },
  {
   "cell_type": "code",
   "execution_count": 267,
   "id": "0e3241bf-c178-4537-8c77-cc86640f396a",
   "metadata": {},
   "outputs": [
    {
     "name": "stdout",
     "output_type": "stream",
     "text": [
      "140720698425304\n"
     ]
    }
   ],
   "source": [
    "print(id(var))"
   ]
  },
  {
   "cell_type": "code",
   "execution_count": 268,
   "id": "f565a78d-0f9e-4f39-bf89-a9f762ea3fcd",
   "metadata": {},
   "outputs": [
    {
     "name": "stdout",
     "output_type": "stream",
     "text": [
      "140720698425368\n"
     ]
    }
   ],
   "source": [
    "print(id(var1))"
   ]
  },
  {
   "cell_type": "code",
   "execution_count": 269,
   "id": "982396f8-ac08-4840-b4fc-dd6fb0473170",
   "metadata": {},
   "outputs": [
    {
     "name": "stdout",
     "output_type": "stream",
     "text": [
      "140720698425304\n"
     ]
    }
   ],
   "source": [
    "print(id(var2))"
   ]
  },
  {
   "cell_type": "code",
   "execution_count": 270,
   "id": "31f0a299-b344-4c96-989c-f15cb3ee93ed",
   "metadata": {},
   "outputs": [
    {
     "name": "stdout",
     "output_type": "stream",
     "text": [
      "1\n",
      "7\n",
      "6\n"
     ]
    }
   ],
   "source": [
    "a=5\n",
    "b=3\n",
    "print(a&b)\n",
    "print(a|b)\n",
    "print(a^b)"
   ]
  },
  {
   "cell_type": "code",
   "execution_count": 271,
   "id": "d1839dc6-e662-4b94-b664-d9f5d6a13dc6",
   "metadata": {},
   "outputs": [
    {
     "name": "stdout",
     "output_type": "stream",
     "text": [
      "0\n",
      "15\n",
      "15\n"
     ]
    }
   ],
   "source": [
    "a=10\n",
    "b=5\n",
    "print(a&b)\n",
    "print(a|b)\n",
    "print(a^b)"
   ]
  },
  {
   "cell_type": "code",
   "execution_count": 272,
   "id": "adc36ed2-8dd6-423a-8ceb-556bfc48a478",
   "metadata": {},
   "outputs": [
    {
     "name": "stdout",
     "output_type": "stream",
     "text": [
      "10\n",
      "2\n"
     ]
    }
   ],
   "source": [
    "a=5\n",
    "print(a<<1)\n",
    "print(a>>1)"
   ]
  },
  {
   "cell_type": "code",
   "execution_count": 273,
   "id": "f78b6858-28bd-48df-8ec2-28a3800b093f",
   "metadata": {},
   "outputs": [
    {
     "name": "stdout",
     "output_type": "stream",
     "text": [
      "['apple', 'banana', 'mango']\n"
     ]
    }
   ],
   "source": [
    "# Membership opretor:in ,not in\n",
    "list1=[\"apple\",\"banana\",\"mango\"]\n",
    "print(list1)"
   ]
  },
  {
   "cell_type": "code",
   "execution_count": 274,
   "id": "25a12bf1-a4e7-44a1-a2a5-10703aaf005a",
   "metadata": {},
   "outputs": [
    {
     "name": "stdout",
     "output_type": "stream",
     "text": [
      "True\n"
     ]
    }
   ],
   "source": [
    "print(\"apple\" in list1)"
   ]
  },
  {
   "cell_type": "code",
   "execution_count": 275,
   "id": "85e464bb-4534-4bac-80f5-01a57ebf9e98",
   "metadata": {},
   "outputs": [
    {
     "name": "stdout",
     "output_type": "stream",
     "text": [
      "False\n"
     ]
    }
   ],
   "source": [
    "print(\"Apple\" in list1)"
   ]
  },
  {
   "cell_type": "code",
   "execution_count": 276,
   "id": "93193d2a-3340-49ba-add4-e0036936770b",
   "metadata": {},
   "outputs": [
    {
     "name": "stdout",
     "output_type": "stream",
     "text": [
      "False\n"
     ]
    }
   ],
   "source": [
    "print(\"apple\" not in list1)"
   ]
  },
  {
   "cell_type": "code",
   "execution_count": 277,
   "id": "d696ee65-c1b6-4f76-94b9-8d52d4e9af4c",
   "metadata": {},
   "outputs": [
    {
     "name": "stdout",
     "output_type": "stream",
     "text": [
      "True\n"
     ]
    }
   ],
   "source": [
    "print(\"shoes\" not in list1)"
   ]
  },
  {
   "cell_type": "code",
   "execution_count": 278,
   "id": "f632fe0c-5d81-43d4-a1e6-b81c443960a7",
   "metadata": {},
   "outputs": [
    {
     "name": "stdout",
     "output_type": "stream",
     "text": [
      "True\n"
     ]
    }
   ],
   "source": [
    "string=\"This is institute\"\n",
    "print(\"is\" in string)\n"
   ]
  },
  {
   "cell_type": "code",
   "execution_count": 279,
   "id": "c3f63adc-cbf7-4f41-b897-cc8f07f7d27e",
   "metadata": {},
   "outputs": [
    {
     "name": "stdout",
     "output_type": "stream",
     "text": [
      "0\n"
     ]
    }
   ],
   "source": [
    "# Bitwise opretor:&,|,^,~,<<,>>]\n",
    "a=8\n",
    "b=1\n",
    "var=a&b\n",
    "print(var)"
   ]
  },
  {
   "cell_type": "code",
   "execution_count": 280,
   "id": "dd63a1f1-4dd4-42e8-8f50-20f1fefd69d4",
   "metadata": {},
   "outputs": [
    {
     "name": "stdout",
     "output_type": "stream",
     "text": [
      "9\n"
     ]
    }
   ],
   "source": [
    "print(a|b)"
   ]
  },
  {
   "cell_type": "code",
   "execution_count": 281,
   "id": "1de2ffc7-3f71-4333-89f4-785d165a422c",
   "metadata": {},
   "outputs": [
    {
     "name": "stdout",
     "output_type": "stream",
     "text": [
      "9\n"
     ]
    }
   ],
   "source": [
    "print(a^b)"
   ]
  },
  {
   "cell_type": "code",
   "execution_count": 282,
   "id": "ab4ee8db-b3c6-4fd6-bc6e-9507728b3b91",
   "metadata": {},
   "outputs": [
    {
     "name": "stdout",
     "output_type": "stream",
     "text": [
      "16\n"
     ]
    }
   ],
   "source": [
    "print(a<<1)"
   ]
  },
  {
   "cell_type": "code",
   "execution_count": 283,
   "id": "89757a1b-da5f-4574-852e-a2149d54d30f",
   "metadata": {},
   "outputs": [
    {
     "name": "stdout",
     "output_type": "stream",
     "text": [
      "4\n"
     ]
    }
   ],
   "source": [
    "print(a>>1)"
   ]
  },
  {
   "cell_type": "code",
   "execution_count": 284,
   "id": "e47063bb-056d-440b-9ebd-e38e01d413f9",
   "metadata": {},
   "outputs": [
    {
     "name": "stdout",
     "output_type": "stream",
     "text": [
      "racecar\n"
     ]
    }
   ],
   "source": [
    "s1=\"racecar\"\n",
    "print(s1[::-1])"
   ]
  },
  {
   "cell_type": "code",
   "execution_count": 288,
   "id": "80e052a6-8983-472c-a030-f770ac380487",
   "metadata": {},
   "outputs": [
    {
     "name": "stdin",
     "output_type": "stream",
     "text": [
      "Enter the string. racecar\n"
     ]
    },
    {
     "name": "stdout",
     "output_type": "stream",
     "text": [
      "True\n"
     ]
    }
   ],
   "source": [
    "# PALINDROME OR NOT\n",
    "user=input(\"Enter the string.\")\n",
    "v=user==user[::-1]\n",
    "print(v)"
   ]
  },
  {
   "cell_type": "code",
   "execution_count": 289,
   "id": "eaec77d4-4ae6-4688-bcdb-33ff4cc7e2f7",
   "metadata": {},
   "outputs": [
    {
     "name": "stdin",
     "output_type": "stream",
     "text": [
      "Enter a string: madam\n"
     ]
    },
    {
     "name": "stdout",
     "output_type": "stream",
     "text": [
      "True\n"
     ]
    }
   ],
   "source": [
    "user=input(\"Enter a string:\")\n",
    "v=user==user[::-1]\n",
    "print(v)"
   ]
  },
  {
   "cell_type": "code",
   "execution_count": 291,
   "id": "b79a14a6-f31b-4b55-bba4-63be64db1ba9",
   "metadata": {},
   "outputs": [
    {
     "name": "stdin",
     "output_type": "stream",
     "text": [
      "Enter a string: name\n"
     ]
    },
    {
     "name": "stdout",
     "output_type": "stream",
     "text": [
      "False\n"
     ]
    }
   ],
   "source": [
    "user=input(\"Enter a string:\")\n",
    "v=user==user[::-1]\n",
    "print(v)\n"
   ]
  },
  {
   "cell_type": "code",
   "execution_count": 292,
   "id": "86bd50fb-002b-40c5-8949-f14b219f8630",
   "metadata": {},
   "outputs": [
    {
     "name": "stdin",
     "output_type": "stream",
     "text": [
      "Enter a string: table\n"
     ]
    },
    {
     "name": "stdout",
     "output_type": "stream",
     "text": [
      "False\n"
     ]
    }
   ],
   "source": [
    "user=input(\"Enter a string:\")\n",
    "v=user==user[::-1]\n",
    "print(v)"
   ]
  },
  {
   "cell_type": "code",
   "execution_count": null,
   "id": "d04fdf32-3cf3-4f45-97a6-2fa5726e7e0a",
   "metadata": {},
   "outputs": [],
   "source": [
    "# Type casting\n",
    "#implicit\n",
    "#Explicit"
   ]
  },
  {
   "cell_type": "code",
   "execution_count": 293,
   "id": "3a9f14ae-4ee5-4eb8-a0af-a8e125a75c8b",
   "metadata": {},
   "outputs": [
    {
     "name": "stdout",
     "output_type": "stream",
     "text": [
      "90\n"
     ]
    }
   ],
   "source": [
    "# Implicit\n",
    "var=56\n",
    "var1=34\n",
    "print(var+var1)"
   ]
  },
  {
   "cell_type": "code",
   "execution_count": 294,
   "id": "7d52661d-a09b-4526-82e5-8fec8bd01475",
   "metadata": {},
   "outputs": [
    {
     "name": "stdout",
     "output_type": "stream",
     "text": [
      "156.9\n"
     ]
    }
   ],
   "source": [
    "var=89\n",
    "var1=67.9\n",
    "print(var+var1)"
   ]
  },
  {
   "cell_type": "code",
   "execution_count": 295,
   "id": "47513401-80c1-4683-86b8-a11c525adf54",
   "metadata": {},
   "outputs": [
    {
     "name": "stdout",
     "output_type": "stream",
     "text": [
      "168.9\n"
     ]
    }
   ],
   "source": [
    "var= 90.9\n",
    "var1=78\n",
    "print(var+var1)"
   ]
  },
  {
   "cell_type": "code",
   "execution_count": 296,
   "id": "0ed024dc-5394-4707-98a8-7ca41b12a928",
   "metadata": {},
   "outputs": [
    {
     "name": "stdout",
     "output_type": "stream",
     "text": [
      "78.0\n"
     ]
    }
   ],
   "source": [
    "# Explicit\n",
    "var3=78\n",
    "print(float(var3))"
   ]
  },
  {
   "cell_type": "code",
   "execution_count": 297,
   "id": "7a1e2603-2e47-4fa0-bab5-1f58c8cefa9a",
   "metadata": {},
   "outputs": [
    {
     "name": "stdout",
     "output_type": "stream",
     "text": [
      "56.0\n"
     ]
    }
   ],
   "source": [
    "var4=56\n",
    "print(float(var4))"
   ]
  },
  {
   "cell_type": "code",
   "execution_count": 298,
   "id": "11d39716-d462-45c1-a24b-5f9b887f9fcb",
   "metadata": {},
   "outputs": [
    {
     "name": "stdout",
     "output_type": "stream",
     "text": [
      "<class 'str'>\n"
     ]
    }
   ],
   "source": [
    "str=\"Name\"\n",
    "print(type(str))"
   ]
  },
  {
   "cell_type": "code",
   "execution_count": 299,
   "id": "a29d9fb2-3a56-47cc-95d7-0d6b026664f1",
   "metadata": {},
   "outputs": [
    {
     "name": "stdout",
     "output_type": "stream",
     "text": [
      "<class 'str'>\n"
     ]
    }
   ],
   "source": [
    "str=\"234\"\n",
    "print(type(str))"
   ]
  },
  {
   "cell_type": "code",
   "execution_count": 300,
   "id": "c6bbba32-734a-42a5-8994-b331f59eb0a0",
   "metadata": {},
   "outputs": [
    {
     "name": "stdout",
     "output_type": "stream",
     "text": [
      "<class 'int'>\n"
     ]
    }
   ],
   "source": [
    "var5=int(str)\n",
    "print(type(var5))"
   ]
  },
  {
   "cell_type": "code",
   "execution_count": 301,
   "id": "b408d4dd-811e-4898-9944-fc7b9080e146",
   "metadata": {},
   "outputs": [
    {
     "name": "stdout",
     "output_type": "stream",
     "text": [
      "<class 'int'>\n"
     ]
    }
   ],
   "source": [
    "var6=int(str)\n",
    "print(type(var6))"
   ]
  },
  {
   "cell_type": "code",
   "execution_count": 302,
   "id": "6e16ba30-9d3a-42c2-989f-250268186b17",
   "metadata": {},
   "outputs": [
    {
     "name": "stdout",
     "output_type": "stream",
     "text": [
      "<class 'str'>\n"
     ]
    }
   ],
   "source": [
    "str=\"Name\"\n",
    "print(type(str))"
   ]
  },
  {
   "cell_type": "code",
   "execution_count": 303,
   "id": "7fe5cbff-b4d1-46cc-aced-07e955fe45be",
   "metadata": {},
   "outputs": [
    {
     "ename": "ValueError",
     "evalue": "invalid literal for int() with base 10: 'Name'",
     "output_type": "error",
     "traceback": [
      "\u001b[1;31m---------------------------------------------------------------------------\u001b[0m",
      "\u001b[1;31mValueError\u001b[0m                                Traceback (most recent call last)",
      "Cell \u001b[1;32mIn[303], line 1\u001b[0m\n\u001b[1;32m----> 1\u001b[0m var8\u001b[38;5;241m=\u001b[39m\u001b[38;5;28;43mint\u001b[39;49m\u001b[43m(\u001b[49m\u001b[38;5;28;43mstr\u001b[39;49m\u001b[43m)\u001b[49m\n\u001b[0;32m      2\u001b[0m \u001b[38;5;28mprint\u001b[39m(\u001b[38;5;28mtype\u001b[39m(var8))\n",
      "\u001b[1;31mValueError\u001b[0m: invalid literal for int() with base 10: 'Name'"
     ]
    }
   ],
   "source": [
    "var8=int(str)\n",
    "print(type(var8))"
   ]
  },
  {
   "cell_type": "code",
   "execution_count": 304,
   "id": "9cf50683-959d-41d5-a90f-3f24e712b59a",
   "metadata": {},
   "outputs": [
    {
     "ename": "TypeError",
     "evalue": "'str' object is not callable",
     "output_type": "error",
     "traceback": [
      "\u001b[1;31m---------------------------------------------------------------------------\u001b[0m",
      "\u001b[1;31mTypeError\u001b[0m                                 Traceback (most recent call last)",
      "Cell \u001b[1;32mIn[304], line 2\u001b[0m\n\u001b[0;32m      1\u001b[0m i\u001b[38;5;241m=\u001b[39m\u001b[38;5;241m58\u001b[39m\n\u001b[1;32m----> 2\u001b[0m var\u001b[38;5;241m=\u001b[39m\u001b[38;5;28;43mstr\u001b[39;49m\u001b[43m(\u001b[49m\u001b[43mi\u001b[49m\u001b[43m)\u001b[49m\n\u001b[0;32m      3\u001b[0m \u001b[38;5;28mprint\u001b[39m(\u001b[38;5;28mtype\u001b[39m(var))\n",
      "\u001b[1;31mTypeError\u001b[0m: 'str' object is not callable"
     ]
    }
   ],
   "source": [
    "i=58\n",
    "var=str(i)\n",
    "print(type(var))"
   ]
  },
  {
   "cell_type": "code",
   "execution_count": 305,
   "id": "8021f66f-4580-40f8-8726-a72102b5d6c4",
   "metadata": {},
   "outputs": [],
   "source": [
    "# syntax for type casting\n",
    "# int()\n",
    "# float()\n",
    "# str()\n",
    "# bool()\n",
    "# list()\n",
    "# tuple()\n",
    "# dict()\n",
    "# set()"
   ]
  },
  {
   "cell_type": "code",
   "execution_count": 306,
   "id": "47708ede-ced7-4634-970b-dfb89d3af911",
   "metadata": {},
   "outputs": [
    {
     "name": "stdout",
     "output_type": "stream",
     "text": [
      "49\n"
     ]
    }
   ],
   "source": [
    "f=49.90\n",
    "var=(int(f))\n",
    "print(var)"
   ]
  },
  {
   "cell_type": "code",
   "execution_count": 307,
   "id": "b742a7e4-eafa-4f6f-95a6-76ac4245d64e",
   "metadata": {},
   "outputs": [
    {
     "name": "stdout",
     "output_type": "stream",
     "text": [
      "23.0\n"
     ]
    }
   ],
   "source": [
    "i=23\n",
    "var1=(float(i))\n",
    "print(var1)"
   ]
  },
  {
   "cell_type": "code",
   "execution_count": 308,
   "id": "436e5281-3c1b-4bb1-9360-b985066e48cd",
   "metadata": {},
   "outputs": [
    {
     "name": "stdout",
     "output_type": "stream",
     "text": [
      "30.0\n"
     ]
    }
   ],
   "source": [
    "str=\"30\"\n",
    "var=(float(str))\n",
    "print(var)"
   ]
  },
  {
   "cell_type": "code",
   "execution_count": 309,
   "id": "b5ce6031-3488-4341-b93a-7270031c6f05",
   "metadata": {},
   "outputs": [
    {
     "ename": "TypeError",
     "evalue": "'str' object is not callable",
     "output_type": "error",
     "traceback": [
      "\u001b[1;31m---------------------------------------------------------------------------\u001b[0m",
      "\u001b[1;31mTypeError\u001b[0m                                 Traceback (most recent call last)",
      "Cell \u001b[1;32mIn[309], line 2\u001b[0m\n\u001b[0;32m      1\u001b[0m f\u001b[38;5;241m=\u001b[39m\u001b[38;5;241m76.0\u001b[39m\n\u001b[1;32m----> 2\u001b[0m var\u001b[38;5;241m=\u001b[39m(\u001b[38;5;28;43mstr\u001b[39;49m\u001b[43m(\u001b[49m\u001b[43mf\u001b[49m\u001b[43m)\u001b[49m)\n\u001b[0;32m      3\u001b[0m \u001b[38;5;28mprint\u001b[39m(var)\n",
      "\u001b[1;31mTypeError\u001b[0m: 'str' object is not callable"
     ]
    }
   ],
   "source": [
    "f=76.0\n",
    "var=(str(f))\n",
    "print(var)"
   ]
  },
  {
   "cell_type": "code",
   "execution_count": 310,
   "id": "045a0d97-766a-4be2-9b87-d6423c3c5d92",
   "metadata": {},
   "outputs": [
    {
     "name": "stdout",
     "output_type": "stream",
     "text": [
      "('Name', 'sub', 'topic')\n"
     ]
    }
   ],
   "source": [
    "list=[\"Name\",\"sub\",\"topic\"]\n",
    "var2=(tuple(list))\n",
    "print(var2)"
   ]
  },
  {
   "cell_type": "code",
   "execution_count": 311,
   "id": "d583a049-d36b-4a20-b80d-1b1457de4379",
   "metadata": {},
   "outputs": [
    {
     "name": "stdout",
     "output_type": "stream",
     "text": [
      "<class 'tuple'>\n"
     ]
    }
   ],
   "source": [
    "v=tuple(list)\n",
    "print(type(v))"
   ]
  },
  {
   "cell_type": "code",
   "execution_count": 312,
   "id": "6805abd1-855e-4dfc-96f7-b09955e67fb2",
   "metadata": {},
   "outputs": [
    {
     "name": "stdout",
     "output_type": "stream",
     "text": [
      "<class 'list'>\n"
     ]
    }
   ],
   "source": [
    "print(type(list))"
   ]
  },
  {
   "cell_type": "code",
   "execution_count": 313,
   "id": "ecb9c870-05f6-408e-8c70-5c433c6a7f9a",
   "metadata": {},
   "outputs": [
    {
     "name": "stdout",
     "output_type": "stream",
     "text": [
      "<class 'tuple'>\n"
     ]
    }
   ],
   "source": [
    "v=tuple(list)\n",
    "print(type(v))"
   ]
  },
  {
   "cell_type": "code",
   "execution_count": 314,
   "id": "c837e4a8-677e-4a81-b853-f7040677d5c2",
   "metadata": {},
   "outputs": [
    {
     "name": "stdout",
     "output_type": "stream",
     "text": [
      "('Name', 'sub', 'topic')\n"
     ]
    }
   ],
   "source": [
    "print(v)"
   ]
  },
  {
   "cell_type": "code",
   "execution_count": 2,
   "id": "1a69a25b-4a4a-4fe1-85db-4e6d39220dfe",
   "metadata": {},
   "outputs": [
    {
     "ename": "NameError",
     "evalue": "name 'v' is not defined",
     "output_type": "error",
     "traceback": [
      "\u001b[1;31m---------------------------------------------------------------------------\u001b[0m",
      "\u001b[1;31mNameError\u001b[0m                                 Traceback (most recent call last)",
      "Cell \u001b[1;32mIn[2], line 1\u001b[0m\n\u001b[1;32m----> 1\u001b[0m \u001b[38;5;28mprint\u001b[39m(\u001b[38;5;28mlist\u001b[39m(\u001b[43mv\u001b[49m))\n",
      "\u001b[1;31mNameError\u001b[0m: name 'v' is not defined"
     ]
    }
   ],
   "source": [
    "print(list(v))"
   ]
  },
  {
   "cell_type": "code",
   "execution_count": 3,
   "id": "5423dc6e-2853-4244-a63f-46429068a5b1",
   "metadata": {},
   "outputs": [
    {
     "ename": "TypeError",
     "evalue": "'type' object is not iterable",
     "output_type": "error",
     "traceback": [
      "\u001b[1;31m---------------------------------------------------------------------------\u001b[0m",
      "\u001b[1;31mTypeError\u001b[0m                                 Traceback (most recent call last)",
      "Cell \u001b[1;32mIn[3], line 1\u001b[0m\n\u001b[1;32m----> 1\u001b[0m \u001b[38;5;28mprint\u001b[39m(\u001b[38;5;28;43mdict\u001b[39;49m\u001b[43m(\u001b[49m\u001b[38;5;28;43mlist\u001b[39;49m\u001b[43m)\u001b[49m)\n",
      "\u001b[1;31mTypeError\u001b[0m: 'type' object is not iterable"
     ]
    }
   ],
   "source": [
    "print(dict(list))"
   ]
  },
  {
   "cell_type": "code",
   "execution_count": 317,
   "id": "91df13a7-75d0-417b-a8a8-54e9a7e4ca75",
   "metadata": {},
   "outputs": [
    {
     "name": "stdout",
     "output_type": "stream",
     "text": [
      "{3, 5, 6, 7, 9}\n"
     ]
    }
   ],
   "source": [
    "set={9,5,3,7,6,5}\n",
    "print(set)"
   ]
  },
  {
   "cell_type": "code",
   "execution_count": 10,
   "id": "f61dbebb-e0b0-47ae-9b74-17143300b1e7",
   "metadata": {},
   "outputs": [
    {
     "ename": "TypeError",
     "evalue": "'type' object is not iterable",
     "output_type": "error",
     "traceback": [
      "\u001b[1;31m---------------------------------------------------------------------------\u001b[0m",
      "\u001b[1;31mTypeError\u001b[0m                                 Traceback (most recent call last)",
      "Cell \u001b[1;32mIn[10], line 1\u001b[0m\n\u001b[1;32m----> 1\u001b[0m v\u001b[38;5;241m=\u001b[39m\u001b[38;5;28;43mlist\u001b[39;49m\u001b[43m(\u001b[49m\u001b[38;5;28;43mset\u001b[39;49m\u001b[43m)\u001b[49m\n",
      "\u001b[1;31mTypeError\u001b[0m: 'type' object is not iterable"
     ]
    }
   ],
   "source": [
    "v=list(set)"
   ]
  },
  {
   "cell_type": "code",
   "execution_count": 9,
   "id": "025db7b1-1ec3-4118-bd82-d187c265cf19",
   "metadata": {},
   "outputs": [
    {
     "ename": "NameError",
     "evalue": "name 'v' is not defined",
     "output_type": "error",
     "traceback": [
      "\u001b[1;31m---------------------------------------------------------------------------\u001b[0m",
      "\u001b[1;31mNameError\u001b[0m                                 Traceback (most recent call last)",
      "Cell \u001b[1;32mIn[9], line 1\u001b[0m\n\u001b[1;32m----> 1\u001b[0m \u001b[38;5;28mprint\u001b[39m(\u001b[43mv\u001b[49m)\n",
      "\u001b[1;31mNameError\u001b[0m: name 'v' is not defined"
     ]
    }
   ],
   "source": [
    "print(v)"
   ]
  },
  {
   "cell_type": "code",
   "execution_count": 11,
   "id": "4b139bc8-a1cd-4bef-a390-982584d60720",
   "metadata": {},
   "outputs": [
    {
     "ename": "NameError",
     "evalue": "name 'v' is not defined",
     "output_type": "error",
     "traceback": [
      "\u001b[1;31m---------------------------------------------------------------------------\u001b[0m",
      "\u001b[1;31mNameError\u001b[0m                                 Traceback (most recent call last)",
      "Cell \u001b[1;32mIn[11], line 1\u001b[0m\n\u001b[1;32m----> 1\u001b[0m \u001b[43mv\u001b[49m\u001b[38;5;241m.\u001b[39msort()\n\u001b[0;32m      2\u001b[0m \u001b[38;5;28mprint\u001b[39m(v)\n",
      "\u001b[1;31mNameError\u001b[0m: name 'v' is not defined"
     ]
    }
   ],
   "source": [
    "v.sort()\n",
    "print(v)"
   ]
  },
  {
   "cell_type": "code",
   "execution_count": 4,
   "id": "d8bdc02f-d712-4420-9f2e-042e42b6c18a",
   "metadata": {},
   "outputs": [
    {
     "name": "stdout",
     "output_type": "stream",
     "text": [
      "True\n",
      "Yes,This is equal\n"
     ]
    }
   ],
   "source": [
    "# if statement\n",
    "a=67\n",
    "b=56\n",
    "c=67\n",
    "print(a==c)\n",
    "if a==c:\n",
    "    print(\"Yes,This is equal\")"
   ]
  },
  {
   "cell_type": "code",
   "execution_count": 2,
   "id": "f6067937-3a40-4a92-9333-4947c3c6beec",
   "metadata": {},
   "outputs": [],
   "source": [
    "a=89\n",
    "b=57\n",
    "c=57\n",
    "if b==a:\n",
    "    print(\"yes,this is  equal\")"
   ]
  },
  {
   "cell_type": "code",
   "execution_count": 10,
   "id": "db9e4c4d-3bfa-4abd-a747-3e36a4d1a38d",
   "metadata": {},
   "outputs": [
    {
     "name": "stdout",
     "output_type": "stream",
     "text": [
      "yes,this is not equal\n"
     ]
    }
   ],
   "source": [
    "if a!=c:\n",
    "    print(\"yes,this is not equal\")"
   ]
  },
  {
   "cell_type": "code",
   "execution_count": 11,
   "id": "dbe6f6bb-6402-495c-9b3e-76415ec181e4",
   "metadata": {},
   "outputs": [
    {
     "name": "stdout",
     "output_type": "stream",
     "text": [
      "This is not equal\n"
     ]
    }
   ],
   "source": [
    "# if else\n",
    "a=78\n",
    "b=37\n",
    "c=78\n",
    "if a==b:\n",
    "    print(\"yes,it is equal\")\n",
    "else:\n",
    "    print(\"This is not equal\")\n",
    "    "
   ]
  },
  {
   "cell_type": "code",
   "execution_count": 12,
   "id": "f60c52f1-f0b2-4dea-9fc6-758f953a1e79",
   "metadata": {},
   "outputs": [
    {
     "name": "stdout",
     "output_type": "stream",
     "text": [
      "yes,is equal\n"
     ]
    }
   ],
   "source": [
    "if a==c:\n",
    "    print(\"yes,is equal\")\n",
    "else:\n",
    "    print(\"not equal\")"
   ]
  },
  {
   "cell_type": "code",
   "execution_count": 13,
   "id": "e88cf712-b8f0-446c-8a4d-80a516ff6a5b",
   "metadata": {},
   "outputs": [
    {
     "name": "stdout",
     "output_type": "stream",
     "text": [
      "right\n"
     ]
    }
   ],
   "source": [
    "list1=[\"name\",\"sub\",\"topic\"]\n",
    "str1=\"Station\"\n",
    "list2=[\"name\",\"sub\",\"topic\"]\n",
    "str2=\"Stop\"\n",
    "int1=67\n",
    "if list1==list2:\n",
    "    print(\"right\")\n",
    "else:\n",
    "    print(\"wro\")"
   ]
  },
  {
   "cell_type": "code",
   "execution_count": 14,
   "id": "f15ff6f3-95e0-4e42-be65-1f167a4a8dfc",
   "metadata": {},
   "outputs": [
    {
     "name": "stdout",
     "output_type": "stream",
     "text": [
      "wrong\n"
     ]
    }
   ],
   "source": [
    "if str1==str2:\n",
    "    print(\"right\")\n",
    "else:\n",
    "    print(\"wrong\")"
   ]
  },
  {
   "cell_type": "code",
   "execution_count": 17,
   "id": "2b8b1076-70b0-45b3-8716-d8eb810d64e5",
   "metadata": {},
   "outputs": [
    {
     "name": "stdout",
     "output_type": "stream",
     "text": [
      "right\n"
     ]
    }
   ],
   "source": [
    "# elif\n",
    "if list1==list2:\n",
    "    print(\"right\")\n",
    "elif str1==str2:\n",
    "    print(\"wrong\")\n",
    "else:\n",
    "    print(\"wrong\")\n",
    "    "
   ]
  },
  {
   "cell_type": "code",
   "execution_count": 20,
   "id": "4170ec38-164b-4993-af6f-b158bc6f11b2",
   "metadata": {},
   "outputs": [
    {
     "name": "stdout",
     "output_type": "stream",
     "text": [
      "right\n"
     ]
    }
   ],
   "source": [
    "if str1==str2:\n",
    "    print(\"wrong\")\n",
    "elif list1==int1:\n",
    "    print(\"Right\")\n",
    "else:\n",
    "    print(\"right\")"
   ]
  },
  {
   "cell_type": "code",
   "execution_count": 21,
   "id": "c68002b3-9fac-432b-925b-19ef8554e0a2",
   "metadata": {},
   "outputs": [
    {
     "name": "stdin",
     "output_type": "stream",
     "text": [
      "Enter your age: 14\n"
     ]
    },
    {
     "name": "stdout",
     "output_type": "stream",
     "text": [
      "your age is 14\n",
      "valid age for sSC is 15\n",
      "you are not eligible\n"
     ]
    }
   ],
   "source": [
    "user=int(input(\"Enter your age:\"))\n",
    "print(\"your age is\",user)\n",
    "print(\"valid age for sSC is 15\")\n",
    "if user>=15:\n",
    "    print(\"you are eligible\")\n",
    "else:\n",
    "    print(\"you are not eligible\")"
   ]
  },
  {
   "cell_type": "code",
   "execution_count": 22,
   "id": "b76fe905-c603-405e-8445-aaff77bfe4bd",
   "metadata": {},
   "outputs": [
    {
     "name": "stdout",
     "output_type": "stream",
     "text": [
      "right\n"
     ]
    }
   ],
   "source": [
    "x=1\n",
    "y=11\n",
    "z=22\n",
    "if x>y:\n",
    "    print(\"wrong\")\n",
    "elif z==22:\n",
    "    print(\"right\")\n",
    "elif x<y:\n",
    "    print(\"right\")\n",
    "else:\n",
    "    print(\"Invlaid\")"
   ]
  },
  {
   "cell_type": "code",
   "execution_count": 24,
   "id": "85fb48c6-3222-4971-8be7-4906190989a2",
   "metadata": {},
   "outputs": [
    {
     "name": "stdout",
     "output_type": "stream",
     "text": [
      "Right\n"
     ]
    }
   ],
   "source": [
    "x=5\n",
    "y=20\n",
    "z=56\n",
    "if x>y:\n",
    "    print(\"wrong\")\n",
    "elif z==56:\n",
    "    print(\"right\")\n",
    "elif x<y:\n",
    "    print(\"Right\")\n",
    "else:\n",
    "    print(\"Invalid\")"
   ]
  },
  {
   "cell_type": "code",
   "execution_count": 25,
   "id": "b97940ed-8f83-4020-a90f-027dd26f40b5",
   "metadata": {},
   "outputs": [
    {
     "name": "stdout",
     "output_type": "stream",
     "text": [
      "True\n"
     ]
    }
   ],
   "source": [
    "print(\"Name==Name\" and 2==2)"
   ]
  },
  {
   "cell_type": "code",
   "execution_count": 26,
   "id": "91c5bb30-5a59-447f-9eb9-344c9c2fcdf9",
   "metadata": {},
   "outputs": [
    {
     "name": "stdout",
     "output_type": "stream",
     "text": [
      "False\n"
     ]
    }
   ],
   "source": [
    "print(\"Name==Name\" and 2==3)"
   ]
  },
  {
   "cell_type": "code",
   "execution_count": 28,
   "id": "a88108ba-9e3c-4718-aff0-4b3c90fa42f1",
   "metadata": {},
   "outputs": [
    {
     "name": "stdout",
     "output_type": "stream",
     "text": [
      "True\n"
     ]
    }
   ],
   "source": [
    "print(\"Name\"==\"Name\" or 2==3)"
   ]
  },
  {
   "cell_type": "code",
   "execution_count": 30,
   "id": "d9f80387-376e-45f4-b0e6-7ef06e2bc728",
   "metadata": {},
   "outputs": [
    {
     "name": "stdin",
     "output_type": "stream",
     "text": [
      "Enter your age 23\n"
     ]
    },
    {
     "name": "stdout",
     "output_type": "stream",
     "text": [
      "Can drive\n"
     ]
    }
   ],
   "source": [
    "user=int(input(\"Enter your age\"))\n",
    "if user<18:\n",
    "    print(\"Can't drive\")\n",
    "elif user>=18:\n",
    "    print(\"Can drive\")\n",
    "else:\n",
    "    print(\"Enter your valid age\")"
   ]
  },
  {
   "cell_type": "code",
   "execution_count": 31,
   "id": "e7a2cb5f-43fc-4d70-9590-3fed70483436",
   "metadata": {},
   "outputs": [
    {
     "name": "stdout",
     "output_type": "stream",
     "text": [
      "right\n"
     ]
    }
   ],
   "source": [
    "# short hand if\n",
    "if 78==78: print(\"right\")"
   ]
  },
  {
   "cell_type": "code",
   "execution_count": 32,
   "id": "defaf83b-b128-4475-a9cf-ff7233826e20",
   "metadata": {},
   "outputs": [
    {
     "name": "stdout",
     "output_type": "stream",
     "text": [
      "right\n"
     ]
    }
   ],
   "source": [
    "#short hand if else\n",
    "print(\"right\")if 79>78 else print(\"wrong\")"
   ]
  },
  {
   "cell_type": "code",
   "execution_count": 33,
   "id": "55a297c9-9026-455d-9a93-4ab069e75faa",
   "metadata": {},
   "outputs": [
    {
     "name": "stdout",
     "output_type": "stream",
     "text": [
      "false\n"
     ]
    }
   ],
   "source": [
    "print(\"True\")if 90<40 else print(\"false\")"
   ]
  },
  {
   "cell_type": "code",
   "execution_count": 1,
   "id": "24f9b010-ac34-48be-9978-a0055eaa8b80",
   "metadata": {},
   "outputs": [
    {
     "name": "stdout",
     "output_type": "stream",
     "text": [
      "Above ten,\n",
      "but not above 20.\n"
     ]
    }
   ],
   "source": [
    "# Nested if\n",
    "x = 15\n",
    "\n",
    "if x > 10:\n",
    "    print(\"Above ten,\")\n",
    "    if x > 20:\n",
    "        print(\"and also above 20!\")\n",
    "    else:\n",
    "        print(\"but not above 20.\")\n"
   ]
  },
  {
   "cell_type": "code",
   "execution_count": 3,
   "id": "c60021cc-fc2d-433a-a4e7-5af60d58f101",
   "metadata": {},
   "outputs": [
    {
     "name": "stdout",
     "output_type": "stream",
     "text": [
      "Above ten,\n",
      "but not above 2o\n"
     ]
    }
   ],
   "source": [
    "x=15 \n",
    "if x>10:\n",
    "    print(\"Above ten,\")\n",
    "if x>20:\n",
    "    print(\"and also above 20\")\n",
    "else:\n",
    "    print(\"but not above 2o\")"
   ]
  },
  {
   "cell_type": "code",
   "execution_count": 4,
   "id": "75213774-ce30-4075-a709-15ffd702c653",
   "metadata": {},
   "outputs": [
    {
     "name": "stdin",
     "output_type": "stream",
     "text": [
      "Enter your degree name: BE\n",
      "You have any Backlog. no\n"
     ]
    },
    {
     "name": "stdout",
     "output_type": "stream",
     "text": [
      "you are eligible for Data analytics.\n",
      "Congratulartios for you addmision.\n"
     ]
    }
   ],
   "source": [
    "# Nested if else.\n",
    "\n",
    "user=input(\"Enter your degree name:\")\n",
    "kt=input(\"You have any Backlog.\")\n",
    "if \"BE\"==user:\n",
    "    print(\"you are eligible for Data analytics.\")\n",
    "    if kt==\"yes\":\n",
    "        print(\"First you Clear your kt.\")\n",
    "    else:\n",
    "        print(\"Congratulartios for you addmision.\")\n",
    "elif user==\" \":\n",
    "    print(\"Enter your degree name return.\")\n",
    "else:\n",
    "    print(\"you are not eligible for Data analytics\")\n"
   ]
  },
  {
   "cell_type": "code",
   "execution_count": 19,
   "id": "a5ef51a5-9ce1-4a3e-bd08-c66495b8e2f7",
   "metadata": {},
   "outputs": [
    {
     "ename": "SyntaxError",
     "evalue": "invalid syntax (2609434140.py, line 11)",
     "output_type": "error",
     "traceback": [
      "\u001b[1;36m  Cell \u001b[1;32mIn[19], line 11\u001b[1;36m\u001b[0m\n\u001b[1;33m    elif user==\" \":\u001b[0m\n\u001b[1;37m    ^\u001b[0m\n\u001b[1;31mSyntaxError\u001b[0m\u001b[1;31m:\u001b[0m invalid syntax\n"
     ]
    }
   ],
   "source": [
    "# Nested if else.\n",
    "\n",
    "user=input(\"Enter your degree name:\")\n",
    "kt=input(\"you have any backlog\")\n",
    "if \"BE\"==user:\n",
    "    print(\"you are eligible.\")\n",
    "if kt==\"yes\":\n",
    "    print(\"first clear your kt\")\n",
    "else:\n",
    "    print(\"congratulations\")\n",
    "elif user==\" \":\n",
    "    print(\"enter your degree name return\")\n",
    "else:\n",
    "    print(\"you are not eligible\")"
   ]
  },
  {
   "cell_type": "code",
   "execution_count": 11,
   "id": "bbdd4a84-4da0-410a-83d0-c90ce9097a6a",
   "metadata": {
    "scrolled": true
   },
   "outputs": [
    {
     "name": "stdin",
     "output_type": "stream",
     "text": [
      "Enter a first no: 56\n",
      "Enter a second no: 9\n"
     ]
    },
    {
     "name": "stdout",
     "output_type": "stream",
     "text": [
      "addition= 65\n",
      "substraction= 47\n",
      "multiplication= 504\n",
      "divsion= 6.222222222222222\n",
      "faulty cal\n",
      "faulty cal\n"
     ]
    }
   ],
   "source": [
    "user1=int(input(\"Enter a first no:\"))\n",
    "user2=int(input(\"Enter a second no:\"))\n",
    "add =user1+user2\n",
    "print(\"addition=\",add)\n",
    "sub =user1-user2\n",
    "print(\"substraction=\",sub)\n",
    "mul =user1*user2\n",
    "print(\"multiplication=\",mul)\n",
    "div =user1/user2\n",
    "print(\"divsion=\",div)\n",
    "if \"56+9=77\":\n",
    "    print(\"faulty cal\")\n",
    "elif \"43*3=555\":\n",
    "    print(\"faulty cal\")\n",
    "if \"56/5=4\":\n",
    "    print(\"faulty cal\")\n",
    "else:\n",
    "    print(\"correct cal\")"
   ]
  },
  {
   "cell_type": "code",
   "execution_count": 21,
   "id": "2f36f51d-5392-43ad-940e-33b16bbe179d",
   "metadata": {},
   "outputs": [
    {
     "name": "stdin",
     "output_type": "stream",
     "text": [
      "Enter a first no: 76\n",
      "Enter a operator: *\n",
      "Enter a second no: 78\n"
     ]
    },
    {
     "name": "stdout",
     "output_type": "stream",
     "text": [
      "5928\n"
     ]
    }
   ],
   "source": [
    "# simple calculator\n",
    "fno=int(input(\"Enter a first no:\"))\n",
    "operator=input(\"Enter a operator:\")\n",
    "sno=int(input(\"Enter a second no:\"))\n",
    "\n",
    "if operator==\"+\":\n",
    "    ans=fno+sno\n",
    "    print(ans)\n",
    "elif operator==\"-\":\n",
    "    ans=fno-sno\n",
    "    print(ans)\n",
    "elif operator==\"*\":\n",
    "    ans=fno*sno\n",
    "    print(ans)\n",
    "elif operator==\"/\":\n",
    "    ans=fno/sno\n",
    "    print(ans)\n",
    "else:\n",
    "    print(\"enter correct no\")"
   ]
  },
  {
   "cell_type": "code",
   "execution_count": 28,
   "id": "b4a14041-f638-4214-9894-fda1651cc4f7",
   "metadata": {},
   "outputs": [
    {
     "name": "stdin",
     "output_type": "stream",
     "text": [
      "Enter first no: 56\n",
      "enter a operator: +\n",
      "Enter second no: 9\n"
     ]
    },
    {
     "name": "stdout",
     "output_type": "stream",
     "text": [
      "77\n"
     ]
    }
   ],
   "source": [
    "# Faulty calculator\n",
    "fno=int(input(\"Enter first no:\"))\n",
    "operator=input(\"enter a operator:+,-,*,/\")\n",
    "sno=int(input(\"Enter second no:\"))\n",
    "if operator==\"+\":\n",
    "    if fno==56 and sno==9:\n",
    "          print(\"77\")\n",
    "    else:\n",
    "         ans=fno+sno\n",
    "         print(ans)\n",
    "     \n",
    "elif operator==\"-\":\n",
    "    ans=fno-sno\n",
    "    print(ans)\n",
    "elif operator==\"*\":\n",
    "     if fno==43 and sno==3:\n",
    "          print(\"555\")\n",
    "     else:\n",
    "          ans=fno*sno\n",
    "          print(ans)\n",
    "elif operator==\"/\":\n",
    "      if fno==56 and sno==4:\n",
    "          print(\"5\")\n",
    "      else:\n",
    "           ans=fno/sno\n",
    "           print(ans)\n",
    "else:\n",
    "    print(\"Enter correct no\")"
   ]
  },
  {
   "cell_type": "code",
   "execution_count": 14,
   "id": "ae64a2af-249e-40fc-8ae0-1a706bbb4d30",
   "metadata": {},
   "outputs": [
    {
     "name": "stdin",
     "output_type": "stream",
     "text": [
      "Enter your score between 0-100 100\n"
     ]
    },
    {
     "name": "stdout",
     "output_type": "stream",
     "text": [
      "Grade A\n"
     ]
    }
   ],
   "source": [
    "\"\"\"Write a prg that takes students score (0-100)and prints their grade\n",
    "A:90-100 \n",
    "B:80-89\n",
    "C:70-79\n",
    "D:60-69\n",
    "F:Below 60\"\"\"\n",
    "user=int(input(\"Enter your score between 0-100\"))\n",
    "if user==user>90 and user<=100:\n",
    "    print(\"Grade A\")\n",
    "elif user==user>80 and user<89:\n",
    "    print(\"Grade B\")\n",
    "elif user==user>70 and user<79:\n",
    "    print(\"Grade C\")\n",
    "elif user==user>60 and user<69:\n",
    "    print(\"Grade D\")\n",
    "elif user==user>0 and user<60:\n",
    "    print(\"Grade F\")\n",
    "else:\n",
    "    print(\"Invalid\")\n"
   ]
  },
  {
   "cell_type": "code",
   "execution_count": 15,
   "id": "e83c5001-e9c4-4331-9d30-a78abcf49270",
   "metadata": {},
   "outputs": [
    {
     "name": "stdout",
     "output_type": "stream",
     "text": [
      "T\n",
      "h\n",
      "i\n",
      "s\n",
      " \n",
      "i\n",
      "s\n",
      " \n",
      "i\n",
      "n\n",
      "f\n",
      "o\n",
      "b\n",
      "y\n",
      "t\n",
      "e\n",
      " \n",
      "i\n",
      "n\n",
      "s\n",
      "t\n",
      "i\n",
      "t\n",
      "u\n",
      "t\n",
      "e\n",
      ".\n"
     ]
    }
   ],
   "source": [
    "#for loop\n",
    "# for varaible in iteratesequnece:\n",
    "#     print()\n",
    "str1=\"This is infobyte institute.\"\n",
    "for a in str1:\n",
    "    print(a)"
   ]
  },
  {
   "cell_type": "code",
   "execution_count": 18,
   "id": "e8d9e90f-0abb-4ac6-9994-392078e48741",
   "metadata": {},
   "outputs": [
    {
     "name": "stdout",
     "output_type": "stream",
     "text": [
      "['traveling', 'car', 'bike', 'plain', 'train']\n",
      "traveling\n",
      "car\n",
      "bike\n",
      "plain\n",
      "train\n"
     ]
    }
   ],
   "source": [
    "list1=[\"traveling\",\"car\",\"bike\",\"plain\",\"train\"]\n",
    "print(list1)\n",
    "for i in list1:\n",
    "    print(i)"
   ]
  },
  {
   "cell_type": "code",
   "execution_count": 19,
   "id": "ba703f17-ae3e-40ae-aafd-c8513b0f3120",
   "metadata": {},
   "outputs": [
    {
     "name": "stdout",
     "output_type": "stream",
     "text": [
      "('fruites', 'Aplle', 'banana', 'mango')\n"
     ]
    }
   ],
   "source": [
    "tuple1=(\"fruites\",\"Aplle\",\"banana\",\"mango\")\n",
    "print(tuple1)"
   ]
  },
  {
   "cell_type": "code",
   "execution_count": 21,
   "id": "b1e4f464-c6e4-4ca8-82e5-d22b2d849eee",
   "metadata": {},
   "outputs": [
    {
     "name": "stdout",
     "output_type": "stream",
     "text": [
      "fruites\n",
      "Aplle\n",
      "banana\n",
      "mango\n"
     ]
    }
   ],
   "source": [
    "for i in tuple1:\n",
    "    print(i)"
   ]
  },
  {
   "cell_type": "code",
   "execution_count": 22,
   "id": "442837e8-2ee9-4f15-8945-f767bcbf4131",
   "metadata": {},
   "outputs": [
    {
     "name": "stdout",
     "output_type": "stream",
     "text": [
      "Aplle\n",
      "banana\n",
      "mango\n",
      "fruites\n"
     ]
    }
   ],
   "source": [
    "set1={\"fruites\",\"Aplle\",\"banana\",\"mango\"}\n",
    "for var in set1:\n",
    "    print(var)"
   ]
  },
  {
   "cell_type": "code",
   "execution_count": 25,
   "id": "c89210c3-a699-44dd-8e80-5b342b2b4629",
   "metadata": {},
   "outputs": [
    {
     "name": "stdout",
     "output_type": "stream",
     "text": [
      "1\n",
      "2\n",
      "3\n"
     ]
    }
   ],
   "source": [
    "dict1={\"1\":\"darshan\",\"2\":\"Akansha\",\"3\":\"namrata\"}\n",
    "for v in dict1:\n",
    "    print(v)"
   ]
  },
  {
   "cell_type": "code",
   "execution_count": 26,
   "id": "36e5962e-0501-4ca3-8fcc-bd389b32264a",
   "metadata": {},
   "outputs": [
    {
     "name": "stdout",
     "output_type": "stream",
     "text": [
      "darshan\n",
      "Akansha\n",
      "namrata\n"
     ]
    }
   ],
   "source": [
    "for v in dict1.values():\n",
    "    print(v)"
   ]
  },
  {
   "cell_type": "code",
   "execution_count": 27,
   "id": "e77d91ff-24a9-47bb-8714-78f33ee54a3c",
   "metadata": {},
   "outputs": [
    {
     "name": "stdout",
     "output_type": "stream",
     "text": [
      "('1', 'darshan')\n",
      "('2', 'Akansha')\n",
      "('3', 'namrata')\n"
     ]
    }
   ],
   "source": [
    "for v in dict1.items():\n",
    "    print(v)"
   ]
  },
  {
   "cell_type": "code",
   "execution_count": 30,
   "id": "a5c3b3dd-b64a-448c-9835-43ab4311f5a2",
   "metadata": {},
   "outputs": [
    {
     "name": "stdout",
     "output_type": "stream",
     "text": [
      "darshan\n",
      "Akansha\n",
      "namrata\n"
     ]
    }
   ],
   "source": [
    "for v,w in dict1.items():\n",
    "    print(w)"
   ]
  },
  {
   "cell_type": "code",
   "execution_count": 31,
   "id": "dd9be91b-0c9c-4a62-b2e0-3b9d8fc0d2e2",
   "metadata": {},
   "outputs": [
    {
     "name": "stdout",
     "output_type": "stream",
     "text": [
      "1\n",
      "2\n",
      "3\n"
     ]
    }
   ],
   "source": [
    "for v,w in dict1.items():\n",
    "    print(v)"
   ]
  },
  {
   "cell_type": "code",
   "execution_count": 32,
   "id": "12401c38-a84a-44bd-a008-69107f0672b5",
   "metadata": {},
   "outputs": [
    {
     "name": "stdout",
     "output_type": "stream",
     "text": [
      "['traveling', 'car', 'bike', 'plain', 'train']\n"
     ]
    }
   ],
   "source": [
    "print(list1)"
   ]
  },
  {
   "cell_type": "code",
   "execution_count": 34,
   "id": "14e9f2f0-85f0-4471-b6a8-625fa0756e5a",
   "metadata": {},
   "outputs": [
    {
     "name": "stdout",
     "output_type": "stream",
     "text": [
      "traveling\n",
      "car\n",
      "bike\n"
     ]
    }
   ],
   "source": [
    "# break\n",
    "for i in list1:\n",
    "    if i==\"plain\":\n",
    "        break\n",
    "    print(i)"
   ]
  },
  {
   "cell_type": "code",
   "execution_count": 37,
   "id": "709dd14b-823b-426c-a7f1-bc2cae262f99",
   "metadata": {},
   "outputs": [
    {
     "name": "stdout",
     "output_type": "stream",
     "text": [
      "traveling\n",
      "car\n",
      "bike\n",
      "train\n"
     ]
    }
   ],
   "source": [
    "#continue\n",
    "for j in list1:\n",
    "    if j==\"plain\":\n",
    "        continue\n",
    "    print(j)"
   ]
  },
  {
   "cell_type": "code",
   "execution_count": 38,
   "id": "cd80c748-29c9-40b3-bf3e-b3e49d64eada",
   "metadata": {},
   "outputs": [
    {
     "name": "stdout",
     "output_type": "stream",
     "text": [
      "1\n",
      "2\n",
      "3\n",
      "4\n",
      "5\n",
      "6\n",
      "7\n",
      "8\n",
      "9\n"
     ]
    }
   ],
   "source": [
    "# range\n",
    "# rangw(strat:stop:step)\n",
    "for i in range(1,10):\n",
    "    print(i)"
   ]
  },
  {
   "cell_type": "code",
   "execution_count": 40,
   "id": "1ffd819f-c535-42d7-901a-ff9239584185",
   "metadata": {},
   "outputs": [
    {
     "name": "stdout",
     "output_type": "stream",
     "text": [
      "1\n",
      "3\n",
      "5\n",
      "7\n",
      "9\n"
     ]
    }
   ],
   "source": [
    "for i in range(1,11,2):\n",
    "    print(i)"
   ]
  },
  {
   "cell_type": "code",
   "execution_count": 44,
   "id": "b31a9bd0-fb4a-495b-bfc7-a1395a17853d",
   "metadata": {},
   "outputs": [
    {
     "name": "stdout",
     "output_type": "stream",
     "text": [
      "0\n",
      "1\n",
      "2\n",
      "3\n",
      "4\n",
      "5\n",
      "6\n",
      "7\n",
      "8\n",
      "9\n"
     ]
    }
   ],
   "source": [
    "# print(list1)\n",
    "# print(list1[1:3])\n",
    "for i in range(10):\n",
    "    print(i)"
   ]
  },
  {
   "cell_type": "code",
   "execution_count": 46,
   "id": "8814793b-3eec-4915-9da0-fee6f1bfc804",
   "metadata": {},
   "outputs": [
    {
     "name": "stdout",
     "output_type": "stream",
     "text": [
      "0\n",
      "1\n",
      "2\n",
      "4\n"
     ]
    }
   ],
   "source": [
    "for i in range(5):\n",
    "    if i==3:\n",
    "        continue\n",
    "    print(i)"
   ]
  },
  {
   "cell_type": "code",
   "execution_count": 63,
   "id": "d2275752-9b2a-4a9e-b3a1-e333d1fda73f",
   "metadata": {},
   "outputs": [
    {
     "name": "stdout",
     "output_type": "stream",
     "text": [
      "1 1 1 \n",
      "2 2 2 \n",
      "3 3 3 \n"
     ]
    }
   ],
   "source": [
    "# nested for loop\n",
    "for i in range(1,4):     #Outer loop  #row \n",
    "    for j in range(1,4):    #inner loop  #column\n",
    "        print(i,end=\" \")\n",
    "    print()"
   ]
  },
  {
   "cell_type": "code",
   "execution_count": 56,
   "id": "ce082384-224d-463f-9c61-729f1a87fbcb",
   "metadata": {},
   "outputs": [
    {
     "name": "stdout",
     "output_type": "stream",
     "text": [
      "1 2 3 \n",
      "2 4 6 \n",
      "3 6 9 \n"
     ]
    }
   ],
   "source": [
    "for i in range(1,4):     #Outer loop  #row \n",
    "    for j in range(1,4):    #inner loop  #column\n",
    "        print(i*j,end=\" \")\n",
    "    print()"
   ]
  },
  {
   "cell_type": "code",
   "execution_count": 58,
   "id": "5211b6c1-1e9f-4bc9-b4a9-cb7d17e59f2b",
   "metadata": {},
   "outputs": [
    {
     "name": "stdout",
     "output_type": "stream",
     "text": [
      "1 2 3 4 \n",
      "2 4 6 8 \n",
      "3 6 9 12 \n",
      "4 8 12 16 \n"
     ]
    }
   ],
   "source": [
    "for i in range(1,5):     #Outer loop  #row \n",
    "    for j in range(1,5):    #inner loop  #column\n",
    "        print(i*j,end=\" \")\n",
    "    print()"
   ]
  },
  {
   "cell_type": "code",
   "execution_count": 62,
   "id": "d6d1d277-5d18-4c2c-a0a4-fd91950a3f69",
   "metadata": {},
   "outputs": [
    {
     "name": "stdout",
     "output_type": "stream",
     "text": [
      "1\t2\t3\t4\t5\t*\n",
      "2\t4\t6\t8\t10\t*\n",
      "3\t6\t9\t12\t15\t*\n",
      "4\t8\t12\t16\t20\t*\n",
      "5\t10\t15\t20\t25\t*\n"
     ]
    }
   ],
   "source": [
    "for i in range(1,6):     #Outer loop  #row \n",
    "    for j in range(1,6):    #inner loop  #column\n",
    "        print(i*j,end=\"\\t\")\n",
    "    print(\"*\")"
   ]
  },
  {
   "cell_type": "code",
   "execution_count": 65,
   "id": "99a5636b-e475-4d2a-8326-7744370c1d70",
   "metadata": {},
   "outputs": [
    {
     "name": "stdout",
     "output_type": "stream",
     "text": [
      "T\n",
      "h\n",
      "i\n",
      "s\n",
      " \n",
      "i\n",
      "s\n",
      " \n",
      "p\n",
      "e\n",
      "n\n",
      ".\n"
     ]
    }
   ],
   "source": [
    "# For loop\n",
    "# for variable  in ieteratesequence:\n",
    "# print()\n",
    "\n",
    "str1=\"This is pen.\"\n",
    "for a in str1:\n",
    "    print(a)"
   ]
  },
  {
   "cell_type": "code",
   "execution_count": 68,
   "id": "164dae85-fed6-4e2d-9853-03dde5f65898",
   "metadata": {},
   "outputs": [
    {
     "name": "stdout",
     "output_type": "stream",
     "text": [
      "['car', 'bike', 'Bus', 'plain']\n",
      "car\n",
      "bike\n",
      "Bus\n",
      "plain\n"
     ]
    }
   ],
   "source": [
    "list1=[\"car\",\"bike\",\"Bus\",\"plain\"]\n",
    "print(list1)\n",
    "for var in list1:\n",
    "    print(var)"
   ]
  },
  {
   "cell_type": "code",
   "execution_count": 67,
   "id": "0b5c18c8-9e3d-44a7-bf2c-422a8c4b4486",
   "metadata": {},
   "outputs": [
    {
     "name": "stdout",
     "output_type": "stream",
     "text": [
      "('mango', 'apple', 'plum', 'banana')\n",
      "mango\n",
      "apple\n",
      "plum\n",
      "banana\n"
     ]
    }
   ],
   "source": [
    "tuple1=(\"mango\",\"apple\",\"plum\",\"banana\")\n",
    "print(tuple1)\n",
    "for t in tuple1:\n",
    "    print(t)"
   ]
  },
  {
   "cell_type": "code",
   "execution_count": 69,
   "id": "a7dee7b4-1909-446b-a7c8-2e00cfd106f1",
   "metadata": {},
   "outputs": [
    {
     "name": "stdout",
     "output_type": "stream",
     "text": [
      "{'apple', 'mango', 'banana'}\n",
      "apple\n",
      "mango\n",
      "banana\n"
     ]
    }
   ],
   "source": [
    "set1={\"apple\",\"mango\",\"banana\"}\n",
    "print(set1)\n",
    "for b in set1:\n",
    "    print(b)"
   ]
  },
  {
   "cell_type": "code",
   "execution_count": 70,
   "id": "6776b5c3-2140-49a7-a324-72bbcc7c04d1",
   "metadata": {},
   "outputs": [
    {
     "name": "stdout",
     "output_type": "stream",
     "text": [
      "{'1': 'pen', '2': 'pencil', '3': 'scale'}\n",
      "1\n",
      "2\n",
      "3\n"
     ]
    }
   ],
   "source": [
    "dict1={\"1\":\"pen\",\"2\":\"pencil\",\"3\":\"scale\"}\n",
    "print(dict1)\n",
    "for d in dict1:\n",
    "    print(d)"
   ]
  },
  {
   "cell_type": "code",
   "execution_count": 72,
   "id": "3360fe3a-e6ce-4a4a-80c0-9a36ca24c017",
   "metadata": {},
   "outputs": [
    {
     "name": "stdout",
     "output_type": "stream",
     "text": [
      "pen\n",
      "pencil\n",
      "scale\n"
     ]
    }
   ],
   "source": [
    "for d in dict1.values():\n",
    "    print(d)"
   ]
  },
  {
   "cell_type": "code",
   "execution_count": 73,
   "id": "09f4d8f2-e091-4648-997f-952c593ab4e7",
   "metadata": {},
   "outputs": [
    {
     "name": "stdout",
     "output_type": "stream",
     "text": [
      "1\n",
      "2\n",
      "3\n"
     ]
    }
   ],
   "source": [
    "for d in dict1.keys():\n",
    "    print(d)"
   ]
  },
  {
   "cell_type": "code",
   "execution_count": 75,
   "id": "4f227b45-fb69-4175-8734-eb2feb12d3d4",
   "metadata": {},
   "outputs": [
    {
     "name": "stdout",
     "output_type": "stream",
     "text": [
      "('1', 'pen')\n",
      "('2', 'pencil')\n",
      "('3', 'scale')\n"
     ]
    }
   ],
   "source": [
    "for d in dict1.items():\n",
    "    print(d)"
   ]
  },
  {
   "cell_type": "code",
   "execution_count": 76,
   "id": "0231e0ca-3b80-43f2-9456-f82ae01fd96e",
   "metadata": {},
   "outputs": [
    {
     "name": "stdout",
     "output_type": "stream",
     "text": [
      "1\n",
      "2\n",
      "3\n"
     ]
    }
   ],
   "source": [
    "for d,f in dict1.items():\n",
    "    print(d)\n"
   ]
  },
  {
   "cell_type": "code",
   "execution_count": 77,
   "id": "1bed1029-cece-4dfe-b0a2-8f8bdfb6f1f5",
   "metadata": {},
   "outputs": [
    {
     "name": "stdout",
     "output_type": "stream",
     "text": [
      "pen\n",
      "pencil\n",
      "scale\n"
     ]
    }
   ],
   "source": [
    "for d,f in dict1.items():\n",
    "    print(f)"
   ]
  },
  {
   "cell_type": "code",
   "execution_count": 78,
   "id": "a0e2f92e-2d4c-4dc1-a723-4eedc34a7c59",
   "metadata": {},
   "outputs": [
    {
     "name": "stdout",
     "output_type": "stream",
     "text": [
      "1 pen\n",
      "2 pencil\n",
      "3 scale\n"
     ]
    }
   ],
   "source": [
    "for d,f in dict1.items():\n",
    "    print(d,f)"
   ]
  },
  {
   "cell_type": "code",
   "execution_count": 83,
   "id": "cd53b885-4dd1-4a98-bdd9-23bcdcd2c427",
   "metadata": {},
   "outputs": [
    {
     "name": "stdout",
     "output_type": "stream",
     "text": [
      "['car', 'bike', 'Bus', 'plain']\n"
     ]
    }
   ],
   "source": [
    "\n",
    "print(list1)"
   ]
  },
  {
   "cell_type": "code",
   "execution_count": 87,
   "id": "04eb0c5d-9f63-4fa0-ac2d-b45f8516e2f6",
   "metadata": {},
   "outputs": [
    {
     "name": "stdout",
     "output_type": "stream",
     "text": [
      "car\n",
      "bike\n"
     ]
    }
   ],
   "source": [
    "# Break\n",
    "for i in list1:\n",
    "    if i==\"Bus\":\n",
    "        break\n",
    "    print(i)"
   ]
  },
  {
   "cell_type": "code",
   "execution_count": 88,
   "id": "2bf99954-d86e-40eb-9872-849009f710ef",
   "metadata": {},
   "outputs": [
    {
     "name": "stdout",
     "output_type": "stream",
     "text": [
      "car\n",
      "Bus\n",
      "plain\n"
     ]
    }
   ],
   "source": [
    "# Continue\n",
    "for i in list1:\n",
    "    if i==\"bike\":\n",
    "        continue\n",
    "    print(i)"
   ]
  },
  {
   "cell_type": "code",
   "execution_count": 89,
   "id": "8c036e92-283a-4188-91cf-d45c675ceea7",
   "metadata": {},
   "outputs": [
    {
     "name": "stdout",
     "output_type": "stream",
     "text": [
      "1\n",
      "2\n",
      "3\n",
      "4\n",
      "5\n",
      "6\n",
      "7\n",
      "8\n",
      "9\n"
     ]
    }
   ],
   "source": [
    "# Range\n",
    "# range(start:stop:step)\n",
    "\n",
    "for i in range(1,10):\n",
    "     print(i)"
   ]
  },
  {
   "cell_type": "code",
   "execution_count": 92,
   "id": "bdaabfb9-b2cc-4333-9a20-274c51798f0d",
   "metadata": {},
   "outputs": [
    {
     "name": "stdout",
     "output_type": "stream",
     "text": [
      "1\n",
      "2\n",
      "3\n",
      "4\n",
      "5\n",
      "6\n",
      "7\n",
      "8\n",
      "9\n",
      "10\n"
     ]
    }
   ],
   "source": [
    "for i in range(1,11,1):\n",
    "    print(i)"
   ]
  },
  {
   "cell_type": "code",
   "execution_count": 93,
   "id": "4654c4de-dce5-4c36-83fe-bf19ea94bd2f",
   "metadata": {},
   "outputs": [
    {
     "name": "stdout",
     "output_type": "stream",
     "text": [
      "1\n",
      "3\n",
      "5\n",
      "7\n",
      "9\n"
     ]
    }
   ],
   "source": [
    "for i in range(1,11,2):\n",
    "    print(i)"
   ]
  },
  {
   "cell_type": "code",
   "execution_count": 96,
   "id": "a5cc177a-ed80-4503-9c07-2232e3ac37da",
   "metadata": {},
   "outputs": [
    {
     "name": "stdout",
     "output_type": "stream",
     "text": [
      "0\n",
      "1\n",
      "2\n",
      "3\n",
      "4\n",
      "5\n",
      "6\n",
      "7\n",
      "8\n",
      "9\n"
     ]
    }
   ],
   "source": [
    "for i in range(10):\n",
    "    print(i)"
   ]
  },
  {
   "cell_type": "code",
   "execution_count": 98,
   "id": "948f4961-c33b-425b-ab8b-8c8a013b7f29",
   "metadata": {},
   "outputs": [
    {
     "name": "stdout",
     "output_type": "stream",
     "text": [
      "0\n",
      "1\n",
      "2\n",
      "3\n",
      "4\n",
      "6\n",
      "7\n"
     ]
    }
   ],
   "source": [
    "for i in range(8):\n",
    "    if i==5:\n",
    "        continue\n",
    "    print(i)"
   ]
  },
  {
   "cell_type": "code",
   "execution_count": 100,
   "id": "89bd2611-879c-45ca-8366-f235fa5c79e6",
   "metadata": {},
   "outputs": [
    {
     "name": "stdout",
     "output_type": "stream",
     "text": [
      "1 1 1 \n",
      "2 2 2 \n",
      "3 3 3 \n"
     ]
    }
   ],
   "source": [
    "# nested for loop\n",
    "for i in range(1,4):\n",
    "    for j in range(1,4):\n",
    "        print(i,end=\" \")\n",
    "    print()"
   ]
  },
  {
   "cell_type": "code",
   "execution_count": 102,
   "id": "64367771-f809-4a86-8e8e-2def163b865e",
   "metadata": {},
   "outputs": [
    {
     "name": "stdout",
     "output_type": "stream",
     "text": [
      "1 2 3 \n",
      "2 4 6 \n",
      "3 6 9 \n"
     ]
    }
   ],
   "source": [
    "for i in range(1,4):\n",
    "    for j in range(1,4):\n",
    "        print(i*j,end=\" \")\n",
    "    print()"
   ]
  },
  {
   "cell_type": "code",
   "execution_count": 103,
   "id": "20955fa7-7d54-4e2e-ab9d-7ca8acca50e3",
   "metadata": {},
   "outputs": [
    {
     "name": "stdout",
     "output_type": "stream",
     "text": [
      "1 2 3 4 \n",
      "2 4 6 8 \n",
      "3 6 9 12 \n",
      "4 8 12 16 \n"
     ]
    }
   ],
   "source": [
    "for i in range(1,5):\n",
    "    for j in range(1,5):\n",
    "        print(i*j,end=\" \")\n",
    "    print()"
   ]
  },
  {
   "cell_type": "code",
   "execution_count": 13,
   "id": "df169320-6445-40c1-951f-05df2878d9bb",
   "metadata": {},
   "outputs": [
    {
     "name": "stdout",
     "output_type": "stream",
     "text": [
      "1\t2\t3\t4\t\n",
      "2\t4\t6\t8\t\n",
      "3\t6\t9\t12\t\n",
      "4\t8\t12\t16\t\n"
     ]
    }
   ],
   "source": [
    "for i in range(1,5):\n",
    "    for j in range(1,5):\n",
    "        print(i*j,end=\"\\t\")\n",
    "    print(\"\")"
   ]
  },
  {
   "cell_type": "code",
   "execution_count": 106,
   "id": "78666b8e-0a29-46a0-acc7-43772a187911",
   "metadata": {},
   "outputs": [
    {
     "name": "stdin",
     "output_type": "stream",
     "text": [
      "enter a year 2024\n"
     ]
    },
    {
     "name": "stdout",
     "output_type": "stream",
     "text": [
      "leap year\n"
     ]
    }
   ],
   "source": [
    "user=int(input(\"enter a year\"))\n",
    "if user%400==0:\n",
    "    print(\"leap year\")\n",
    "elif user%4==0:\n",
    "    print(\"leap year\")\n",
    "elif user%100==0:\n",
    "    print(\"not leap year\")\n",
    "else:\n",
    "    print(\"invalid\")\n",
    "        "
   ]
  },
  {
   "cell_type": "code",
   "execution_count": null,
   "id": "78a132f1-c9b9-49a3-98d1-370c92bdb73e",
   "metadata": {},
   "outputs": [],
   "source": [
    "# while loop\n",
    "# while condition:\n",
    "#     statement."
   ]
  },
  {
   "cell_type": "code",
   "execution_count": 1,
   "id": "1751ee96-9131-42ab-9161-5ee6dde4aea6",
   "metadata": {},
   "outputs": [
    {
     "name": "stdout",
     "output_type": "stream",
     "text": [
      "1\n",
      "2\n",
      "3\n",
      "4\n",
      "5\n"
     ]
    }
   ],
   "source": [
    "count=1\n",
    "while count<=5:\n",
    "    print(count)\n",
    "    count=count+1\n"
   ]
  },
  {
   "cell_type": "code",
   "execution_count": 2,
   "id": "75f0316e-0a18-4075-8713-4a7b9cf222dc",
   "metadata": {},
   "outputs": [
    {
     "name": "stdout",
     "output_type": "stream",
     "text": [
      "0\n",
      "1\n",
      "2\n",
      "3\n",
      "4\n",
      "5\n",
      "6\n",
      "7\n",
      "8\n",
      "9\n"
     ]
    }
   ],
   "source": [
    "i=0\n",
    "while i<10:\n",
    "    print(i)\n",
    "    i+=1"
   ]
  },
  {
   "cell_type": "code",
   "execution_count": 3,
   "id": "bcc35f06-b95d-4cc1-919e-4073deadd585",
   "metadata": {},
   "outputs": [
    {
     "name": "stdout",
     "output_type": "stream",
     "text": [
      "0\n",
      "2\n",
      "4\n",
      "6\n",
      "8\n"
     ]
    }
   ],
   "source": [
    "i=0\n",
    "while i<10:\n",
    "    print(i)\n",
    "    i+=2"
   ]
  },
  {
   "cell_type": "code",
   "execution_count": 4,
   "id": "b5349021-0aa8-475e-bab8-e2805a3267a5",
   "metadata": {},
   "outputs": [
    {
     "name": "stdout",
     "output_type": "stream",
     "text": [
      "1\n",
      "3\n",
      "5\n",
      "7\n",
      "9\n"
     ]
    }
   ],
   "source": [
    "i=1\n",
    "while i<10:\n",
    "    print(i)\n",
    "    i+=2"
   ]
  },
  {
   "cell_type": "code",
   "execution_count": 5,
   "id": "ced0c000-1c23-4525-afcd-a8f047b2e683",
   "metadata": {},
   "outputs": [
    {
     "name": "stdout",
     "output_type": "stream",
     "text": [
      "0\n",
      "2\n",
      "4\n",
      "6\n",
      "8\n"
     ]
    }
   ],
   "source": [
    "for i in range(0,10,2):\n",
    "    print(i)"
   ]
  },
  {
   "cell_type": "code",
   "execution_count": 6,
   "id": "bc15f7dc-b788-4efe-afcd-4cb9aad490ba",
   "metadata": {},
   "outputs": [
    {
     "name": "stdout",
     "output_type": "stream",
     "text": [
      "1\n",
      "3\n",
      "5\n",
      "7\n",
      "9\n"
     ]
    }
   ],
   "source": [
    "for i in range(1,10,2):\n",
    "    print(i)"
   ]
  },
  {
   "cell_type": "code",
   "execution_count": null,
   "id": "c0675943-7fc0-4799-8207-25e7ae5e63c3",
   "metadata": {},
   "outputs": [],
   "source": [
    "#Infinite loop\n",
    "#i=1\n",
    "#while i<10:\n",
    "#   print(i)"
   ]
  },
  {
   "cell_type": "code",
   "execution_count": 7,
   "id": "294debaa-51c2-4c86-a5db-704fab85debb",
   "metadata": {},
   "outputs": [
    {
     "name": "stdout",
     "output_type": "stream",
     "text": [
      "10\n",
      "9\n",
      "8\n",
      "7\n",
      "6\n",
      "5\n",
      "4\n",
      "3\n",
      "2\n",
      "1\n"
     ]
    }
   ],
   "source": [
    "i=10\n",
    "while i>=1:\n",
    "    print(i)\n",
    "    i-=1"
   ]
  },
  {
   "cell_type": "code",
   "execution_count": 9,
   "id": "0b37c1a4-c6b1-4f82-844f-67b63056147e",
   "metadata": {},
   "outputs": [
    {
     "name": "stdout",
     "output_type": "stream",
     "text": [
      "0\n",
      "1\n",
      "2\n",
      "3\n",
      "4\n",
      "5\n",
      "6\n",
      "7\n",
      "8\n",
      "9\n",
      "10\n",
      "Loop  is break\n"
     ]
    }
   ],
   "source": [
    "i=0\n",
    "while i<=10:\n",
    "    print(i)\n",
    "    i+=1\n",
    "else:\n",
    "    print(\"Loop  is break\")"
   ]
  },
  {
   "cell_type": "code",
   "execution_count": 10,
   "id": "91c69369-c146-4736-9194-53065e97fb3a",
   "metadata": {},
   "outputs": [
    {
     "name": "stdout",
     "output_type": "stream",
     "text": [
      "0\n",
      "1\n",
      "2\n",
      "3\n",
      "4\n",
      "5\n",
      "6\n",
      "7\n",
      "8\n",
      "9\n",
      "10\n",
      "stop\n"
     ]
    }
   ],
   "source": [
    "i=0\n",
    "while i<=10:\n",
    "    print(i)\n",
    "    i+=1\n",
    "print(\"stop\")"
   ]
  },
  {
   "cell_type": "code",
   "execution_count": 12,
   "id": "c4510def-5355-468e-8099-a86ebb1f7800",
   "metadata": {},
   "outputs": [
    {
     "name": "stdout",
     "output_type": "stream",
     "text": [
      "0\n",
      "1\n",
      "2\n",
      "3\n",
      "4\n"
     ]
    }
   ],
   "source": [
    "i=0\n",
    "while i<=10:\n",
    "    if i==5:\n",
    "        break\n",
    "    print(i)\n",
    "    i+=1"
   ]
  },
  {
   "cell_type": "code",
   "execution_count": 14,
   "id": "56667e74-ff89-4ac9-81ff-e5c6257ed4b9",
   "metadata": {},
   "outputs": [
    {
     "name": "stdout",
     "output_type": "stream",
     "text": [
      "1\n",
      "2\n",
      "3\n",
      "4\n",
      "6\n",
      "7\n",
      "8\n",
      "9\n",
      "10\n",
      "11\n"
     ]
    }
   ],
   "source": [
    "i=0\n",
    "while i<=10:\n",
    "    i+=1\n",
    "    if i==5:\n",
    "        continue\n",
    "    print(i)"
   ]
  },
  {
   "cell_type": "code",
   "execution_count": 2,
   "id": "7c346a58-69f4-4cb4-abff-7754dea8818b",
   "metadata": {},
   "outputs": [
    {
     "name": "stdout",
     "output_type": "stream",
     "text": [
      "Institute\n",
      "1\n",
      "Institute\n",
      "2\n",
      "Institute\n",
      "3\n",
      "Institute\n",
      "4\n",
      "Institute\n",
      "5\n"
     ]
    }
   ],
   "source": [
    "i=1\n",
    "while True:\n",
    "     print(\"Institute\")\n",
    "     print(i)\n",
    "     if i==5:\n",
    "         break\n",
    "     i+=1"
   ]
  },
  {
   "cell_type": "code",
   "execution_count": 1,
   "id": "d748cde4-d66f-439e-b056-15fcb01a2ef8",
   "metadata": {},
   "outputs": [
    {
     "name": "stdout",
     "output_type": "stream",
     "text": [
      "0\n",
      "1\n",
      "2\n",
      "3\n",
      "4\n",
      "5\n"
     ]
    }
   ],
   "source": [
    "i=0\n",
    "while i<10:\n",
    "    if i==6:\n",
    "        break\n",
    "    print(i)\n",
    "    i+=1"
   ]
  },
  {
   "cell_type": "code",
   "execution_count": 4,
   "id": "36380eb8-1afa-43a9-8b5f-d4fc336222ec",
   "metadata": {},
   "outputs": [
    {
     "name": "stdout",
     "output_type": "stream",
     "text": [
      "1 6\n",
      "1 7\n",
      "1 8\n",
      "1 9\n",
      "1 10\n",
      "\n",
      "2 6\n",
      "2 7\n",
      "2 8\n",
      "2 9\n",
      "2 10\n",
      "\n",
      "3 6\n",
      "3 7\n",
      "3 8\n",
      "3 9\n",
      "3 10\n",
      "\n",
      "4 6\n",
      "4 7\n",
      "4 8\n",
      "4 9\n",
      "4 10\n",
      "\n",
      "5 6\n",
      "5 7\n",
      "5 8\n",
      "5 9\n",
      "5 10\n",
      "\n"
     ]
    }
   ],
   "source": [
    "li1=[1,2,3,4,5]\n",
    "li2=[6,7,8,9,10]\n",
    "for i in li1:\n",
    "    for j in li2:\n",
    "        print(i,j)\n",
    "    print()"
   ]
  },
  {
   "cell_type": "code",
   "execution_count": 7,
   "id": "e660078a-a14d-4b1f-b433-64c7d0fdb9a8",
   "metadata": {},
   "outputs": [
    {
     "name": "stdout",
     "output_type": "stream",
     "text": [
      "6\t7\t8\t9\t10\t\n",
      "12\t14\t16\t18\t20\t\n",
      "18\t21\t24\t27\t30\t\n",
      "24\t28\t32\t36\t40\t\n",
      "30\t35\t40\t45\t50\t\n"
     ]
    }
   ],
   "source": [
    "li1=[1,2,3,4,5]\n",
    "li2=[6,7,8,9,10]\n",
    "for i in li1:\n",
    "    for j in li2:\n",
    "        print(i*j,end=\"\\t\")\n",
    "    print()"
   ]
  },
  {
   "cell_type": "code",
   "execution_count": 9,
   "id": "77d182aa-6ada-44be-8707-fa3140769c09",
   "metadata": {},
   "outputs": [
    {
     "name": "stdout",
     "output_type": "stream",
     "text": [
      "['car', 'bus', 'train'] ['4', '10', '100']\n",
      "['car', 'bus', 'train'] ['4', '10', '100']\n",
      "['car', 'bus', 'train'] ['4', '10', '100']\n",
      "\n",
      "['car', 'bus', 'train'] ['4', '10', '100']\n",
      "['car', 'bus', 'train'] ['4', '10', '100']\n",
      "['car', 'bus', 'train'] ['4', '10', '100']\n",
      "\n",
      "['car', 'bus', 'train'] ['4', '10', '100']\n",
      "['car', 'bus', 'train'] ['4', '10', '100']\n",
      "['car', 'bus', 'train'] ['4', '10', '100']\n",
      "\n"
     ]
    }
   ],
   "source": [
    "v1=[\"car\",\"bus\",\"train\"]\n",
    "v2=[\"4\",\"10\",\"100\"]\n",
    "for i in v1:\n",
    "    for j in v2:\n",
    "        print(v1,v2)\n",
    "    print()"
   ]
  },
  {
   "cell_type": "code",
   "execution_count": 12,
   "id": "b3f8e5c6-9148-4836-ab52-78a83feff57a",
   "metadata": {},
   "outputs": [
    {
     "name": "stdout",
     "output_type": "stream",
     "text": [
      "car red\n",
      "car purple\n",
      "car white\n",
      "bus red\n",
      "bus purple\n",
      "bus white\n",
      "train red\n",
      "train purple\n",
      "train white\n"
     ]
    }
   ],
   "source": [
    "v1=[\"car\",\"bus\",\"train\"]\n",
    "v2=[\"red\",\"purple\",\"white\"]\n",
    "for i in v1:\n",
    "    for j in v2:\n",
    "        print(i,j)\n",
    "    "
   ]
  },
  {
   "cell_type": "code",
   "execution_count": 16,
   "id": "62a1cc1b-ff0e-42ea-8da7-c7be21dab35e",
   "metadata": {},
   "outputs": [
    {
     "name": "stdout",
     "output_type": "stream",
     "text": [
      "1\t2\t3\t4\t \n",
      "2\t4\t6\t8\t \n",
      "3\t6\t9\t12\t \n",
      "4\t8\t12\t16\t \n"
     ]
    }
   ],
   "source": [
    "for i in range(1,5):\n",
    "    for j in range(1,5):\n",
    "        print(i*j,end=\"\\t\")\n",
    "    print(\" \")"
   ]
  },
  {
   "cell_type": "code",
   "execution_count": 24,
   "id": "0c4d0931-4ea2-471a-8ceb-6caa6563e001",
   "metadata": {},
   "outputs": [
    {
     "name": "stdout",
     "output_type": "stream",
     "text": [
      "*\t*\t*\t*\t*\t\n",
      "*\t*\t*\t*\t*\t\n",
      "*\t*\t*\t*\t*\t\n",
      "*\t*\t*\t*\t*\t\n",
      "*\t*\t*\t*\t*\t\n",
      "stop\n"
     ]
    }
   ],
   "source": [
    "for i in range(1,6):\n",
    "    for j in range(1,6):\n",
    "        print(\"*\",end=\"\\t\")\n",
    "    print(\"\")\n",
    "else:\n",
    "    print(\"stop\")"
   ]
  },
  {
   "cell_type": "code",
   "execution_count": 28,
   "id": "0ff1fc58-7c45-456b-abce-60b6ed8c0ca3",
   "metadata": {},
   "outputs": [
    {
     "name": "stdout",
     "output_type": "stream",
     "text": [
      "1\n",
      "3\n",
      "5\n",
      "7\n",
      "9\n",
      "stop\n"
     ]
    }
   ],
   "source": [
    "for i in range(1,11,2):\n",
    "    print(i)\n",
    "else:\n",
    "    print(\"stop\")"
   ]
  },
  {
   "cell_type": "markdown",
   "id": "385524b0-f67f-4395-98f8-85aef9114b35",
   "metadata": {},
   "source": [
    "user=int(input(\"Enter a no:\"))\n",
    "\n",
    "if user%2==0:\n",
    "    print(\"Even no\")\n",
    "else:\n",
    "    print(\"odd no\")"
   ]
  },
  {
   "cell_type": "code",
   "execution_count": 65,
   "id": "01d0fd0b-1596-434d-a0ea-f530a2c7b682",
   "metadata": {},
   "outputs": [
    {
     "name": "stdout",
     "output_type": "stream",
     "text": [
      "2 * 1 = 2\n",
      "2 * 2 = 4\n",
      "2 * 3 = 6\n",
      "2 * 4 = 8\n",
      "2 * 5 = 10\n",
      "2 * 6 = 12\n",
      "2 * 7 = 14\n",
      "2 * 8 = 16\n",
      "2 * 9 = 18\n",
      "2 * 10 = 20\n"
     ]
    }
   ],
   "source": [
    "for i in range(1,11) :\n",
    "    print(2,\"*\",i,\"=\",i*2)"
   ]
  },
  {
   "cell_type": "code",
   "execution_count": 71,
   "id": "9fdc60cb-8fbb-4b42-892d-64e24d2df099",
   "metadata": {},
   "outputs": [
    {
     "name": "stdin",
     "output_type": "stream",
     "text": [
      "Enter a no: 56\n"
     ]
    },
    {
     "name": "stdout",
     "output_type": "stream",
     "text": [
      "56 * 1 = 56\n",
      "56 * 2 = 112\n",
      "56 * 3 = 168\n",
      "56 * 4 = 224\n",
      "56 * 5 = 280\n",
      "56 * 6 = 336\n",
      "56 * 7 = 392\n",
      "56 * 8 = 448\n",
      "56 * 9 = 504\n",
      "56 * 10 = 560\n"
     ]
    }
   ],
   "source": [
    "n=int(input(\"Enter a no:\"))\n",
    "for i in range(1,11):\n",
    "    print(n,\"*\",i,\"=\",i*n)"
   ]
  },
  {
   "cell_type": "code",
   "execution_count": 2,
   "id": "583e5380-17ca-4ba9-a533-611333d17713",
   "metadata": {},
   "outputs": [
    {
     "name": "stdout",
     "output_type": "stream",
     "text": [
      "*\t*\t*\t*\t*\t\n",
      "*\t*\t*\t*\t*\t\n",
      "*\t*\t*\t*\t*\t\n",
      "*\t*\t*\t*\t*\t\n",
      "*\t*\t*\t*\t*\t\n"
     ]
    }
   ],
   "source": [
    "#que1 print 5 by 5 star pattern\n",
    "for i in range(1,6):\n",
    "    for j in range(1,6):\n",
    "        print(\"*\",end=\"\\t\")\n",
    "    print(\"\")"
   ]
  },
  {
   "cell_type": "code",
   "execution_count": 25,
   "id": "d16b9abd-0aa3-472b-bed9-0a6323f48700",
   "metadata": {},
   "outputs": [
    {
     "name": "stdout",
     "output_type": "stream",
     "text": [
      "* * * * *  \n",
      "*       *  \n",
      "*       *  \n",
      "*       *  \n",
      "* * * * *  \n"
     ]
    }
   ],
   "source": [
    "#que2 print hollow square pattern\n",
    "for i in range(1,6):\n",
    "    for j in range(1,6):\n",
    "        if i==1 or j==1 or i==5 or j==5:\n",
    "           print(\"*\",end=\" \")\n",
    "        else:\n",
    "            print(\" \",end=\" \")\n",
    "    print(\" \")"
   ]
  },
  {
   "cell_type": "code",
   "execution_count": 27,
   "id": "74a54f3b-49c8-45d3-9d7a-e7f4e017c939",
   "metadata": {},
   "outputs": [
    {
     "name": "stdout",
     "output_type": "stream",
     "text": [
      "* \n",
      "* * \n",
      "* * * \n",
      "* * * * \n",
      "* * * * * \n"
     ]
    }
   ],
   "source": [
    "#que3 print a half triangle of star pattern.\n",
    "for i in range(1,6):\n",
    "    for j in range(1,i+1):\n",
    "        print(\"*\",end=\" \")\n",
    "    print()"
   ]
  },
  {
   "cell_type": "code",
   "execution_count": 29,
   "id": "f876c517-44bd-41e5-892a-dc3883b5de59",
   "metadata": {},
   "outputs": [
    {
     "name": "stdout",
     "output_type": "stream",
     "text": [
      "1 \n",
      "2 2 \n",
      "3 3 3 \n",
      "4 4 4 4 \n",
      "5 5 5 5 5 \n"
     ]
    }
   ],
   "source": [
    "#que4 print a half triangle\n",
    "for i in range(1,6):\n",
    "    for j in range(1,i+1):\n",
    "        print(i,end=\" \")\n",
    "    print()"
   ]
  },
  {
   "cell_type": "code",
   "execution_count": 30,
   "id": "2c67360f-e235-4313-9469-849a2de21741",
   "metadata": {},
   "outputs": [
    {
     "name": "stdout",
     "output_type": "stream",
     "text": [
      "1 \n",
      "1 2 \n",
      "1 2 3 \n",
      "1 2 3 4 \n",
      "1 2 3 4 5 \n"
     ]
    }
   ],
   "source": [
    "#que5\n",
    "for i in range(1,6):\n",
    "    for j in range(1,i+1):\n",
    "        print(j,end=\" \")\n",
    "    print()"
   ]
  },
  {
   "cell_type": "code",
   "execution_count": 43,
   "id": "031cc6eb-0e12-4947-9fad-209220ca64dc",
   "metadata": {},
   "outputs": [
    {
     "name": "stdout",
     "output_type": "stream",
     "text": [
      "* * * * * \n",
      "* * * * \n",
      "* * * \n",
      "* * \n",
      "* \n"
     ]
    }
   ],
   "source": [
    "#que6\n",
    "n=6\n",
    "for i in range(1,n):\n",
    "    for j in range(1,n-i+1):\n",
    "        print(\"*\",end=\" \")\n",
    "    print()"
   ]
  },
  {
   "cell_type": "code",
   "execution_count": 54,
   "id": "edfe7ed4-49bc-4e63-a36a-3f5fdd2b8e23",
   "metadata": {},
   "outputs": [
    {
     "name": "stdout",
     "output_type": "stream",
     "text": [
      "          * \n",
      "        * * \n",
      "      * * * \n",
      "    * * * * \n",
      "  * * * * * \n"
     ]
    }
   ],
   "source": [
    "#que7\n",
    "n=6\n",
    "for i in range(1,n):\n",
    "    for j in range(1,n-i+1):\n",
    "        print(\" \",end=\" \")\n",
    "    for k in range(1,i+1):\n",
    "        print(\"*\",end=\" \")\n",
    "    print()"
   ]
  },
  {
   "cell_type": "code",
   "execution_count": 59,
   "id": "e0619740-886a-4bae-98c9-cf9b02dc2895",
   "metadata": {},
   "outputs": [
    {
     "name": "stdout",
     "output_type": "stream",
     "text": [
      "  * * * * * \n",
      "    * * * * \n",
      "      * * * \n",
      "        * * \n",
      "          * \n"
     ]
    }
   ],
   "source": [
    "#que8\n",
    "n=6\n",
    "for i in range(1,6):\n",
    "    for j in range(1,i+1):\n",
    "        print(\" \",end=\" \")\n",
    "    for k in range(1,n-i+1):\n",
    "        print(\"*\",end=\" \")\n",
    "    print()"
   ]
  },
  {
   "cell_type": "code",
   "execution_count": 60,
   "id": "c470564d-df35-48ca-a260-17aa53f3c5f4",
   "metadata": {},
   "outputs": [
    {
     "name": "stdout",
     "output_type": "stream",
     "text": [
      "2 * 1 = 2\n",
      "2 * 2 = 4\n",
      "2 * 3 = 6\n",
      "2 * 4 = 8\n",
      "2 * 5 = 10\n",
      "2 * 6 = 12\n",
      "2 * 7 = 14\n",
      "2 * 8 = 16\n",
      "2 * 9 = 18\n",
      "2 * 10 = 20\n"
     ]
    }
   ],
   "source": [
    "#que9\n",
    "for i in range(1,11) :\n",
    "    print(2,\"*\",i,\"=\",i*2)\n"
   ]
  },
  {
   "cell_type": "code",
   "execution_count": 61,
   "id": "0bea03e3-7599-40e5-896e-a80e69e3f68d",
   "metadata": {},
   "outputs": [
    {
     "name": "stdin",
     "output_type": "stream",
     "text": [
      "Enter a no: 76\n"
     ]
    },
    {
     "name": "stdout",
     "output_type": "stream",
     "text": [
      "76 * 1 = 76\n",
      "76 * 2 = 152\n",
      "76 * 3 = 228\n",
      "76 * 4 = 304\n",
      "76 * 5 = 380\n",
      "76 * 6 = 456\n",
      "76 * 7 = 532\n",
      "76 * 8 = 608\n",
      "76 * 9 = 684\n",
      "76 * 10 = 760\n"
     ]
    }
   ],
   "source": [
    "n=int(input(\"Enter a no:\"))\n",
    "for i in range(1,11):\n",
    "    print(n,\"*\",i,\"=\",i*n)"
   ]
  },
  {
   "cell_type": "code",
   "execution_count": 67,
   "id": "9089924e-536b-4b47-b0fc-a3a3f1d725d7",
   "metadata": {},
   "outputs": [
    {
     "name": "stdout",
     "output_type": "stream",
     "text": [
      "1 2 3 4 5 6 7 8 8\n",
      "1 2 3 4 5 6 7 7\n",
      "1 2 3 4 5 6 6\n",
      "1 2 3 4 5 5\n",
      "1 2 3 4 4\n",
      "1 2 3 3\n",
      "1 2 2\n",
      "1 1\n"
     ]
    }
   ],
   "source": [
    "#que10\n",
    "n=9\n",
    "for i in range(1,n):\n",
    "    for j in range(1,n-i+1):\n",
    "        print(j,end=\" \")\n",
    "    print(j)"
   ]
  },
  {
   "cell_type": "code",
   "execution_count": 5,
   "id": "2d250238-b63a-4664-9407-5e32157c36fd",
   "metadata": {},
   "outputs": [
    {
     "name": "stdout",
     "output_type": "stream",
     "text": [
      "1\n",
      "2\n",
      "3\n",
      "4\n",
      "5\n",
      "6\n",
      "7\n",
      "8\n",
      "9\n"
     ]
    }
   ],
   "source": [
    "i=1\n",
    "while i<10:\n",
    "    print(i)\n",
    "    i+=1"
   ]
  },
  {
   "cell_type": "code",
   "execution_count": 6,
   "id": "f5c58a5e-ca6e-413d-aa01-f95bb375da8c",
   "metadata": {},
   "outputs": [
    {
     "name": "stdout",
     "output_type": "stream",
     "text": [
      "0\n",
      "1\n",
      "2\n",
      "3\n",
      "4\n"
     ]
    }
   ],
   "source": [
    "i=0\n",
    "while i<=10:\n",
    "    if i==5:\n",
    "        break\n",
    "    print(i)\n",
    "    i+=1"
   ]
  },
  {
   "cell_type": "code",
   "execution_count": 1,
   "id": "f6b6d340-a4fa-402d-8aae-967c9cec5dba",
   "metadata": {},
   "outputs": [
    {
     "name": "stdout",
     "output_type": "stream",
     "text": [
      "1\n",
      "2\n",
      "3\n",
      "5\n",
      "6\n",
      "7\n",
      "8\n",
      "9\n",
      "10\n",
      "11\n"
     ]
    }
   ],
   "source": [
    "i=0\n",
    "while i<=10:\n",
    "    i+=1\n",
    "    if i==4:\n",
    "        continue\n",
    "    print(i)\n",
    "   \n",
    "   \n",
    "    "
   ]
  },
  {
   "cell_type": "code",
   "execution_count": 3,
   "id": "c44264ff-d218-4b6c-88ec-c53856e01082",
   "metadata": {},
   "outputs": [
    {
     "name": "stdin",
     "output_type": "stream",
     "text": [
      "Guess the no: 6\n"
     ]
    },
    {
     "name": "stdout",
     "output_type": "stream",
     "text": [
      "congratulations you have win\n"
     ]
    }
   ],
   "source": [
    "# 2 exersize guessing no \n",
    "i=1\n",
    "img=6\n",
    "while i<=3:\n",
    "    user=int(input(\"Guess the no:\"))\n",
    "    if user==img:\n",
    "        print(\"congratulations you have win\")\n",
    "        break\n",
    "    elif user<img:\n",
    "        print(\"you have selecting min no\")\n",
    "    elif user>img:\n",
    "        print(\"you have selecting max no\")\n",
    "    else:\n",
    "        print(\"wrong input ,choose right no\")\n",
    "    print(\"you have\",3-i,\"no of guesses left\")\n",
    "    i+=1\n",
    "if i>3:\n",
    "    print(\"game over,sorry\")"
   ]
  },
  {
   "cell_type": "code",
   "execution_count": 6,
   "id": "772ceff3-56c8-4ee9-9b02-d37482c71fe0",
   "metadata": {},
   "outputs": [
    {
     "name": "stdout",
     "output_type": "stream",
     "text": [
      "0.5971120723024889\n",
      "8\n"
     ]
    }
   ],
   "source": [
    "# random no guessing\n",
    "import random\n",
    "print(random.random())\n",
    "print(random.randint(1,11))\n",
    "      "
   ]
  },
  {
   "cell_type": "code",
   "execution_count": 8,
   "id": "06e07531-badb-468e-946a-5074773715c8",
   "metadata": {},
   "outputs": [
    {
     "name": "stdout",
     "output_type": "stream",
     "text": [
      "1\n"
     ]
    }
   ],
   "source": [
    "var=random.randint(1,10)\n",
    "print(var)"
   ]
  },
  {
   "cell_type": "code",
   "execution_count": 11,
   "id": "1fc04153-2bad-4393-b6d5-fbad20de60cf",
   "metadata": {},
   "outputs": [
    {
     "name": "stdin",
     "output_type": "stream",
     "text": [
      "Guess the number between the 1 to 20: 16\n"
     ]
    },
    {
     "name": "stdout",
     "output_type": "stream",
     "text": [
      "You have Selecting the Max No.\n",
      "You have  5 numbers of guess left.\n"
     ]
    },
    {
     "name": "stdin",
     "output_type": "stream",
     "text": [
      "Guess the number between the 1 to 20: 12\n"
     ]
    },
    {
     "name": "stdout",
     "output_type": "stream",
     "text": [
      "You have Selecting the Min No.\n",
      "You have  4 numbers of guess left.\n"
     ]
    },
    {
     "name": "stdin",
     "output_type": "stream",
     "text": [
      "Guess the number between the 1 to 20: 4\n"
     ]
    },
    {
     "name": "stdout",
     "output_type": "stream",
     "text": [
      "You have Selecting the Min No.\n",
      "You have  3 numbers of guess left.\n"
     ]
    },
    {
     "name": "stdin",
     "output_type": "stream",
     "text": [
      "Guess the number between the 1 to 20: 5\n"
     ]
    },
    {
     "name": "stdout",
     "output_type": "stream",
     "text": [
      "You have Selecting the Min No.\n",
      "You have  2 numbers of guess left.\n"
     ]
    },
    {
     "name": "stdin",
     "output_type": "stream",
     "text": [
      "Guess the number between the 1 to 20: 9\n"
     ]
    },
    {
     "name": "stdout",
     "output_type": "stream",
     "text": [
      "You have Selecting the Min No.\n",
      "You have  1 numbers of guess left.\n"
     ]
    },
    {
     "name": "stdin",
     "output_type": "stream",
     "text": [
      "Guess the number between the 1 to 20: 4\n"
     ]
    },
    {
     "name": "stdout",
     "output_type": "stream",
     "text": [
      "You have Selecting the Min No.\n",
      "You have  0 numbers of guess left.\n",
      "game over,Sorry.\n"
     ]
    }
   ],
   "source": [
    "# 2nd Excersice-Guessing Number using random module\n",
    "import random\n",
    "i=1\n",
    "img=random.randint(1,20)\n",
    "while i<=6:\n",
    "    user=int(input(\"Guess the number between the 1 to 20:\"))\n",
    "    if user==img:\n",
    "        print(\"Congratulations You have Win.\")\n",
    "    elif user<img:\n",
    "        print(\"You have Selecting the Min No.\")\n",
    "    elif user>img:\n",
    "        print(\"You have Selecting the Max No.\")\n",
    "    else:\n",
    "        print(\"Wrong input,can you choos right number.\")\n",
    "    print(\"You have \",6-i, \"numbers of guess left.\" )\n",
    "    i+=1\n",
    "if i>6:\n",
    "    print(\"game over,Sorry.\")"
   ]
  },
  {
   "cell_type": "code",
   "execution_count": 2,
   "id": "9b31188c-6fb3-4736-8d47-fd49957d1e4f",
   "metadata": {},
   "outputs": [
    {
     "name": "stdin",
     "output_type": "stream",
     "text": [
      "guess the no between 1 to 10 6\n"
     ]
    },
    {
     "name": "stdout",
     "output_type": "stream",
     "text": [
      "you select max no\n",
      "you have 2 no of guesses\n"
     ]
    },
    {
     "name": "stdin",
     "output_type": "stream",
     "text": [
      "guess the no between 1 to 10 7\n"
     ]
    },
    {
     "name": "stdout",
     "output_type": "stream",
     "text": [
      "you select max no\n",
      "you have 1 no of guesses\n"
     ]
    },
    {
     "name": "stdin",
     "output_type": "stream",
     "text": [
      "guess the no between 1 to 10 8\n"
     ]
    },
    {
     "name": "stdout",
     "output_type": "stream",
     "text": [
      "you select max no\n",
      "you have 0 no of guesses\n",
      "game over,soory\n"
     ]
    }
   ],
   "source": [
    "import random\n",
    "i=1\n",
    "img=random.randint(1,10)\n",
    "while i<=3:\n",
    "    user=(int(input(\"guess the no between 1 to 10\")))\n",
    "    if user==img:\n",
    "        print(\"congrats , you win\")\n",
    "        break\n",
    "    elif user<img:\n",
    "        print(\"you select the min no\")\n",
    "    elif user>img:\n",
    "        print(\"you select max no\")\n",
    "    else:\n",
    "        print(\"wrong input\")\n",
    "    print(\"you have\",3-i,\"no of guesses\")\n",
    "    i+=1\n",
    "if i>3:\n",
    "    print(\"game over,soory\")"
   ]
  },
  {
   "cell_type": "code",
   "execution_count": 6,
   "id": "6ade42d9-c743-4cfd-b68e-0a700286220c",
   "metadata": {},
   "outputs": [
    {
     "name": "stdout",
     "output_type": "stream",
     "text": [
      "3\n",
      "2\n",
      "1\n",
      "1\n"
     ]
    }
   ],
   "source": [
    "#Min no using loop\n",
    "list1=[3,2,1,5,4]\n",
    "min=list1[0]\n",
    "n=len(list1)\n",
    "for i in range(0,n-1):\n",
    "    if min > list1[i]:\n",
    "        min = list1[i]\n",
    "    print(min)"
   ]
  },
  {
   "cell_type": "code",
   "execution_count": 8,
   "id": "31a8b0e5-965e-45d9-97e2-935bdcb625d2",
   "metadata": {},
   "outputs": [
    {
     "name": "stdout",
     "output_type": "stream",
     "text": [
      "3\n",
      "3\n",
      "3\n",
      "5\n",
      "5\n"
     ]
    }
   ],
   "source": [
    "list1=[3,2,1,5,4]\n",
    "max=list1[0]\n",
    "n=len(list1)\n",
    "for i in range(0,n-1):\n",
    "    if max < list1[i]:\n",
    "        max = list1[i]\n",
    "    print(max)\n",
    "print(max)"
   ]
  },
  {
   "cell_type": "code",
   "execution_count": 17,
   "id": "975461d5-4d74-4c52-b8ae-8734e75efc56",
   "metadata": {},
   "outputs": [
    {
     "name": "stdout",
     "output_type": "stream",
     "text": [
      "True\n"
     ]
    },
    {
     "data": {
      "text/plain": [
       "140706107295256"
      ]
     },
     "execution_count": 17,
     "metadata": {},
     "output_type": "execute_result"
    }
   ],
   "source": [
    "a=100\n",
    "b=100\n",
    "print(a is b)\n",
    "id(a)\n",
    "id(b)\n"
   ]
  },
  {
   "cell_type": "code",
   "execution_count": 19,
   "id": "3f5c1dc3-6599-41b7-887e-910e812f9fc3",
   "metadata": {},
   "outputs": [
    {
     "name": "stdout",
     "output_type": "stream",
     "text": [
      "False\n"
     ]
    },
    {
     "data": {
      "text/plain": [
       "2191982492304"
      ]
     },
     "execution_count": 19,
     "metadata": {},
     "output_type": "execute_result"
    }
   ],
   "source": [
    "x=400\n",
    "y=400\n",
    "print(x is y)\n",
    "id(x)\n",
    "id(y)"
   ]
  },
  {
   "cell_type": "code",
   "execution_count": 20,
   "id": "cb7f5cb8-309c-4378-94cf-466966c24307",
   "metadata": {},
   "outputs": [
    {
     "data": {
      "text/plain": [
       "140706107292376"
      ]
     },
     "execution_count": 20,
     "metadata": {},
     "output_type": "execute_result"
    }
   ],
   "source": [
    "a=10\n",
    "id(a)"
   ]
  },
  {
   "cell_type": "code",
   "execution_count": 23,
   "id": "3118b66a-0781-451a-81ae-a1f047e993e1",
   "metadata": {},
   "outputs": [
    {
     "data": {
      "text/plain": [
       "140706107298456"
      ]
     },
     "execution_count": 23,
     "metadata": {},
     "output_type": "execute_result"
    }
   ],
   "source": [
    "b=200\n",
    "id(b)"
   ]
  },
  {
   "cell_type": "code",
   "execution_count": 24,
   "id": "67f7b704-5f03-4fae-9e3d-75fc1f2afba7",
   "metadata": {},
   "outputs": [
    {
     "name": "stdout",
     "output_type": "stream",
     "text": [
      "False\n"
     ]
    }
   ],
   "source": [
    "v1=[7,5,6,8]\n",
    "v2=[6,4,7,8]\n",
    "print(v1 is v2)"
   ]
  },
  {
   "cell_type": "code",
   "execution_count": 27,
   "id": "02659527-badc-4345-a4a1-5666b8ebe715",
   "metadata": {},
   "outputs": [
    {
     "name": "stdout",
     "output_type": "stream",
     "text": [
      "False\n"
     ]
    }
   ],
   "source": [
    "v=2000\n",
    "v4=2000\n",
    "print(v is v4)"
   ]
  },
  {
   "cell_type": "code",
   "execution_count": 6,
   "id": "3bbe05da-fb31-4a20-940a-6f4efdb31256",
   "metadata": {},
   "outputs": [
    {
     "name": "stdout",
     "output_type": "stream",
     "text": [
      "hello world\n"
     ]
    }
   ],
   "source": [
    "# Function\n",
    "def Firstfunction():\n",
    "    print(\"hello world\")\n",
    "Firstfunction()"
   ]
  },
  {
   "cell_type": "code",
   "execution_count": 5,
   "id": "5d74dcc7-5264-4bb1-bb23-deeb38421bac",
   "metadata": {},
   "outputs": [
    {
     "name": "stdout",
     "output_type": "stream",
     "text": [
      "hello world\n"
     ]
    }
   ],
   "source": [
    "def Firstfunction():\n",
    "    print(\"hello world\")\n",
    "Firstfunction()"
   ]
  },
  {
   "cell_type": "code",
   "execution_count": 7,
   "id": "b3ecef99-78f6-471f-9109-3f4b93c274ac",
   "metadata": {},
   "outputs": [
    {
     "name": "stdout",
     "output_type": "stream",
     "text": [
      "hello world\n"
     ]
    }
   ],
   "source": [
    "Firstfunction()"
   ]
  },
  {
   "cell_type": "code",
   "execution_count": 8,
   "id": "6b2f32c0-9076-43e8-b45c-68f9a318758a",
   "metadata": {},
   "outputs": [
    {
     "name": "stdout",
     "output_type": "stream",
     "text": [
      "['Apple', 'banana', 'Mango']\n"
     ]
    }
   ],
   "source": [
    "def func():\n",
    "    list1=[\"Apple\",\"banana\",\"Mango\"]\n",
    "    print(list1)\n",
    "func()"
   ]
  },
  {
   "cell_type": "code",
   "execution_count": 9,
   "id": "59cdb05c-19a4-4b43-88d4-6df2c6d3348f",
   "metadata": {},
   "outputs": [
    {
     "name": "stdout",
     "output_type": "stream",
     "text": [
      "1\n",
      "2\n",
      "3\n",
      "4\n",
      "5\n",
      "6\n",
      "7\n",
      "8\n",
      "9\n",
      "10\n"
     ]
    }
   ],
   "source": [
    "def data():\n",
    "    for i in range(1,11):\n",
    "        print(i)\n",
    "data()"
   ]
  },
  {
   "cell_type": "code",
   "execution_count": 10,
   "id": "79efbf6f-86c1-4e63-bff2-3faa6cbb7270",
   "metadata": {},
   "outputs": [
    {
     "name": "stdout",
     "output_type": "stream",
     "text": [
      "10\n"
     ]
    }
   ],
   "source": [
    "# parameters and argument\n",
    "def func1():\n",
    "    a=8\n",
    "    b=2\n",
    "    print(a+b)\n",
    "func1()\n"
   ]
  },
  {
   "cell_type": "code",
   "execution_count": 11,
   "id": "ad8a5bf7-f65f-43d0-b905-1c6f023b849e",
   "metadata": {},
   "outputs": [
    {
     "name": "stdout",
     "output_type": "stream",
     "text": [
      "10\n"
     ]
    }
   ],
   "source": [
    "\n",
    "def func1(a,b):\n",
    "    print(a+b)\n",
    "func1(8,2)\n"
   ]
  },
  {
   "cell_type": "code",
   "execution_count": 12,
   "id": "29d1f576-1cc3-4103-a2d7-0030f2ec80fc",
   "metadata": {},
   "outputs": [
    {
     "name": "stdout",
     "output_type": "stream",
     "text": [
      "NAME\n"
     ]
    }
   ],
   "source": [
    "def func2(user): #parameter \n",
    "    print(user)\n",
    "func2(\"NAME\")  #argument"
   ]
  },
  {
   "cell_type": "code",
   "execution_count": 13,
   "id": "b13d0b01-a434-484d-88e4-d7ade271b852",
   "metadata": {},
   "outputs": [
    {
     "name": "stdout",
     "output_type": "stream",
     "text": [
      "['Apple', 'banana', 'Mango']\n"
     ]
    }
   ],
   "source": [
    "func()"
   ]
  },
  {
   "cell_type": "code",
   "execution_count": 14,
   "id": "6169ed1a-18eb-4b9e-a7f0-9744b36a19ab",
   "metadata": {},
   "outputs": [
    {
     "name": "stdout",
     "output_type": "stream",
     "text": [
      "['Apple', 'banana', 'Mango']\n",
      "['car', 'truck', 'bus', 'Train']\n"
     ]
    }
   ],
   "source": [
    "def vahical():\n",
    "    li=[\"car\",\"truck\",\"bus\",\"Train\"]\n",
    "    func()\n",
    "    print(li)\n",
    "vahical()"
   ]
  },
  {
   "cell_type": "code",
   "execution_count": null,
   "id": "124dd7a9-2eb2-4365-85e9-a704713533ec",
   "metadata": {},
   "outputs": [],
   "source": [
    "# types of arguments\n",
    "# 1.deafault\n",
    "# 2.keyword argument(named arugument)\n",
    "# 3.posential argument\n",
    "# 4.Arbitary argument\n",
    "\n",
    "# default\n",
    "# def info():\n",
    "#     name=\"Infobyte\"\n",
    "#     print(name)\n",
    "# info()\n",
    "# def info(name):\n",
    "#     print(name)\n",
    "# info(\"infobyte\")\n",
    "\n",
    "# def info(name,age):\n",
    "#     print(name)\n",
    "# info(\"infobyte\")\n",
    "\n",
    "\n",
    "# def info(name,age):\n",
    "#     print(name,age)\n",
    "#     print(age)\n",
    "# info(\"infobyte\",2)\n",
    "\n",
    "# info(\"infobyte\",2)\n",
    "# info(\"infobyte\",2)\n"
   ]
  },
  {
   "cell_type": "code",
   "execution_count": 15,
   "id": "191c92af-521a-4a86-9a62-689829038fbd",
   "metadata": {},
   "outputs": [
    {
     "name": "stdout",
     "output_type": "stream",
     "text": [
      "inf 45\n"
     ]
    }
   ],
   "source": [
    "#default\n",
    "def info(name,age=45):\n",
    "    print(name,age)\n",
    "info(\"inf\")"
   ]
  },
  {
   "cell_type": "code",
   "execution_count": null,
   "id": "7e16791e-1c82-4ace-bd68-0a0373935e3e",
   "metadata": {},
   "outputs": [],
   "source": [
    "#keyword Argument\n",
    "def inst(fname,sname):\n",
    "    print(\"This is my first name:\",fname,\"This is my 2nd name:\",sname)\n",
    "inst(fname=\"namrata\",sname=\"shinde\")"
   ]
  },
  {
   "cell_type": "code",
   "execution_count": 17,
   "id": "d8fe930b-2af4-4553-8fd4-2c3185f84873",
   "metadata": {},
   "outputs": [
    {
     "ename": "NameError",
     "evalue": "name 'inst' is not defined",
     "output_type": "error",
     "traceback": [
      "\u001b[1;31m---------------------------------------------------------------------------\u001b[0m",
      "\u001b[1;31mNameError\u001b[0m                                 Traceback (most recent call last)",
      "Cell \u001b[1;32mIn[17], line 1\u001b[0m\n\u001b[1;32m----> 1\u001b[0m \u001b[43minst\u001b[49m(sname\u001b[38;5;241m=\u001b[39m\u001b[38;5;124m\"\u001b[39m\u001b[38;5;124mshinde\u001b[39m\u001b[38;5;124m\"\u001b[39m,fname\u001b[38;5;241m=\u001b[39m\u001b[38;5;124m\"\u001b[39m\u001b[38;5;124mnamrata\u001b[39m\u001b[38;5;124m\"\u001b[39m)\n",
      "\u001b[1;31mNameError\u001b[0m: name 'inst' is not defined"
     ]
    }
   ],
   "source": [
    "inst(sname=\"shinde\",fname=\"namrata\")"
   ]
  },
  {
   "cell_type": "code",
   "execution_count": 18,
   "id": "06d8e147-fdf9-41ca-a997-29055657e442",
   "metadata": {},
   "outputs": [
    {
     "name": "stdout",
     "output_type": "stream",
     "text": [
      "my name is: Abc my age is: 22\n"
     ]
    }
   ],
   "source": [
    "# positinal argument\n",
    "def funca(name,age):\n",
    "    print(\"my name is:\",name,\"my age is:\",age)\n",
    "funca(\"Abc\",22)"
   ]
  },
  {
   "cell_type": "code",
   "execution_count": 19,
   "id": "2c676d47-dd04-418a-818f-13c16b184202",
   "metadata": {},
   "outputs": [
    {
     "name": "stdout",
     "output_type": "stream",
     "text": [
      "my name is: 22 my age is: Abc\n"
     ]
    }
   ],
   "source": [
    "funca(22,\"Abc\")"
   ]
  },
  {
   "cell_type": "code",
   "execution_count": null,
   "id": "f9dff831-83a1-4670-b9aa-d67bab0e1f32",
   "metadata": {},
   "outputs": [],
   "source": [
    "# Arbitary Arguments \n",
    "# *args\n",
    "# **kwagrs"
   ]
  },
  {
   "cell_type": "code",
   "execution_count": 20,
   "id": "e581eb7b-14be-4579-8719-f660373d01bc",
   "metadata": {},
   "outputs": [
    {
     "name": "stdout",
     "output_type": "stream",
     "text": [
      "python power bi\n"
     ]
    }
   ],
   "source": [
    "# *args\n",
    "def subject(sub,sub2):\n",
    "    print(sub,sub2)\n",
    "subject(\"python\",\"power bi\")"
   ]
  },
  {
   "cell_type": "code",
   "execution_count": 21,
   "id": "ee045c58-46ed-4bdb-abca-4199e51436ce",
   "metadata": {},
   "outputs": [
    {
     "name": "stdout",
     "output_type": "stream",
     "text": [
      "('python', 'Power bi', 'excel')\n"
     ]
    }
   ],
   "source": [
    "def sub(*args):\n",
    "    print(args)\n",
    "sub(\"python\",\"Power bi\",\"excel\")"
   ]
  },
  {
   "cell_type": "code",
   "execution_count": 22,
   "id": "3c3f7fb1-1b7e-45ee-bbca-69237bf52cdb",
   "metadata": {},
   "outputs": [
    {
     "name": "stdout",
     "output_type": "stream",
     "text": [
      "('car', 'bus')\n"
     ]
    }
   ],
   "source": [
    "def vehical(*args):\n",
    "    print(args)\n",
    "vehical(\"car\",\"bus\")"
   ]
  },
  {
   "cell_type": "code",
   "execution_count": 23,
   "id": "7c41f8c9-1ae9-474b-82f4-a62e0fe73f3c",
   "metadata": {},
   "outputs": [
    {
     "name": "stdout",
     "output_type": "stream",
     "text": [
      "python\n",
      "Power bi\n",
      "excel\n",
      "aws\n"
     ]
    }
   ],
   "source": [
    "def sub(*args):\n",
    "    for i in args:\n",
    "        print(i)\n",
    "sub(\"python\",\"Power bi\",\"excel\",\"aws\")"
   ]
  },
  {
   "cell_type": "code",
   "execution_count": 25,
   "id": "bbc4f20e-767f-446f-ab81-1c6d317c9ab2",
   "metadata": {},
   "outputs": [
    {
     "name": "stdout",
     "output_type": "stream",
     "text": [
      "car\n",
      "bus\n"
     ]
    }
   ],
   "source": [
    "def vehical(*args):\n",
    "    for i in args:\n",
    "          print(i)\n",
    "vehical(\"car\",\"bus\")"
   ]
  },
  {
   "cell_type": "code",
   "execution_count": 26,
   "id": "52eb8406-4696-4b54-9fee-14590c178c9d",
   "metadata": {},
   "outputs": [
    {
     "name": "stdin",
     "output_type": "stream",
     "text": [
      "Enter the subject: java\n",
      "Enter the subject: python\n",
      "Enter the subject: c\n",
      "Enter the subject: c++\n",
      "Enter the subject: html\n"
     ]
    },
    {
     "name": "stdout",
     "output_type": "stream",
     "text": [
      "html\n"
     ]
    }
   ],
   "source": [
    "def sub(*powq):\n",
    "    for i in powq:\n",
    "        print(i)\n",
    "i=1\n",
    "while i<=5:\n",
    "    user=input(\"Enter the subject:\")\n",
    "    i+=1\n",
    "sub(user)"
   ]
  },
  {
   "cell_type": "code",
   "execution_count": 27,
   "id": "85a79928-cead-4059-bc39-18019a942d39",
   "metadata": {},
   "outputs": [
    {
     "name": "stdin",
     "output_type": "stream",
     "text": [
      "Enter sub java\n",
      "Enter sub v\n",
      "Enter sub n\n",
      "Enter sub a\n",
      "Enter sub a\n"
     ]
    },
    {
     "name": "stdout",
     "output_type": "stream",
     "text": [
      "a\n"
     ]
    }
   ],
   "source": [
    "def sub(*name):\n",
    "    for i in name:\n",
    "        print(i)\n",
    "i=1\n",
    "while i<=5:\n",
    "    user=input(\"Enter sub\")\n",
    "    i+=1\n",
    "sub(user)"
   ]
  },
  {
   "cell_type": "code",
   "execution_count": 28,
   "id": "38eac9dd-a48b-439a-95d5-7e1f8c820dc6",
   "metadata": {},
   "outputs": [
    {
     "name": "stdout",
     "output_type": "stream",
     "text": [
      "{'fname': 'abz', 'sname': 'shj', 'lname': 'jkl'}\n"
     ]
    }
   ],
   "source": [
    "# **kwargs\n",
    "def fullname(**kwargs):\n",
    "    print(kwargs)\n",
    "fullname(fname=\"abz\",sname=\"shj\",lname=\"jkl\")"
   ]
  },
  {
   "cell_type": "code",
   "execution_count": 29,
   "id": "e6614eef-3629-43ac-a5f7-902768ce368a",
   "metadata": {},
   "outputs": [
    {
     "name": "stdout",
     "output_type": "stream",
     "text": [
      "fname abz\n",
      "sname shj\n",
      "lname jkl\n"
     ]
    }
   ],
   "source": [
    "def fullname(**di):\n",
    "    for key, val in di.items():\n",
    "        print(key,val)\n",
    "fullname(fname=\"abz\",sname=\"shj\",lname=\"jkl\")"
   ]
  },
  {
   "cell_type": "code",
   "execution_count": 30,
   "id": "7db0b522-4940-4651-b047-743c39408ffe",
   "metadata": {},
   "outputs": [
    {
     "name": "stdout",
     "output_type": "stream",
     "text": [
      "False\n",
      "True\n",
      "False\n"
     ]
    }
   ],
   "source": [
    "x=7\n",
    "y=8\n",
    "z=7\n",
    "print(x==y)\n",
    "print(x==z)\n",
    "print(x>y)"
   ]
  },
  {
   "cell_type": "code",
   "execution_count": 31,
   "id": "55aa4117-7a14-4fe7-8088-56fb4a0e02a0",
   "metadata": {},
   "outputs": [
    {
     "name": "stdout",
     "output_type": "stream",
     "text": [
      "It is true because of x less then y\n"
     ]
    }
   ],
   "source": [
    "if x<y:\n",
    "    print(\"It is true because of x less then y\")\n",
    "else:\n",
    "    print(\"false\")"
   ]
  },
  {
   "cell_type": "code",
   "execution_count": 32,
   "id": "09d29cbc-6bba-45e4-9025-49088084ff86",
   "metadata": {},
   "outputs": [
    {
     "name": "stdout",
     "output_type": "stream",
     "text": [
      "not any condition is true\n"
     ]
    }
   ],
   "source": [
    "if x>y:\n",
    "    print(\"wrong\")\n",
    "elif x==y:\n",
    "    print(\"wrong second\")\n",
    "else:\n",
    "    print(\"not any condition is true\")"
   ]
  },
  {
   "cell_type": "code",
   "execution_count": 33,
   "id": "a89c39ac-e4c3-45b8-9f97-f43addb7f029",
   "metadata": {},
   "outputs": [
    {
     "name": "stdout",
     "output_type": "stream",
     "text": [
      "it is eqaul beacuse of 7 is 7\n"
     ]
    }
   ],
   "source": [
    "if x>y:\n",
    "    print(\"right\")\n",
    "elif x==y:\n",
    "    print(\"wrong second\")\n",
    "elif x==z:\n",
    "    print(\"it is eqaul beacuse of 7 is 7\")\n",
    "else:\n",
    "    print(\"not any condition is true\")"
   ]
  },
  {
   "cell_type": "code",
   "execution_count": null,
   "id": "0306a401-647c-436e-80c5-62667c0464d2",
   "metadata": {},
   "outputs": [],
   "source": [
    "# Module\n",
    "# pip\n"
   ]
  },
  {
   "cell_type": "code",
   "execution_count": 34,
   "id": "0e102a65-618d-4211-a85e-04b42fc79fea",
   "metadata": {},
   "outputs": [
    {
     "name": "stdout",
     "output_type": "stream",
     "text": [
      "hello world\n"
     ]
    }
   ],
   "source": [
    "import Mod1\n",
    "Mod1.func()\n"
   ]
  },
  {
   "cell_type": "code",
   "execution_count": 35,
   "id": "3797b3a2-d088-417a-ab3a-55aac3c281c3",
   "metadata": {},
   "outputs": [
    {
     "name": "stdout",
     "output_type": "stream",
     "text": [
      "0.5016695656587618\n"
     ]
    }
   ],
   "source": [
    "# Random\n",
    "import random\n",
    "print(random.random())"
   ]
  },
  {
   "cell_type": "code",
   "execution_count": 36,
   "id": "09d3e8ed-4ea6-43bb-a9e6-eda3be9ea990",
   "metadata": {},
   "outputs": [
    {
     "name": "stdout",
     "output_type": "stream",
     "text": [
      "1\n"
     ]
    }
   ],
   "source": [
    "print(random.randint(1,3))"
   ]
  },
  {
   "cell_type": "code",
   "execution_count": 37,
   "id": "c3c84871-1d59-4b83-84e9-73b9f3d8e70d",
   "metadata": {},
   "outputs": [
    {
     "name": "stdout",
     "output_type": "stream",
     "text": [
      "5\n"
     ]
    }
   ],
   "source": [
    "print(random.randrange(1,10,2))  #odd no"
   ]
  },
  {
   "cell_type": "code",
   "execution_count": 38,
   "id": "4aba43dc-f165-4d08-b682-2d8484d6e5e1",
   "metadata": {},
   "outputs": [
    {
     "name": "stdout",
     "output_type": "stream",
     "text": [
      "6\n"
     ]
    }
   ],
   "source": [
    "print(random.randrange(0,10,2))  #even no"
   ]
  },
  {
   "cell_type": "code",
   "execution_count": 39,
   "id": "dec7e5e9-13c4-445c-a394-a065566c7ceb",
   "metadata": {},
   "outputs": [
    {
     "name": "stdout",
     "output_type": "stream",
     "text": [
      "Plan\n"
     ]
    }
   ],
   "source": [
    "list1=[\"bike\",\"Car\",\"train\",\"Bus\",\"Plan\"]\n",
    "\n",
    "print(random.choice(list1))"
   ]
  },
  {
   "cell_type": "code",
   "execution_count": 40,
   "id": "d5dafe14-a7fd-4b86-919a-3b57b03e0904",
   "metadata": {},
   "outputs": [
    {
     "name": "stdout",
     "output_type": "stream",
     "text": [
      "2024-11-12 11:42:03.026651\n"
     ]
    }
   ],
   "source": [
    "import datetime\n",
    "print(datetime.datetime.now())"
   ]
  },
  {
   "cell_type": "code",
   "execution_count": 41,
   "id": "b0bdcf11-8246-4b26-aaaa-1502e34c7ac1",
   "metadata": {},
   "outputs": [
    {
     "name": "stdout",
     "output_type": "stream",
     "text": [
      "2024-11-12\n"
     ]
    }
   ],
   "source": [
    "from datetime import date\n",
    "print(date.today())"
   ]
  },
  {
   "cell_type": "code",
   "execution_count": 42,
   "id": "cd1ba58b-6679-4eab-aff5-d7b69e6a2bbb",
   "metadata": {},
   "outputs": [
    {
     "name": "stdout",
     "output_type": "stream",
     "text": [
      "12\n"
     ]
    }
   ],
   "source": [
    "print(date.today().day)"
   ]
  },
  {
   "cell_type": "code",
   "execution_count": 43,
   "id": "6f2c8839-62bd-49c2-9428-1f4db573245f",
   "metadata": {},
   "outputs": [
    {
     "name": "stdout",
     "output_type": "stream",
     "text": [
      "11\n"
     ]
    }
   ],
   "source": [
    "print(date.today().month)"
   ]
  },
  {
   "cell_type": "code",
   "execution_count": 44,
   "id": "88ed5dcb-427b-4a33-b8b0-464ab791da34",
   "metadata": {},
   "outputs": [
    {
     "name": "stdout",
     "output_type": "stream",
     "text": [
      "2024\n"
     ]
    }
   ],
   "source": [
    "print(date.today().year)"
   ]
  },
  {
   "cell_type": "code",
   "execution_count": 45,
   "id": "5d327367-677a-427d-9d3e-887218e1b04c",
   "metadata": {},
   "outputs": [
    {
     "name": "stdout",
     "output_type": "stream",
     "text": [
      "11:43:53\n"
     ]
    }
   ],
   "source": [
    "import time\n",
    "print(time.strftime(\"%H:%M:%S\"))"
   ]
  },
  {
   "cell_type": "code",
   "execution_count": 2,
   "id": "359c6e96-25c7-4823-a4b1-94d16bba47ef",
   "metadata": {},
   "outputs": [
    {
     "ename": "NameError",
     "evalue": "name 'time' is not defined",
     "output_type": "error",
     "traceback": [
      "\u001b[1;31m---------------------------------------------------------------------------\u001b[0m",
      "\u001b[1;31mNameError\u001b[0m                                 Traceback (most recent call last)",
      "Cell \u001b[1;32mIn[2], line 1\u001b[0m\n\u001b[1;32m----> 1\u001b[0m \u001b[38;5;28mprint\u001b[39m(\u001b[43mtime\u001b[49m\u001b[38;5;241m.\u001b[39msleep(\u001b[38;5;241m60\u001b[39m))\n\u001b[0;32m      2\u001b[0m \u001b[38;5;28mprint\u001b[39m(time\u001b[38;5;241m.\u001b[39mctime())\n\u001b[0;32m      3\u001b[0m \u001b[38;5;28mprint\u001b[39m(time\u001b[38;5;241m.\u001b[39msleep(\u001b[38;5;241m60\u001b[39m))\n",
      "\u001b[1;31mNameError\u001b[0m: name 'time' is not defined"
     ]
    }
   ],
   "source": [
    "print(time.sleep(60))\n",
    "print(time.ctime())\n",
    "print(time.sleep(60))\n",
    "print(\"hello\")"
   ]
  },
  {
   "cell_type": "code",
   "execution_count": 1,
   "id": "f58154d3-1c1e-4635-81a3-39ebfe949d67",
   "metadata": {},
   "outputs": [
    {
     "name": "stdout",
     "output_type": "stream",
     "text": [
      "                                  2024\n",
      "\n",
      "      January                   February                   March\n",
      "Mo Tu We Th Fr Sa Su      Mo Tu We Th Fr Sa Su      Mo Tu We Th Fr Sa Su\n",
      " 1  2  3  4  5  6  7                1  2  3  4                   1  2  3\n",
      " 8  9 10 11 12 13 14       5  6  7  8  9 10 11       4  5  6  7  8  9 10\n",
      "15 16 17 18 19 20 21      12 13 14 15 16 17 18      11 12 13 14 15 16 17\n",
      "22 23 24 25 26 27 28      19 20 21 22 23 24 25      18 19 20 21 22 23 24\n",
      "29 30 31                  26 27 28 29               25 26 27 28 29 30 31\n",
      "\n",
      "       April                      May                       June\n",
      "Mo Tu We Th Fr Sa Su      Mo Tu We Th Fr Sa Su      Mo Tu We Th Fr Sa Su\n",
      " 1  2  3  4  5  6  7             1  2  3  4  5                      1  2\n",
      " 8  9 10 11 12 13 14       6  7  8  9 10 11 12       3  4  5  6  7  8  9\n",
      "15 16 17 18 19 20 21      13 14 15 16 17 18 19      10 11 12 13 14 15 16\n",
      "22 23 24 25 26 27 28      20 21 22 23 24 25 26      17 18 19 20 21 22 23\n",
      "29 30                     27 28 29 30 31            24 25 26 27 28 29 30\n",
      "\n",
      "        July                     August                  September\n",
      "Mo Tu We Th Fr Sa Su      Mo Tu We Th Fr Sa Su      Mo Tu We Th Fr Sa Su\n",
      " 1  2  3  4  5  6  7                1  2  3  4                         1\n",
      " 8  9 10 11 12 13 14       5  6  7  8  9 10 11       2  3  4  5  6  7  8\n",
      "15 16 17 18 19 20 21      12 13 14 15 16 17 18       9 10 11 12 13 14 15\n",
      "22 23 24 25 26 27 28      19 20 21 22 23 24 25      16 17 18 19 20 21 22\n",
      "29 30 31                  26 27 28 29 30 31         23 24 25 26 27 28 29\n",
      "                                                    30\n",
      "\n",
      "      October                   November                  December\n",
      "Mo Tu We Th Fr Sa Su      Mo Tu We Th Fr Sa Su      Mo Tu We Th Fr Sa Su\n",
      "    1  2  3  4  5  6                   1  2  3                         1\n",
      " 7  8  9 10 11 12 13       4  5  6  7  8  9 10       2  3  4  5  6  7  8\n",
      "14 15 16 17 18 19 20      11 12 13 14 15 16 17       9 10 11 12 13 14 15\n",
      "21 22 23 24 25 26 27      18 19 20 21 22 23 24      16 17 18 19 20 21 22\n",
      "28 29 30 31               25 26 27 28 29 30         23 24 25 26 27 28 29\n",
      "                                                    30 31\n",
      "\n"
     ]
    }
   ],
   "source": [
    "import calendar\n",
    "print(calendar.calendar(2024))"
   ]
  },
  {
   "cell_type": "code",
   "execution_count": 3,
   "id": "f93c1034-84d2-4167-aad2-9c50b8852b14",
   "metadata": {},
   "outputs": [
    {
     "name": "stdout",
     "output_type": "stream",
     "text": [
      "   November 2024\n",
      "Mo Tu We Th Fr Sa Su\n",
      "             1  2  3\n",
      " 4  5  6  7  8  9 10\n",
      "11 12 13 14 15 16 17\n",
      "18 19 20 21 22 23 24\n",
      "25 26 27 28 29 30\n",
      "\n"
     ]
    }
   ],
   "source": [
    "print(calendar.month(2024,11))"
   ]
  },
  {
   "cell_type": "code",
   "execution_count": 4,
   "id": "3fc493c6-9734-4932-ae09-dc02c63df8d3",
   "metadata": {},
   "outputs": [
    {
     "name": "stdout",
     "output_type": "stream",
     "text": [
      "2.8284271247461903\n"
     ]
    }
   ],
   "source": [
    "# math\n",
    "import math\n",
    "print(math.sqrt(8))"
   ]
  },
  {
   "cell_type": "code",
   "execution_count": 5,
   "id": "09366dad-db77-4e26-8441-84b7adea7902",
   "metadata": {},
   "outputs": [
    {
     "name": "stdout",
     "output_type": "stream",
     "text": [
      "<module 'math' (built-in)>\n"
     ]
    }
   ],
   "source": [
    "print(math)"
   ]
  },
  {
   "cell_type": "code",
   "execution_count": 6,
   "id": "15145b95-c079-4b19-b879-9821ccf3a398",
   "metadata": {},
   "outputs": [
    {
     "name": "stdout",
     "output_type": "stream",
     "text": [
      "8.0\n"
     ]
    }
   ],
   "source": [
    "print(math.pow(2,3))"
   ]
  },
  {
   "cell_type": "code",
   "execution_count": 7,
   "id": "b5dc4906-ff07-4fc4-9b38-9358bef0fb1f",
   "metadata": {},
   "outputs": [
    {
     "name": "stdout",
     "output_type": "stream",
     "text": [
      "4.0\n"
     ]
    }
   ],
   "source": [
    "print(math.pow(2,2))"
   ]
  },
  {
   "cell_type": "code",
   "execution_count": 8,
   "id": "8a64283b-849d-4cf8-a56a-f304c1025714",
   "metadata": {},
   "outputs": [
    {
     "name": "stdout",
     "output_type": "stream",
     "text": [
      "3.141592653589793\n"
     ]
    }
   ],
   "source": [
    "print(math.pi)"
   ]
  },
  {
   "cell_type": "code",
   "execution_count": 9,
   "id": "24c5583a-dff8-4762-94f6-1cef35b5ff8f",
   "metadata": {},
   "outputs": [
    {
     "name": "stdout",
     "output_type": "stream",
     "text": [
      "9\n"
     ]
    }
   ],
   "source": [
    "print(math.ceil(8.1))   #upper"
   ]
  },
  {
   "cell_type": "code",
   "execution_count": 10,
   "id": "5a58a611-02c8-423b-971d-1021ee2fabd3",
   "metadata": {},
   "outputs": [
    {
     "name": "stdout",
     "output_type": "stream",
     "text": [
      "8\n"
     ]
    }
   ],
   "source": [
    "print(math.floor(8.9))  #lower"
   ]
  },
  {
   "cell_type": "code",
   "execution_count": 11,
   "id": "ef7f0b1d-0277-4a82-b99e-3d84e8796381",
   "metadata": {},
   "outputs": [
    {
     "name": "stdout",
     "output_type": "stream",
     "text": [
      "64\n"
     ]
    }
   ],
   "source": [
    "print(round(64.40))"
   ]
  },
  {
   "cell_type": "code",
   "execution_count": 12,
   "id": "ff91a3e9-73ac-47ea-a2d6-6692521c4d9b",
   "metadata": {},
   "outputs": [
    {
     "name": "stdout",
     "output_type": "stream",
     "text": [
      "65\n"
     ]
    }
   ],
   "source": [
    "print(round(64.60))"
   ]
  },
  {
   "cell_type": "code",
   "execution_count": 13,
   "id": "175da13b-d900-4040-b754-828ee6869cb2",
   "metadata": {},
   "outputs": [
    {
     "name": "stdout",
     "output_type": "stream",
     "text": [
      "15\n"
     ]
    }
   ],
   "source": [
    "list1=[1,2,3,4,5]\n",
    "print(sum(list1))"
   ]
  },
  {
   "cell_type": "code",
   "execution_count": 14,
   "id": "2779846c-2007-444a-9839-31b7401b40bf",
   "metadata": {},
   "outputs": [
    {
     "name": "stdout",
     "output_type": "stream",
     "text": [
      "Requirement already satisfied: pandas in c:\\users\\infobyte computers\\lib\\site-packages (2.2.3)\n",
      "Requirement already satisfied: numpy>=1.26.0 in c:\\users\\infobyte computers\\lib\\site-packages (from pandas) (2.1.3)\n",
      "Requirement already satisfied: python-dateutil>=2.8.2 in c:\\users\\infobyte computers\\lib\\site-packages (from pandas) (2.9.0.post0)\n",
      "Requirement already satisfied: pytz>=2020.1 in c:\\users\\infobyte computers\\lib\\site-packages (from pandas) (2024.2)\n",
      "Requirement already satisfied: tzdata>=2022.7 in c:\\users\\infobyte computers\\lib\\site-packages (from pandas) (2024.1)\n",
      "Requirement already satisfied: six>=1.5 in c:\\users\\infobyte computers\\lib\\site-packages (from python-dateutil>=2.8.2->pandas) (1.16.0)\n",
      "Note: you may need to restart the kernel to use updated packages.\n"
     ]
    },
    {
     "name": "stderr",
     "output_type": "stream",
     "text": [
      "\n",
      "[notice] A new release of pip is available: 24.0 -> 24.3.1\n",
      "[notice] To update, run: python.exe -m pip install --upgrade pip\n"
     ]
    }
   ],
   "source": [
    "pip install pandas"
   ]
  },
  {
   "cell_type": "code",
   "execution_count": 2,
   "id": "e70080da-f266-4d92-96a1-1cbcdb5d3f69",
   "metadata": {},
   "outputs": [
    {
     "name": "stdout",
     "output_type": "stream",
     "text": [
      "Requirement already satisfied: numpy in c:\\users\\infobyte computers\\lib\\site-packages (2.1.3)\n",
      "Note: you may need to restart the kernel to use updated packages.\n"
     ]
    }
   ],
   "source": [
    "pip install numpy"
   ]
  },
  {
   "cell_type": "code",
   "execution_count": 3,
   "id": "68b10a22-b16f-4a28-a9ad-34980826944f",
   "metadata": {},
   "outputs": [
    {
     "name": "stdout",
     "output_type": "stream",
     "text": [
      "Requirement already satisfied: emoji in c:\\users\\infobyte computers\\lib\\site-packages (2.13.2)\n",
      "Note: you may need to restart the kernel to use updated packages.\n"
     ]
    }
   ],
   "source": [
    "pip install emoji"
   ]
  },
  {
   "cell_type": "code",
   "execution_count": 5,
   "id": "78476d93-9efb-4565-b616-b75f54c545cc",
   "metadata": {},
   "outputs": [
    {
     "name": "stdout",
     "output_type": "stream",
     "text": [
      "👍\n"
     ]
    }
   ],
   "source": [
    "import emoji\n",
    "print(emoji.emojize(':thumbs_up:'))"
   ]
  },
  {
   "cell_type": "code",
   "execution_count": 6,
   "id": "3bdb3b5c-7580-45a1-9a57-64568136293d",
   "metadata": {},
   "outputs": [
    {
     "name": "stdout",
     "output_type": "stream",
     "text": [
      "❤️\n"
     ]
    }
   ],
   "source": [
    "print(emoji.emojize(':red_heart:'))"
   ]
  },
  {
   "cell_type": "code",
   "execution_count": 22,
   "id": "a4df8414-d172-4e6c-a3e0-fcae5fefc3a4",
   "metadata": {},
   "outputs": [
    {
     "name": "stdin",
     "output_type": "stream",
     "text": [
      "Enter 1st no: 2\n",
      "Enter operator: +\n",
      "Enter 2nd no: 3\n"
     ]
    },
    {
     "name": "stdout",
     "output_type": "stream",
     "text": [
      "5\n",
      "This is cal prg\n"
     ]
    }
   ],
   "source": [
    "def cal(f,o,s):\n",
    "    \"\"\"This is cal prg\"\"\"\n",
    "    if o==\"+\":\n",
    "        return f+s\n",
    "    elif o==\"-\":\n",
    "        return f-s\n",
    "    elif o==\"*\":\n",
    "        return f*s\n",
    "    elif o==\"/\":\n",
    "        return f/s\n",
    "    else:\n",
    "        return \"Give correct input\"\n",
    "f=int(input(\"Enter 1st no:\"))\n",
    "o=input(\"Enter operator:\")\n",
    "s=int(input(\"Enter 2nd no:\"))\n",
    "print(cal(f,o,s))\n",
    "print(cal.__doc__)"
   ]
  },
  {
   "cell_type": "code",
   "execution_count": 9,
   "id": "eb7528d7-2d64-4191-a73a-97e72c02da25",
   "metadata": {},
   "outputs": [
    {
     "name": "stdin",
     "output_type": "stream",
     "text": [
      "Enter the first number: 2\n",
      "Enter the oprator number: +\n",
      "Enter the second number: 4\n"
     ]
    },
    {
     "name": "stdout",
     "output_type": "stream",
     "text": [
      "6\n",
      "This is calculator function\n"
     ]
    }
   ],
   "source": [
    "#Docstring\n",
    "def cal(f,o,s):\n",
    "    \"\"\"This is calculator function\"\"\"\n",
    "    if o==\"+\":\n",
    "        return f+s\n",
    "    elif o==\"-\":\n",
    "        return f-s\n",
    "    elif o==\"*\":\n",
    "        return f-s\n",
    "    elif o==\"/\":\n",
    "        return f-s\n",
    "    else:\n",
    "        return \"Give the correct input.\"\n",
    "f=int(input(\"Enter the first number:\"))\n",
    "o=input(\"Enter the oprator number:\")\n",
    "s=int(input(\"Enter the second number:\"))\n",
    "print(cal(f,o,s))\n",
    "print(cal.__doc__)"
   ]
  },
  {
   "cell_type": "code",
   "execution_count": 11,
   "id": "c396acdc-e780-4112-b943-7ffe15ffab70",
   "metadata": {},
   "outputs": [
    {
     "name": "stdout",
     "output_type": "stream",
     "text": [
      "A value is:8and B value is:5\n"
     ]
    }
   ],
   "source": [
    "#fstring\n",
    "a=8\n",
    "b=5\n",
    "print(f\"A value is:{a}and B value is:{b}\")"
   ]
  },
  {
   "cell_type": "code",
   "execution_count": 14,
   "id": "8c6a871b-d7a1-40b2-ba5b-ff8665c89bea",
   "metadata": {},
   "outputs": [
    {
     "name": "stdout",
     "output_type": "stream",
     "text": [
      "Hello world hello \n"
     ]
    }
   ],
   "source": [
    "string=\"hello\"\n",
    "print(f\"Hello world {string} \")"
   ]
  },
  {
   "cell_type": "code",
   "execution_count": 15,
   "id": "df11a8e6-2b80-4b30-8ea6-8f442cc659bb",
   "metadata": {},
   "outputs": [
    {
     "name": "stdout",
     "output_type": "stream",
     "text": [
      "Hello worldHELLO\n"
     ]
    }
   ],
   "source": [
    "print(f\"Hello world{string.upper()}\")"
   ]
  },
  {
   "cell_type": "code",
   "execution_count": 18,
   "id": "26389cbb-a4e9-4dc0-a04f-037861d3d42b",
   "metadata": {},
   "outputs": [
    {
     "name": "stdout",
     "output_type": "stream",
     "text": [
      "this is my short hand if else:false\n"
     ]
    }
   ],
   "source": [
    "print(f\"this is my short hand if else:{print(\"true\") if a<b else (\"false\")}\")"
   ]
  },
  {
   "cell_type": "code",
   "execution_count": 19,
   "id": "cd24e821-9e3e-4fb1-bb73-b97f5e8688b5",
   "metadata": {},
   "outputs": [
    {
     "name": "stdout",
     "output_type": "stream",
     "text": [
      "THis is infobyte institute.\n"
     ]
    }
   ],
   "source": [
    "print(f\"THis is infobyte institute.\")"
   ]
  },
  {
   "cell_type": "code",
   "execution_count": 9,
   "id": "bdb6293c-75f0-426f-b7a1-0f28329344a6",
   "metadata": {},
   "outputs": [
    {
     "name": "stdout",
     "output_type": "stream",
     "text": [
      "13\n"
     ]
    }
   ],
   "source": [
    "a=5\n",
    "b=8\n",
    "print(a^b )"
   ]
  },
  {
   "cell_type": "code",
   "execution_count": 15,
   "id": "9537beef-c428-4707-ab95-9417b941a9e4",
   "metadata": {},
   "outputs": [
    {
     "name": "stdout",
     "output_type": "stream",
     "text": [
      "-5\n"
     ]
    }
   ],
   "source": [
    "a=4\n",
    "print(~a)"
   ]
  },
  {
   "cell_type": "code",
   "execution_count": 16,
   "id": "50db4684-20cc-42fb-9767-31b0f0e29656",
   "metadata": {},
   "outputs": [
    {
     "name": "stdout",
     "output_type": "stream",
     "text": [
      "8\n"
     ]
    }
   ],
   "source": [
    "print(a<<1)"
   ]
  },
  {
   "cell_type": "code",
   "execution_count": 17,
   "id": "236853bb-4b92-48ca-a05a-1376f31f5f32",
   "metadata": {},
   "outputs": [
    {
     "name": "stdout",
     "output_type": "stream",
     "text": [
      "2\n"
     ]
    }
   ],
   "source": [
    "print(a>>1)"
   ]
  },
  {
   "cell_type": "code",
   "execution_count": 25,
   "id": "87a20ef6-6ca9-40ab-871b-2992ea2133ec",
   "metadata": {},
   "outputs": [
    {
     "name": "stdout",
     "output_type": "stream",
     "text": [
      "olleh\n"
     ]
    }
   ],
   "source": [
    "s=\"hello\"\n",
    "print(s[::-1])"
   ]
  },
  {
   "cell_type": "code",
   "execution_count": 20,
   "id": "74a2ddbb-f780-4f66-8d03-382dd665e7e6",
   "metadata": {},
   "outputs": [
    {
     "name": "stdout",
     "output_type": "stream",
     "text": [
      "\n"
     ]
    }
   ],
   "source": [
    "print(s[0:5:-1])"
   ]
  },
  {
   "cell_type": "code",
   "execution_count": 20,
   "id": "94775c02-c9c5-4b6e-9f4c-85c8486dad67",
   "metadata": {},
   "outputs": [
    {
     "name": "stdout",
     "output_type": "stream",
     "text": [
      "\n"
     ]
    }
   ],
   "source": [
    "#global and local variable"
   ]
  },
  {
   "cell_type": "code",
   "execution_count": 31,
   "id": "44abd7b8-d219-459e-936d-cb492cb0d049",
   "metadata": {},
   "outputs": [
    {
     "name": "stdout",
     "output_type": "stream",
     "text": [
      "15\n",
      "5\n",
      "15\n",
      "2.0\n"
     ]
    }
   ],
   "source": [
    "def calculator():\n",
    "    a=10\n",
    "    b=5\n",
    "    print(a+b)\n",
    "    print(a-b)\n",
    "    print(a+b)\n",
    "    print(a/b)\n",
    "calculator()"
   ]
  },
  {
   "cell_type": "code",
   "execution_count": 30,
   "id": "3fb9853f-bf18-4c95-9224-3aa0bea88096",
   "metadata": {},
   "outputs": [
    {
     "name": "stdout",
     "output_type": "stream",
     "text": [
      "hello world\n"
     ]
    }
   ],
   "source": [
    "def Func():\n",
    "    print(\"hello world\")\n",
    "Func()"
   ]
  },
  {
   "cell_type": "code",
   "execution_count": 32,
   "id": "5f2dfc6b-4f80-440c-80b4-85c7343cf6b2",
   "metadata": {},
   "outputs": [
    {
     "ename": "UnboundLocalError",
     "evalue": "cannot access local variable 'a' where it is not associated with a value",
     "output_type": "error",
     "traceback": [
      "\u001b[1;31m---------------------------------------------------------------------------\u001b[0m",
      "\u001b[1;31mUnboundLocalError\u001b[0m                         Traceback (most recent call last)",
      "Cell \u001b[1;32mIn[32], line 5\u001b[0m\n\u001b[0;32m      3\u001b[0m     a\u001b[38;5;241m=\u001b[39ma\u001b[38;5;241m+\u001b[39m\u001b[38;5;241m1\u001b[39m\n\u001b[0;32m      4\u001b[0m     \u001b[38;5;28mprint\u001b[39m(a)\n\u001b[1;32m----> 5\u001b[0m \u001b[43mfunc1\u001b[49m\u001b[43m(\u001b[49m\u001b[43m)\u001b[49m\n",
      "Cell \u001b[1;32mIn[32], line 3\u001b[0m, in \u001b[0;36mfunc1\u001b[1;34m()\u001b[0m\n\u001b[0;32m      2\u001b[0m \u001b[38;5;28;01mdef\u001b[39;00m \u001b[38;5;21mfunc1\u001b[39m():\n\u001b[1;32m----> 3\u001b[0m     a\u001b[38;5;241m=\u001b[39m\u001b[43ma\u001b[49m\u001b[38;5;241m+\u001b[39m\u001b[38;5;241m1\u001b[39m\n\u001b[0;32m      4\u001b[0m     \u001b[38;5;28mprint\u001b[39m(a)\n",
      "\u001b[1;31mUnboundLocalError\u001b[0m: cannot access local variable 'a' where it is not associated with a value"
     ]
    }
   ],
   "source": [
    "a=10\n",
    "def func1():\n",
    "    a=a+1\n",
    "    print(a)\n",
    "func1()\n"
   ]
  },
  {
   "cell_type": "code",
   "execution_count": 33,
   "id": "d0645da2-914b-4c61-be39-177ac53eb602",
   "metadata": {},
   "outputs": [
    {
     "name": "stdout",
     "output_type": "stream",
     "text": [
      "56\n"
     ]
    }
   ],
   "source": [
    "z=56    \n",
    "def func2():\n",
    "    print(z)\n",
    "func2()"
   ]
  },
  {
   "cell_type": "code",
   "execution_count": 34,
   "id": "691000f2-9829-4c7c-95d9-13b73f8c1ace",
   "metadata": {},
   "outputs": [
    {
     "name": "stdout",
     "output_type": "stream",
     "text": [
      "11\n"
     ]
    }
   ],
   "source": [
    "def func2():\n",
    "    z=10\n",
    "    z=z+1\n",
    "    print(z)\n",
    "func2()\n"
   ]
  },
  {
   "cell_type": "code",
   "execution_count": 35,
   "id": "b34013d3-7ae9-40cb-be3e-630911d3a77c",
   "metadata": {},
   "outputs": [
    {
     "name": "stdout",
     "output_type": "stream",
     "text": [
      "11\n"
     ]
    }
   ],
   "source": [
    "a=10\n",
    "def func1():\n",
    "    global a\n",
    "    a=a+1\n",
    "    print(a)\n",
    "func1()"
   ]
  },
  {
   "cell_type": "code",
   "execution_count": 36,
   "id": "e770d7cd-acdc-4fd9-a154-8e465291040f",
   "metadata": {},
   "outputs": [
    {
     "name": "stdout",
     "output_type": "stream",
     "text": [
      "100\n"
     ]
    },
    {
     "ename": "NameError",
     "evalue": "name 'v1' is not defined",
     "output_type": "error",
     "traceback": [
      "\u001b[1;31m---------------------------------------------------------------------------\u001b[0m",
      "\u001b[1;31mNameError\u001b[0m                                 Traceback (most recent call last)",
      "Cell \u001b[1;32mIn[36], line 5\u001b[0m\n\u001b[0;32m      3\u001b[0m     \u001b[38;5;28mprint\u001b[39m(v1)\n\u001b[0;32m      4\u001b[0m func3()\n\u001b[1;32m----> 5\u001b[0m \u001b[38;5;28mprint\u001b[39m(\u001b[43mv1\u001b[49m)\n",
      "\u001b[1;31mNameError\u001b[0m: name 'v1' is not defined"
     ]
    }
   ],
   "source": [
    "def func3():\n",
    "    v1=100\n",
    "    print(v1)\n",
    "func3()\n",
    "print(v1)"
   ]
  },
  {
   "cell_type": "code",
   "execution_count": 37,
   "id": "079d6e31-783d-4a91-bb86-626029cfc62b",
   "metadata": {},
   "outputs": [
    {
     "name": "stdout",
     "output_type": "stream",
     "text": [
      "100\n",
      "100\n"
     ]
    }
   ],
   "source": [
    "v2=100\n",
    "def func3():\n",
    "    print(v2)\n",
    "func3()\n",
    "print(v2)"
   ]
  },
  {
   "cell_type": "code",
   "execution_count": 38,
   "id": "63051fd3-3ba8-41f6-85a5-5ce4e14e3da8",
   "metadata": {},
   "outputs": [
    {
     "name": "stdout",
     "output_type": "stream",
     "text": [
      "21\n",
      "25\n"
     ]
    }
   ],
   "source": [
    "v3=20\n",
    "def func4():\n",
    "    global v3\n",
    "    v3=v3+1\n",
    "    print(v3)\n",
    "func4()\n",
    "v3=v3+4\n",
    "print(v3)"
   ]
  },
  {
   "cell_type": "code",
   "execution_count": 39,
   "id": "baa4b622-6412-4fab-aae9-ce4ac81ac47e",
   "metadata": {},
   "outputs": [
    {
     "name": "stdout",
     "output_type": "stream",
     "text": [
      "30\n",
      "25\n"
     ]
    }
   ],
   "source": [
    "var=25     #global \n",
    "def function():\n",
    "    var=30     #local \n",
    "    print(var)\n",
    "function()\n",
    "print(var)"
   ]
  },
  {
   "cell_type": "code",
   "execution_count": 40,
   "id": "3c73e643-d3c5-4f96-9ad7-e94d9abb6faf",
   "metadata": {},
   "outputs": [
    {
     "name": "stdout",
     "output_type": "stream",
     "text": [
      "25\n"
     ]
    }
   ],
   "source": [
    "def func(x):\n",
    "    print(x*x)\n",
    "func(5)"
   ]
  },
  {
   "cell_type": "code",
   "execution_count": null,
   "id": "9825e5bf-bc1f-4439-a4a5-bdbe63de5f17",
   "metadata": {},
   "outputs": [],
   "source": [
    "#lambda\n",
    "#syntax:\n",
    "#lambda arguments:expression"
   ]
  },
  {
   "cell_type": "code",
   "execution_count": 7,
   "id": "cec82e35-cd60-4416-9337-74c5b03f623c",
   "metadata": {},
   "outputs": [
    {
     "name": "stdout",
     "output_type": "stream",
     "text": [
      "16\n"
     ]
    }
   ],
   "source": [
    "v=lambda x:x*x\n",
    "print(v(4))"
   ]
  },
  {
   "cell_type": "code",
   "execution_count": 8,
   "id": "bd7bbeee-cf7d-44c0-b65e-aa27388b21f9",
   "metadata": {},
   "outputs": [
    {
     "name": "stdout",
     "output_type": "stream",
     "text": [
      "9\n"
     ]
    }
   ],
   "source": [
    "var=lambda a,b,c:a+b+c\n",
    "print(var(2,3,4))"
   ]
  },
  {
   "cell_type": "code",
   "execution_count": 9,
   "id": "f32c77b5-110b-49ee-8c0b-4781ddd9d97a",
   "metadata": {},
   "outputs": [
    {
     "name": "stdout",
     "output_type": "stream",
     "text": [
      "12\n"
     ]
    }
   ],
   "source": [
    "def var1(a,b,c=7):\n",
    "    print(a+b+c)\n",
    "var1(2,3)"
   ]
  },
  {
   "cell_type": "code",
   "execution_count": 11,
   "id": "203a7af1-1164-46a5-b42c-2ad14ac40921",
   "metadata": {},
   "outputs": [
    {
     "ename": "NameError",
     "evalue": "name 'a' is not defined",
     "output_type": "error",
     "traceback": [
      "\u001b[1;31m---------------------------------------------------------------------------\u001b[0m",
      "\u001b[1;31mNameError\u001b[0m                                 Traceback (most recent call last)",
      "Cell \u001b[1;32mIn[11], line 1\u001b[0m\n\u001b[1;32m----> 1\u001b[0m var\u001b[38;5;241m=\u001b[39m\u001b[38;5;28;01mlambda\u001b[39;00m a,b,c:a\u001b[38;5;241m+\u001b[39mb\u001b[38;5;241m+\u001b[39mc, \u001b[43ma\u001b[49m\u001b[38;5;241m*\u001b[39mb\n\u001b[0;32m      2\u001b[0m \u001b[38;5;28mprint\u001b[39m(var(\u001b[38;5;241m2\u001b[39m,\u001b[38;5;241m3\u001b[39m,\u001b[38;5;241m4\u001b[39m))\n",
      "\u001b[1;31mNameError\u001b[0m: name 'a' is not defined"
     ]
    }
   ],
   "source": [
    "var=lambda a,b,c:a+b+c, a*b\n",
    "print(var(2,3,4))"
   ]
  },
  {
   "cell_type": "code",
   "execution_count": 12,
   "id": "5d823857-8804-4eb2-8bd8-f2a05dafadee",
   "metadata": {},
   "outputs": [
    {
     "name": "stdout",
     "output_type": "stream",
     "text": [
      "12\n",
      "6\n"
     ]
    }
   ],
   "source": [
    "def var1(a,b,c=7):\n",
    "    print(a+b+c)\n",
    "    print(a*b)\n",
    "var1(2,3)"
   ]
  },
  {
   "cell_type": "code",
   "execution_count": 14,
   "id": "e1b17cc9-6087-4ea7-a81f-2d52349f8ad1",
   "metadata": {},
   "outputs": [
    {
     "name": "stdout",
     "output_type": "stream",
     "text": [
      "INSTITUTE\n"
     ]
    }
   ],
   "source": [
    "v2=lambda string: string.upper()\n",
    "print(v2(\"institute\"))"
   ]
  },
  {
   "cell_type": "code",
   "execution_count": null,
   "id": "5e8c6433-2a9b-4ba4-b18d-b10bbd7ea3f8",
   "metadata": {},
   "outputs": [],
   "source": [
    "# map()\n",
    "# map(function,iterable)"
   ]
  },
  {
   "cell_type": "code",
   "execution_count": 17,
   "id": "0dc73926-8026-45f4-87a6-0518a7965bb3",
   "metadata": {},
   "outputs": [
    {
     "name": "stdout",
     "output_type": "stream",
     "text": [
      "<map object at 0x000002AF81E85E40>\n"
     ]
    }
   ],
   "source": [
    "li=[1,2,3,4,5]\n",
    "v=map(lambda x:x*2,li)\n",
    "print(v)"
   ]
  },
  {
   "cell_type": "code",
   "execution_count": 18,
   "id": "744f33ba-1ece-4c68-98cb-1c0ca59ac6e0",
   "metadata": {},
   "outputs": [
    {
     "name": "stdout",
     "output_type": "stream",
     "text": [
      "[2, 4, 6, 8, 10]\n"
     ]
    }
   ],
   "source": [
    "li=[1,2,3,4,5]\n",
    "v=list(map(lambda x:x*2,li))\n",
    "print(v)"
   ]
  },
  {
   "cell_type": "code",
   "execution_count": null,
   "id": "596fd150-df6d-4b4e-99b2-6548af546620",
   "metadata": {},
   "outputs": [],
   "source": [
    "# filter\n",
    "# filter(function,iterable)"
   ]
  },
  {
   "cell_type": "code",
   "execution_count": 20,
   "id": "e60a3f3c-1bbd-4e5b-8209-6e5101813f1f",
   "metadata": {},
   "outputs": [
    {
     "name": "stdout",
     "output_type": "stream",
     "text": [
      "<filter object at 0x000002AF81E86200>\n"
     ]
    }
   ],
   "source": [
    "li1=[1,2,3,4,5,6,7,8,9,10]\n",
    "v3=filter(lambda x:x%2==0,li1)\n",
    "print(v3)"
   ]
  },
  {
   "cell_type": "code",
   "execution_count": 21,
   "id": "acaa6e1d-75da-4f4f-8da5-96de9b05a613",
   "metadata": {},
   "outputs": [
    {
     "name": "stdout",
     "output_type": "stream",
     "text": [
      "[2, 4, 6, 8, 10]\n"
     ]
    }
   ],
   "source": [
    "li1=[1,2,3,4,5,6,7,8,9,10]\n",
    "v3=list(filter(lambda x:x%2==0,li1))\n",
    "print(v3)"
   ]
  },
  {
   "cell_type": "code",
   "execution_count": 22,
   "id": "00625ba0-7dfd-46d8-8c7e-684526d22eb5",
   "metadata": {},
   "outputs": [
    {
     "name": "stdout",
     "output_type": "stream",
     "text": [
      "[1, 3, 5, 7, 9]\n"
     ]
    }
   ],
   "source": [
    "li1=[1,2,3,4,5,6,7,8,9,10]\n",
    "v3=list(filter(lambda x:x%2!=0,li1))\n",
    "print(v3)"
   ]
  },
  {
   "cell_type": "code",
   "execution_count": 23,
   "id": "d27fb4b0-39a8-43ea-a7d7-4fb26d2a41be",
   "metadata": {},
   "outputs": [
    {
     "name": "stdout",
     "output_type": "stream",
     "text": [
      "[1, 2]\n"
     ]
    }
   ],
   "source": [
    "li1=[1,2,3,4,5,6,7,8,9,10]\n",
    "v3=list(filter(lambda x:x<3,li1))\n",
    "print(v3)"
   ]
  },
  {
   "cell_type": "code",
   "execution_count": 24,
   "id": "e0751ea9-fe5d-47ef-b600-f0510b5cb1c2",
   "metadata": {},
   "outputs": [
    {
     "name": "stdout",
     "output_type": "stream",
     "text": [
      "[6, 7, 8, 9, 10]\n"
     ]
    }
   ],
   "source": [
    "li1=[1,2,3,4,5,6,7,8,9,10]\n",
    "v3=list(filter(lambda x:x>5,li1))\n",
    "print(v3)"
   ]
  },
  {
   "cell_type": "code",
   "execution_count": null,
   "id": "96e05fcb-2519-4df8-aede-ce8f352314ff",
   "metadata": {},
   "outputs": [],
   "source": [
    "# reduce\n",
    "# from functools import reduce\n",
    "# reduce(function,iterable)"
   ]
  },
  {
   "cell_type": "code",
   "execution_count": 27,
   "id": "b8bf7ca9-c44e-4ac1-b872-36a3a06c0b5d",
   "metadata": {},
   "outputs": [
    {
     "name": "stdout",
     "output_type": "stream",
     "text": [
      "15\n"
     ]
    }
   ],
   "source": [
    "li3=[1,2,3,4,5]\n",
    "from functools import reduce\n",
    "var1=reduce(lambda x,y:x+y,li3)\n",
    "print(var1)"
   ]
  },
  {
   "cell_type": "code",
   "execution_count": 28,
   "id": "a2530e9d-229c-4511-a71c-ca484db6bb5f",
   "metadata": {},
   "outputs": [
    {
     "name": "stdout",
     "output_type": "stream",
     "text": [
      "120\n"
     ]
    }
   ],
   "source": [
    "li4=[1,2,3,4,5]\n",
    "from functools import reduce\n",
    "v5=reduce(lambda x,y:x*y,li4)\n",
    "print(v5)"
   ]
  },
  {
   "cell_type": "code",
   "execution_count": 1,
   "id": "f3f39db2-3e1f-4aed-a54f-39430c50c04b",
   "metadata": {},
   "outputs": [
    {
     "name": "stdout",
     "output_type": "stream",
     "text": [
      "Requirement already satisfied: emojis in c:\\users\\infobyte computers\\lib\\site-packages (0.7.0)\n",
      "Note: you may need to restart the kernel to use updated packages.\n"
     ]
    }
   ],
   "source": [
    "pip install emoji\n",
    "\n"
   ]
  },
  {
   "cell_type": "code",
   "execution_count": 2,
   "id": "0791bf8a-6556-4653-b948-2d80ed9316d7",
   "metadata": {},
   "outputs": [
    {
     "name": "stdout",
     "output_type": "stream",
     "text": [
      "Requirement already satisfied: emojis in c:\\users\\infobyte computers\\lib\\site-packages (0.7.0)\n",
      "Note: you may need to restart the kernel to use updated packages.\n"
     ]
    }
   ],
   "source": [
    "pip install emojis\n"
   ]
  },
  {
   "cell_type": "code",
   "execution_count": 4,
   "id": "8aa42ef2-13ae-4229-add8-0b896816b117",
   "metadata": {},
   "outputs": [
    {
     "name": "stdout",
     "output_type": "stream",
     "text": [
      "🐍\n"
     ]
    }
   ],
   "source": [
    "import emoji\n",
    "print(emoji.emojize(':snake:'))"
   ]
  },
  {
   "cell_type": "code",
   "execution_count": null,
   "id": "fe931427-ac7c-4e3d-9de7-692c8ed503d6",
   "metadata": {},
   "outputs": [],
   "source": [
    "print(emoji)"
   ]
  },
  {
   "cell_type": "code",
   "execution_count": null,
   "id": "999d691a-b45d-4ae1-b31d-f835434de129",
   "metadata": {},
   "outputs": [],
   "source": [
    "# Exercise:- 4\n",
    "#Astrologer no\n",
    "\n",
    "user=int(input(\"Enter the number you want to print Star.\"))\n",
    "position=int(input(\"Enter the 0 to print tringle or enter the 1 to print tringle descnding order.\"))\n",
    "con=bool(position)\n",
    "\n",
    "if con==False:\n",
    "    i=1\n",
    "    while i<=user:\n",
    "        print(\"*\"*(i))\n",
    "        i+=1\n",
    "elif con==True:\n",
    "    i=1\n",
    "    while i<=user:\n",
    "        print(\"*\"*user)\n",
    "        user-=1\n"
   ]
  },
  {
   "cell_type": "code",
   "execution_count": 3,
   "id": "2c8de8f2-ef6d-4b38-bffd-cf1219f9f708",
   "metadata": {},
   "outputs": [
    {
     "name": "stdin",
     "output_type": "stream",
     "text": [
      "press 1 to finding the meaning,press 2 to update the dict 3\n"
     ]
    },
    {
     "name": "stdout",
     "output_type": "stream",
     "text": [
      "press the correct no\n"
     ]
    }
   ],
   "source": [
    "#English to hindi dict\n",
    "d={\"ball\":\"gend\",\"table\":\"mez\",\"pen\":\"kalam\",\"apple\":\"seb\",\"bat\":\"balla\",\"banana\":\"kela\",\"orange\":\"naarangee\"}\n",
    "user0=input(\"press 1 to finding the meaning,press 2 to update the dict\")\n",
    "if user0==\"1\":\n",
    "    user=input(\"Enter a key:\")\n",
    "    v=d.get(user)\n",
    "    print(\"Hindi meaning is\",v)\n",
    "elif user0==\"2\":\n",
    "    user1=input(\"Enter a key:\")\n",
    "    user3=input(\"Enter a value:\")\n",
    "    print(d.update({user1:user3}))\n",
    "    print(d)\n",
    "else:\n",
    "    print(\"press the correct no\")"
   ]
  },
  {
   "cell_type": "code",
   "execution_count": 2,
   "id": "db677886-70c3-4e4c-b5bd-cacde5a4ceb2",
   "metadata": {},
   "outputs": [
    {
     "name": "stdout",
     "output_type": "stream",
     "text": [
      "Requirement already satisfied: emojis in c:\\users\\infobyte computers\\lib\\site-packages (0.7.0)\n",
      "Note: you may need to restart the kernel to use updated packages.\n"
     ]
    }
   ],
   "source": [
    "pip install emojis"
   ]
  },
  {
   "cell_type": "code",
   "execution_count": 4,
   "id": "12a222e0-6771-4549-be6f-2166011c301e",
   "metadata": {},
   "outputs": [
    {
     "name": "stdin",
     "output_type": "stream",
     "text": [
      "Enter the number: 4\n",
      "Enter the number: 5\n"
     ]
    },
    {
     "name": "stdout",
     "output_type": "stream",
     "text": [
      "9\n"
     ]
    }
   ],
   "source": [
    "# try and except block\n",
    "no1=input(\"Enter the number:\")\n",
    "no2=input(\"Enter the number:\")\n",
    "print(int(no1)+int(no2))"
   ]
  },
  {
   "cell_type": "code",
   "execution_count": null,
   "id": "6b4a21b8-8be0-4416-b840-167611528c9c",
   "metadata": {},
   "outputs": [],
   "source": [
    "# syntex\n",
    "# try:\n",
    "#     # statement\n",
    "# except:\n",
    "    #statement"
   ]
  },
  {
   "cell_type": "code",
   "execution_count": 5,
   "id": "5e9434a8-7732-490b-bb28-9c82bb684018",
   "metadata": {},
   "outputs": [
    {
     "name": "stdout",
     "output_type": "stream",
     "text": [
      "hello\n"
     ]
    }
   ],
   "source": [
    "try:\n",
    "    print(a)\n",
    "except:\n",
    "    print(\"hello\")"
   ]
  },
  {
   "cell_type": "code",
   "execution_count": 7,
   "id": "5a4374a7-e987-4fab-baea-f238a2d9b522",
   "metadata": {},
   "outputs": [
    {
     "name": "stdin",
     "output_type": "stream",
     "text": [
      "Enter the number: 6\n",
      "Enter the number: hg\n"
     ]
    },
    {
     "name": "stdout",
     "output_type": "stream",
     "text": [
      "Enter the correct value\n"
     ]
    }
   ],
   "source": [
    "try:\n",
    "    no1=input(\"Enter the number:\")\n",
    "    no2=input(\"Enter the number:\")\n",
    "    print(int(no1)+int(no2))\n",
    "except:\n",
    "    print(\"Enter the correct value\")"
   ]
  },
  {
   "cell_type": "code",
   "execution_count": 8,
   "id": "39bc5ec4-f25b-4306-8f16-b47e2af9108c",
   "metadata": {},
   "outputs": [
    {
     "ename": "SyntaxError",
     "evalue": "unterminated string literal (detected at line 2) (2705570088.py, line 2)",
     "output_type": "error",
     "traceback": [
      "\u001b[1;36m  Cell \u001b[1;32mIn[8], line 2\u001b[1;36m\u001b[0m\n\u001b[1;33m    print(\"Hello)\u001b[0m\n\u001b[1;37m          ^\u001b[0m\n\u001b[1;31mSyntaxError\u001b[0m\u001b[1;31m:\u001b[0m unterminated string literal (detected at line 2)\n"
     ]
    }
   ],
   "source": [
    "try:\n",
    "    print(\"Hello)\n",
    "except:\n",
    "    print(\"Error\")"
   ]
  },
  {
   "cell_type": "code",
   "execution_count": 9,
   "id": "c42655f0-2af1-4a26-b15b-668117c750c0",
   "metadata": {},
   "outputs": [
    {
     "name": "stdin",
     "output_type": "stream",
     "text": [
      "Enter the Decimal Number 6\n"
     ]
    },
    {
     "name": "stdout",
     "output_type": "stream",
     "text": [
      "6.0\n"
     ]
    }
   ],
   "source": [
    "var=float(input(\"Enter the Decimal Number\"))\n",
    "print(var)"
   ]
  },
  {
   "cell_type": "code",
   "execution_count": 11,
   "id": "ac7d1a77-101a-4b6a-862a-87bf1c51550a",
   "metadata": {},
   "outputs": [
    {
     "name": "stdin",
     "output_type": "stream",
     "text": [
      "Enter the Decimal Number f\n"
     ]
    },
    {
     "name": "stdout",
     "output_type": "stream",
     "text": [
      "check your input value again\n"
     ]
    }
   ],
   "source": [
    "try:\n",
    "    var=float(input(\"Enter the Decimal Number\"))\n",
    "    print(var)\n",
    "except:\n",
    "    print(\"check your input value again\")"
   ]
  },
  {
   "cell_type": "code",
   "execution_count": 14,
   "id": "6880bc2b-7360-426e-9584-4694d0e4db1d",
   "metadata": {},
   "outputs": [
    {
     "name": "stdin",
     "output_type": "stream",
     "text": [
      "Enter the Decimal Number 4\n"
     ]
    },
    {
     "name": "stdout",
     "output_type": "stream",
     "text": [
      "4.0\n",
      "good\n"
     ]
    }
   ],
   "source": [
    "# try,except and else\n",
    "try:\n",
    "    var=float(input(\"Enter the Decimal Number\"))\n",
    "    print(var)\n",
    "except:\n",
    "    print(\"check your input value again\")\n",
    "else:\n",
    "    print(\"good\")"
   ]
  },
  {
   "cell_type": "code",
   "execution_count": 16,
   "id": "ecf32d85-9148-411d-bef7-aec66d2fb301",
   "metadata": {},
   "outputs": [
    {
     "name": "stdout",
     "output_type": "stream",
     "text": [
      "error\n"
     ]
    }
   ],
   "source": [
    "try:\n",
    "    print(\"hello\")\n",
    "except:\n",
    "    print(\"error\")\n",
    "else:\n",
    "    print(\"world\")"
   ]
  },
  {
   "cell_type": "code",
   "execution_count": 17,
   "id": "2efd5b7c-eea2-441b-af38-52f93f12e841",
   "metadata": {},
   "outputs": [
    {
     "name": "stdout",
     "output_type": "stream",
     "text": [
      "hello\n",
      "world\n",
      "institute\n"
     ]
    }
   ],
   "source": [
    "# finally\n",
    "try:\n",
    "    print(\"hello\")\n",
    "except:\n",
    "    print(\"error\")\n",
    "else:\n",
    "    print(\"world\")\n",
    "finally:\n",
    "    print(\"institute\")\n"
   ]
  },
  {
   "cell_type": "code",
   "execution_count": 18,
   "id": "b3d2f041-e91a-4238-b8a2-9048b9f1ad48",
   "metadata": {},
   "outputs": [
    {
     "name": "stdin",
     "output_type": "stream",
     "text": [
      "Enter the number: 5\n",
      "Enter the number: 6\n"
     ]
    },
    {
     "name": "stdout",
     "output_type": "stream",
     "text": [
      "11\n",
      "your task is Executed.\n"
     ]
    }
   ],
   "source": [
    "try:\n",
    "    no1=input(\"Enter the number:\")\n",
    "    no2=input(\"Enter the number:\")\n",
    "    print(int(no1)+int(no2))\n",
    "except:\n",
    "    print(\"Enter the correct Integer value.\")\n",
    "finally:\n",
    "    print(\"your task is Executed.\")"
   ]
  },
  {
   "cell_type": "code",
   "execution_count": 19,
   "id": "cc4551d9-9b1e-4587-880c-022f9d1cb3d1",
   "metadata": {},
   "outputs": [
    {
     "name": "stdout",
     "output_type": "stream",
     "text": [
      "17\n"
     ]
    }
   ],
   "source": [
    "try:\n",
    "    a=8\n",
    "    b=9\n",
    "    print(a+b)\n",
    "except:\n",
    "    print(\"Error\")"
   ]
  },
  {
   "cell_type": "code",
   "execution_count": 20,
   "id": "f7ed4659-9908-4bb5-aa92-b26f70ace8d8",
   "metadata": {},
   "outputs": [
    {
     "name": "stdin",
     "output_type": "stream",
     "text": [
      "guess the no between 1 to 10 n\n"
     ]
    },
    {
     "name": "stdout",
     "output_type": "stream",
     "text": [
      "Some ERrror Check Again.....\n"
     ]
    }
   ],
   "source": [
    "try:\n",
    "    import random\n",
    "    i=1\n",
    "    img=random.randint(1,10)\n",
    "    while i<=3:\n",
    "        user=(int(input(\"guess the no between 1 to 10\")))\n",
    "        if user==img:\n",
    "            print(\"congrats , you win\")\n",
    "            break\n",
    "        elif user<img:\n",
    "            print(\"you select the min no\")\n",
    "        elif user>img:\n",
    "            print(\"you select max no\")\n",
    "        else:\n",
    "            print(\"wrong input\")\n",
    "        print(\"you have\",3-i,\"no of guesses\")\n",
    "        i+=1\n",
    "    if i>3:\n",
    "        print(\"game over,soory\")\n",
    "except:\n",
    "    print(\"Some ERrror Check Again.....\")"
   ]
  },
  {
   "cell_type": "code",
   "execution_count": null,
   "id": "d0a12366-2085-4cc3-a4cc-853d94399f75",
   "metadata": {},
   "outputs": [],
   "source": [
    "# File handling"
   ]
  },
  {
   "cell_type": "code",
   "execution_count": 1,
   "id": "d8a66bdd-f609-490e-a452-e2e56c145b0a",
   "metadata": {},
   "outputs": [
    {
     "name": "stdout",
     "output_type": "stream",
     "text": [
      "C:\\Users\\INFOBYTE COMPUTERS\n"
     ]
    }
   ],
   "source": [
    "import os\n",
    "print(os.getcwd())"
   ]
  },
  {
   "cell_type": "code",
   "execution_count": 3,
   "id": "cc8386b1-4fb3-4f6a-8708-0c657ad1baa6",
   "metadata": {},
   "outputs": [
    {
     "name": "stdout",
     "output_type": "stream",
     "text": [
      "<_io.TextIOWrapper name='C:\\\\Users\\\\INFOBYTE COMPUTERS\\\\Desktop\\\\Python1.txt' mode='r' encoding='cp1252'>\n"
     ]
    }
   ],
   "source": [
    "var=open(\"C:\\\\Users\\\\INFOBYTE COMPUTERS\\\\Desktop\\\\Python1.txt\")\n",
    "print(var)"
   ]
  },
  {
   "cell_type": "code",
   "execution_count": 7,
   "id": "8dac0b6f-084b-46a3-9fae-c445087b7150",
   "metadata": {},
   "outputs": [
    {
     "name": "stdout",
     "output_type": "stream",
     "text": [
      "Hello world\n",
      "\n"
     ]
    }
   ],
   "source": [
    "var=open(\"C:\\\\Users\\\\INFOBYTE COMPUTERS\\\\Desktop\\\\Python1.txt\",\"r\")\n",
    "print(var.readline())\n",
    "var.close()"
   ]
  },
  {
   "cell_type": "code",
   "execution_count": 8,
   "id": "29427a83-7bf3-4312-9acc-b071b67d8d47",
   "metadata": {},
   "outputs": [
    {
     "name": "stdout",
     "output_type": "stream",
     "text": [
      "Hello world\n",
      "Hello world\n",
      "Hello world\n",
      "Hello world\n",
      "\n"
     ]
    }
   ],
   "source": [
    "var=open(\"C:\\\\Users\\\\INFOBYTE COMPUTERS\\\\Desktop\\\\Python1.txt\",\"r\")\n",
    "print(var.read())\n",
    "var.close()"
   ]
  },
  {
   "cell_type": "code",
   "execution_count": 9,
   "id": "5acb66ab-948f-4bd8-bc64-85949aa6f9fb",
   "metadata": {},
   "outputs": [
    {
     "name": "stdout",
     "output_type": "stream",
     "text": [
      "9\n"
     ]
    }
   ],
   "source": [
    "var=open(\"C:\\\\Users\\\\INFOBYTE COMPUTERS\\\\Desktop\\\\Python1.txt\",\"w\")\n",
    "print(var.write(\"Institute\"))\n",
    "var.close()"
   ]
  },
  {
   "cell_type": "code",
   "execution_count": 10,
   "id": "cc333c91-8ca7-4ca8-b9ab-c27d89585b73",
   "metadata": {},
   "outputs": [
    {
     "name": "stdout",
     "output_type": "stream",
     "text": [
      "Institute\n"
     ]
    }
   ],
   "source": [
    "var=open(\"C:\\\\Users\\\\INFOBYTE COMPUTERS\\\\Desktop\\\\Python1.txt\",\"r\")\n",
    "print(var.read())\n",
    "var.close()"
   ]
  },
  {
   "cell_type": "code",
   "execution_count": 11,
   "id": "803ac920-33eb-41c8-a663-d25fb8f62a64",
   "metadata": {},
   "outputs": [
    {
     "name": "stdout",
     "output_type": "stream",
     "text": [
      "5\n"
     ]
    }
   ],
   "source": [
    "var=open(\"C:\\\\Users\\\\INFOBYTE COMPUTERS\\\\Desktop\\\\Python1.txt\",\"a\")\n",
    "print(var.write(\"hello\"))\n",
    "var.close()"
   ]
  },
  {
   "cell_type": "code",
   "execution_count": 12,
   "id": "53c9d317-200b-4f37-9b6a-a117abd5c328",
   "metadata": {},
   "outputs": [
    {
     "name": "stdout",
     "output_type": "stream",
     "text": [
      "Institutehello\n"
     ]
    }
   ],
   "source": [
    "var=open(\"C:\\\\Users\\\\INFOBYTE COMPUTERS\\\\Desktop\\\\Python1.txt\",\"r\")\n",
    "print(var.read())\n",
    "var.close()"
   ]
  },
  {
   "cell_type": "code",
   "execution_count": 17,
   "id": "a2b8d2cf-c87b-4160-bd79-b783dce1f159",
   "metadata": {},
   "outputs": [
    {
     "name": "stdout",
     "output_type": "stream",
     "text": [
      "6\n"
     ]
    }
   ],
   "source": [
    "var=open(\"C:\\\\Users\\\\INFOBYTE COMPUTERS\\\\Desktop\\\\Python1.txt\",\"a\")\n",
    "print(var.write(\"\\nworld\"))\n",
    "var.close()"
   ]
  },
  {
   "cell_type": "code",
   "execution_count": 18,
   "id": "06046099-439b-4c78-b5b2-222dc449306b",
   "metadata": {},
   "outputs": [
    {
     "name": "stdout",
     "output_type": "stream",
     "text": [
      "Institutehello\\world\n",
      "world\n"
     ]
    }
   ],
   "source": [
    "var=open(\"C:\\\\Users\\\\INFOBYTE COMPUTERS\\\\Desktop\\\\Python1.txt\",\"r\")\n",
    "print(var.read())\n",
    "var.close()"
   ]
  },
  {
   "cell_type": "code",
   "execution_count": 22,
   "id": "2a37930c-16f2-4b20-99be-3add6bee9a04",
   "metadata": {},
   "outputs": [
    {
     "name": "stdout",
     "output_type": "stream",
     "text": [
      "Hello World\n",
      "\n"
     ]
    }
   ],
   "source": [
    "file=open(\"Python2.txt\",\"r\")\n",
    "print(file.readline())\n",
    "file.close()"
   ]
  },
  {
   "cell_type": "code",
   "execution_count": 23,
   "id": "d36fe73b-8193-4ddc-9bfb-7f25b2880b74",
   "metadata": {},
   "outputs": [
    {
     "name": "stdout",
     "output_type": "stream",
     "text": [
      "Hello World\n",
      "Hello World\n",
      "Hello World\n",
      "Hello World\n"
     ]
    }
   ],
   "source": [
    "file=open(\"Python2.txt\",\"r\")\n",
    "print(file.read())\n",
    "file.close()"
   ]
  },
  {
   "cell_type": "code",
   "execution_count": 25,
   "id": "cb6fae3d-96d6-4787-8466-6fe933fb2f49",
   "metadata": {},
   "outputs": [
    {
     "name": "stdout",
     "output_type": "stream",
     "text": [
      "6\n"
     ]
    }
   ],
   "source": [
    "file=open(\"Python2.txt\",\"a\")\n",
    "print(file.write(\"\\nworld\"))\n",
    "file.close()"
   ]
  },
  {
   "cell_type": "code",
   "execution_count": 26,
   "id": "5d53f1a9-63a4-4cf6-88e9-efa78773dd28",
   "metadata": {},
   "outputs": [
    {
     "name": "stdout",
     "output_type": "stream",
     "text": [
      "Hello World\n",
      "Hello World\n",
      "Hello World\n",
      "Hello World\n",
      "world\n"
     ]
    }
   ],
   "source": [
    "file=open(\"Python2.txt\",\"r\")\n",
    "print(file.read())\n",
    "file.close()"
   ]
  },
  {
   "cell_type": "code",
   "execution_count": 27,
   "id": "3d93606a-cc39-41d0-af83-7e8b721c66a3",
   "metadata": {},
   "outputs": [
    {
     "name": "stdout",
     "output_type": "stream",
     "text": [
      "6\n"
     ]
    }
   ],
   "source": [
    "file=open(\"Python2.txt\",\"w\")\n",
    "print(file.write(\"andjij\"))\n",
    "file.close()"
   ]
  },
  {
   "cell_type": "code",
   "execution_count": 28,
   "id": "75bd1464-ae9a-459e-9910-68d54e1a20ab",
   "metadata": {},
   "outputs": [
    {
     "name": "stdout",
     "output_type": "stream",
     "text": [
      "andjij\n"
     ]
    }
   ],
   "source": [
    "file=open(\"Python2.txt\",\"r\")\n",
    "print(file.readline())\n",
    "file.close()"
   ]
  },
  {
   "cell_type": "code",
   "execution_count": 29,
   "id": "ae9e1468-10bf-44b7-a364-c7b1d42a5fd7",
   "metadata": {},
   "outputs": [
    {
     "name": "stdout",
     "output_type": "stream",
     "text": [
      "<_io.TextIOWrapper name='python3.txt' mode='x' encoding='cp1252'>\n"
     ]
    }
   ],
   "source": [
    "file1=open(\"python3.txt\",\"x\")\n",
    "print(file1)"
   ]
  },
  {
   "cell_type": "code",
   "execution_count": 30,
   "id": "c3d8ce00-51ad-4c98-93ae-c3938f7893d0",
   "metadata": {},
   "outputs": [
    {
     "name": "stdout",
     "output_type": "stream",
     "text": [
      "\n"
     ]
    }
   ],
   "source": [
    "file1=open(\"python3.txt\",\"r\")\n",
    "print(file1.read())"
   ]
  },
  {
   "cell_type": "code",
   "execution_count": 31,
   "id": "9d3d1b1f-7417-4daa-82bb-386e1335a2c1",
   "metadata": {},
   "outputs": [
    {
     "name": "stdout",
     "output_type": "stream",
     "text": [
      "5\n"
     ]
    }
   ],
   "source": [
    "file1=open(\"python3.txt\",\"w\")\n",
    "print(file1.write(\"hello\"))\n",
    "file1.close()"
   ]
  },
  {
   "cell_type": "code",
   "execution_count": 32,
   "id": "5509dae2-78c8-4b35-8e30-7b9b6cc27327",
   "metadata": {},
   "outputs": [
    {
     "name": "stdout",
     "output_type": "stream",
     "text": [
      "hello\n"
     ]
    }
   ],
   "source": [
    "file1=open(\"python3.txt\",\"r\")\n",
    "print(file1.read())\n",
    "file1.close()"
   ]
  },
  {
   "cell_type": "code",
   "execution_count": 35,
   "id": "fec5aeec-1bc9-46fd-a461-b3702a239456",
   "metadata": {},
   "outputs": [
    {
     "name": "stdout",
     "output_type": "stream",
     "text": [
      "60\n"
     ]
    }
   ],
   "source": [
    "file1=open(\"python3.txt\",\"a\")\n",
    "print(file.write(\"\\nWorld\"*10))\n",
    "file.close()"
   ]
  },
  {
   "cell_type": "code",
   "execution_count": 37,
   "id": "5e2d3538-8471-4565-8faa-707628b0822c",
   "metadata": {},
   "outputs": [
    {
     "ename": "ValueError",
     "evalue": "I/O operation on closed file.",
     "output_type": "error",
     "traceback": [
      "\u001b[1;31m---------------------------------------------------------------------------\u001b[0m",
      "\u001b[1;31mValueError\u001b[0m                                Traceback (most recent call last)",
      "Cell \u001b[1;32mIn[37], line 2\u001b[0m\n\u001b[0;32m      1\u001b[0m file1\u001b[38;5;241m=\u001b[39m\u001b[38;5;28mopen\u001b[39m(\u001b[38;5;124m\"\u001b[39m\u001b[38;5;124mpython3.txt\u001b[39m\u001b[38;5;124m\"\u001b[39m,\u001b[38;5;124m\"\u001b[39m\u001b[38;5;124mr\u001b[39m\u001b[38;5;124m\"\u001b[39m)\n\u001b[1;32m----> 2\u001b[0m \u001b[38;5;28mprint\u001b[39m(\u001b[43mfile\u001b[49m\u001b[38;5;241;43m.\u001b[39;49m\u001b[43mread\u001b[49m\u001b[43m(\u001b[49m\u001b[43m)\u001b[49m)\n\u001b[0;32m      3\u001b[0m file\u001b[38;5;241m.\u001b[39mclose()\n",
      "\u001b[1;31mValueError\u001b[0m: I/O operation on closed file."
     ]
    }
   ],
   "source": [
    "file1=open(\"python3.txt\",\"r\")\n",
    "print(file.read())\n",
    "file.close()"
   ]
  },
  {
   "cell_type": "code",
   "execution_count": 38,
   "id": "99b92d48-ba72-4123-b94e-dadc4b0ae9ba",
   "metadata": {},
   "outputs": [
    {
     "name": "stdout",
     "output_type": "stream",
     "text": [
      "andjij\n"
     ]
    }
   ],
   "source": [
    "with open(\"python2.txt\",\"r\") as v:\n",
    "    print(v.read())\n",
    "    v.close()"
   ]
  },
  {
   "cell_type": "code",
   "execution_count": 39,
   "id": "f8829466-a89b-4c70-bb61-197308b9bd8b",
   "metadata": {},
   "outputs": [
    {
     "name": "stdout",
     "output_type": "stream",
     "text": [
      "hello\n"
     ]
    }
   ],
   "source": [
    "with open(\"python3.txt\",\"r\") as v:\n",
    "    print(v.read())\n",
    "    v.close()"
   ]
  },
  {
   "cell_type": "code",
   "execution_count": 41,
   "id": "440416e6-fc48-4fc5-901f-ba1468e5fa08",
   "metadata": {},
   "outputs": [
    {
     "ename": "FileNotFoundError",
     "evalue": "[WinError 2] The system cannot find the file specified: 'Python1.txt'",
     "output_type": "error",
     "traceback": [
      "\u001b[1;31m---------------------------------------------------------------------------\u001b[0m",
      "\u001b[1;31mFileNotFoundError\u001b[0m                         Traceback (most recent call last)",
      "Cell \u001b[1;32mIn[41], line 2\u001b[0m\n\u001b[0;32m      1\u001b[0m \u001b[38;5;28;01mimport\u001b[39;00m \u001b[38;5;21;01mos\u001b[39;00m\n\u001b[1;32m----> 2\u001b[0m \u001b[43mos\u001b[49m\u001b[43m \u001b[49m\u001b[38;5;241;43m.\u001b[39;49m\u001b[43mremove\u001b[49m\u001b[43m(\u001b[49m\u001b[38;5;124;43m\"\u001b[39;49m\u001b[38;5;124;43mPython1.txt\u001b[39;49m\u001b[38;5;124;43m\"\u001b[39;49m\u001b[43m)\u001b[49m\n",
      "\u001b[1;31mFileNotFoundError\u001b[0m: [WinError 2] The system cannot find the file specified: 'Python1.txt'"
     ]
    }
   ],
   "source": [
    "import os\n",
    "os .remove(\"Python1.txt\")"
   ]
  },
  {
   "cell_type": "code",
   "execution_count": 42,
   "id": "02330d0c-9265-4928-9905-90d0cca0da0b",
   "metadata": {},
   "outputs": [
    {
     "name": "stdout",
     "output_type": "stream",
     "text": [
      "file currently in used\n"
     ]
    }
   ],
   "source": [
    "try:\n",
    "    os .remove(\"Python1.txt\")\n",
    "except:\n",
    "    print(\"file currently in used\")\n",
    "    "
   ]
  },
  {
   "cell_type": "code",
   "execution_count": 43,
   "id": "f1d9b83e-2fff-465f-8be9-3e879a02ccc9",
   "metadata": {},
   "outputs": [],
   "source": [
    "os.remove(\"C:\\\\Users\\\\INFOBYTE COMPUTERS\\\\Desktop\\\\Python1.txt\")"
   ]
  },
  {
   "cell_type": "code",
   "execution_count": 44,
   "id": "699af33e-31fa-4d2a-8bfb-4f5c1c3abbdb",
   "metadata": {},
   "outputs": [
    {
     "name": "stdout",
     "output_type": "stream",
     "text": [
      "no fille\n"
     ]
    }
   ],
   "source": [
    "if os.path.exists(\"C:\\\\Users\\\\INFOBYTE COMPUTERS\\\\Desktop\\\\Python1.txt\"):\n",
    "    os.remove()\n",
    "else:\n",
    "    print(\"no fille\")"
   ]
  },
  {
   "cell_type": "code",
   "execution_count": 45,
   "id": "62e7c71b-fc6c-4dfe-b07b-4edfc629bec3",
   "metadata": {},
   "outputs": [
    {
     "name": "stdout",
     "output_type": "stream",
     "text": [
      "no fille\n"
     ]
    }
   ],
   "source": [
    "if os.path.exists(\"C:\\\\Users\\\\INFOBYTE COMPUTERS\\\\Desktop\\\\Python1.txt\"):\n",
    "    os.remove(\"C:\\\\Users\\\\INFOBYTE COMPUTERS\\\\Desktop\\\\Python1.txt\")\n",
    "else:\n",
    "    print(\"no fille\")"
   ]
  },
  {
   "cell_type": "code",
   "execution_count": null,
   "id": "6578fe6e-d105-44f1-8916-26d6be43ea36",
   "metadata": {},
   "outputs": [],
   "source": [
    "# Recursion"
   ]
  },
  {
   "cell_type": "code",
   "execution_count": 46,
   "id": "6c443a57-5b38-4723-8f55-566608aa6577",
   "metadata": {},
   "outputs": [
    {
     "name": "stdout",
     "output_type": "stream",
     "text": [
      "5\n",
      "4\n",
      "3\n",
      "2\n",
      "1\n",
      "stop\n"
     ]
    }
   ],
   "source": [
    "def count(n):\n",
    "    if n<=0:\n",
    "        print(\"stop\")\n",
    "\n",
    "    else:\n",
    "        print(n)\n",
    "        count(n-1)\n",
    "count(5)"
   ]
  },
  {
   "cell_type": "code",
   "execution_count": 47,
   "id": "5fffce34-d2b5-4098-97a8-cf31dd06d1e9",
   "metadata": {},
   "outputs": [
    {
     "data": {
      "text/plain": [
       "120"
      ]
     },
     "execution_count": 47,
     "metadata": {},
     "output_type": "execute_result"
    }
   ],
   "source": [
    "#  Factorial no using recursion\n",
    "def rec(n):\n",
    "    if n==0:\n",
    "        return 1\n",
    "    else:\n",
    "        return n*rec(n-1)\n",
    "rec(5)"
   ]
  },
  {
   "cell_type": "code",
   "execution_count": 48,
   "id": "c9ca08c1-5504-437b-8d95-8f5235daebd1",
   "metadata": {},
   "outputs": [
    {
     "name": "stdout",
     "output_type": "stream",
     "text": [
      "1\n",
      "2\n",
      "6\n",
      "24\n",
      "120\n"
     ]
    }
   ],
   "source": [
    "#  Factorial no using for loop\n",
    "n=1\n",
    "for i in range(1,6):\n",
    "    n=n*i\n",
    "    print(n)\n"
   ]
  },
  {
   "cell_type": "code",
   "execution_count": null,
   "id": "99dd6c56-374e-4049-ac64-5d358e8ee595",
   "metadata": {},
   "outputs": [],
   "source": []
  }
 ],
 "metadata": {
  "kernelspec": {
   "display_name": "Python 3 (ipykernel)",
   "language": "python",
   "name": "python3"
  },
  "language_info": {
   "codemirror_mode": {
    "name": "ipython",
    "version": 3
   },
   "file_extension": ".py",
   "mimetype": "text/x-python",
   "name": "python",
   "nbconvert_exporter": "python",
   "pygments_lexer": "ipython3",
   "version": "3.12.4"
  }
 },
 "nbformat": 4,
 "nbformat_minor": 5
}
